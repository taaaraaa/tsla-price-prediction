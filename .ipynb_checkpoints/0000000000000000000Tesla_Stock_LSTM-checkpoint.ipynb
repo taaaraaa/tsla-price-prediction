{
 "cells": [
  {
   "cell_type": "code",
   "execution_count": 1,
   "id": "b47a7510",
   "metadata": {},
   "outputs": [],
   "source": [
    "import sys \n",
    "import numpy as np \n",
    "from scipy.stats import randint\n",
    "import pandas as pd \n",
    "import matplotlib.pyplot as plt\n",
    "import seaborn as sns\n",
    "from sklearn.model_selection import train_test_split\n",
    "\n",
    "from sklearn.preprocessing import StandardScaler\n",
    "from sklearn.preprocessing import MinMaxScaler\n",
    "from sklearn.pipeline import Pipeline\n",
    "from sklearn.model_selection import cross_val_score\n",
    "from sklearn.feature_selection import SelectFromModel\n",
    "from sklearn.model_selection import KFold\n",
    "from sklearn import metrics # for the check the error and accuracy of the model\n",
    "from sklearn.metrics import mean_squared_error,r2_score\n",
    "\n",
    "# for Deep-learing:\n",
    "import keras\n",
    "from keras.layers import Dense\n",
    "from keras.models import Sequential\n",
    "from keras.utils import to_categorical\n",
    "from keras.optimizers import SGD \n",
    "from keras.callbacks import EarlyStopping\n",
    "from keras.utils import np_utils\n",
    "import itertools\n",
    "from keras.layers import LSTM\n",
    "from keras.layers.convolutional import Conv1D\n",
    "from keras.layers.convolutional import MaxPooling1D\n",
    "from keras.layers import Dropout\n",
    "\n",
    "from datetime import datetime"
   ]
  },
  {
   "cell_type": "code",
   "execution_count": 2,
   "id": "0f9d3042",
   "metadata": {
    "scrolled": true
   },
   "outputs": [
    {
     "data": {
      "text/plain": [
       "(2719, 8)"
      ]
     },
     "execution_count": 2,
     "metadata": {},
     "output_type": "execute_result"
    }
   ],
   "source": [
    "df = pd.read_csv('tesla_all_data_original_dates.csv', index_col='Date')\n",
    "df.shape"
   ]
  },
  {
   "cell_type": "code",
   "execution_count": 3,
   "id": "28aff64c",
   "metadata": {},
   "outputs": [
    {
     "data": {
      "text/html": [
       "<div>\n",
       "<style scoped>\n",
       "    .dataframe tbody tr th:only-of-type {\n",
       "        vertical-align: middle;\n",
       "    }\n",
       "\n",
       "    .dataframe tbody tr th {\n",
       "        vertical-align: top;\n",
       "    }\n",
       "\n",
       "    .dataframe thead th {\n",
       "        text-align: right;\n",
       "    }\n",
       "</style>\n",
       "<table border=\"1\" class=\"dataframe\">\n",
       "  <thead>\n",
       "    <tr style=\"text-align: right;\">\n",
       "      <th></th>\n",
       "      <th>Open</th>\n",
       "      <th>High</th>\n",
       "      <th>Low</th>\n",
       "      <th>Close</th>\n",
       "      <th>Adj Close</th>\n",
       "      <th>Volume</th>\n",
       "      <th>Change</th>\n",
       "      <th>Return</th>\n",
       "    </tr>\n",
       "    <tr>\n",
       "      <th>Date</th>\n",
       "      <th></th>\n",
       "      <th></th>\n",
       "      <th></th>\n",
       "      <th></th>\n",
       "      <th></th>\n",
       "      <th></th>\n",
       "      <th></th>\n",
       "      <th></th>\n",
       "    </tr>\n",
       "  </thead>\n",
       "  <tbody>\n",
       "    <tr>\n",
       "      <th>2010-06-29</th>\n",
       "      <td>1.266667</td>\n",
       "      <td>1.666667</td>\n",
       "      <td>1.169333</td>\n",
       "      <td>1.592667</td>\n",
       "      <td>1.592667</td>\n",
       "      <td>281494500</td>\n",
       "      <td>NaN</td>\n",
       "      <td>NaN</td>\n",
       "    </tr>\n",
       "    <tr>\n",
       "      <th>2010-06-30</th>\n",
       "      <td>1.719333</td>\n",
       "      <td>2.028000</td>\n",
       "      <td>1.553333</td>\n",
       "      <td>1.588667</td>\n",
       "      <td>1.588667</td>\n",
       "      <td>257806500</td>\n",
       "      <td>1.2168</td>\n",
       "      <td>21.679984</td>\n",
       "    </tr>\n",
       "  </tbody>\n",
       "</table>\n",
       "</div>"
      ],
      "text/plain": [
       "                Open      High       Low     Close  Adj Close     Volume  \\\n",
       "Date                                                                       \n",
       "2010-06-29  1.266667  1.666667  1.169333  1.592667   1.592667  281494500   \n",
       "2010-06-30  1.719333  2.028000  1.553333  1.588667   1.588667  257806500   \n",
       "\n",
       "            Change     Return  \n",
       "Date                           \n",
       "2010-06-29     NaN        NaN  \n",
       "2010-06-30  1.2168  21.679984  "
      ]
     },
     "execution_count": 3,
     "metadata": {},
     "output_type": "execute_result"
    }
   ],
   "source": [
    "df.head(2)"
   ]
  },
  {
   "cell_type": "code",
   "execution_count": 4,
   "id": "25d41a25",
   "metadata": {},
   "outputs": [],
   "source": [
    "data_set = df.loc[:, 'Adj Close'].values"
   ]
  },
  {
   "cell_type": "code",
   "execution_count": 5,
   "id": "77582357",
   "metadata": {},
   "outputs": [],
   "source": [
    "split=round(len(data_set)*.90)"
   ]
  },
  {
   "cell_type": "code",
   "execution_count": 6,
   "id": "9fe7cf98",
   "metadata": {},
   "outputs": [],
   "source": [
    "training_set=data_set[0:split]\n",
    "test_set=data_set[split:]"
   ]
  },
  {
   "cell_type": "code",
   "execution_count": 7,
   "id": "7252e582",
   "metadata": {
    "scrolled": true
   },
   "outputs": [
    {
     "data": {
      "text/plain": [
       "(2447,)"
      ]
     },
     "execution_count": 7,
     "metadata": {},
     "output_type": "execute_result"
    }
   ],
   "source": [
    "training_set.shape"
   ]
  },
  {
   "cell_type": "code",
   "execution_count": 8,
   "id": "7d4328c0",
   "metadata": {},
   "outputs": [],
   "source": [
    "training_set = training_set.reshape(-1, 1)"
   ]
  },
  {
   "cell_type": "code",
   "execution_count": 9,
   "id": "e47d3147",
   "metadata": {},
   "outputs": [],
   "source": [
    "from sklearn.preprocessing import MinMaxScaler\n",
    "sc = MinMaxScaler(feature_range = (0, 1))\n",
    "training_set_scaled = sc.fit_transform(training_set)"
   ]
  },
  {
   "cell_type": "code",
   "execution_count": 10,
   "id": "1fb3f9a6",
   "metadata": {},
   "outputs": [
    {
     "data": {
      "text/plain": [
       "(2447, 1)"
      ]
     },
     "execution_count": 10,
     "metadata": {},
     "output_type": "execute_result"
    }
   ],
   "source": [
    "training_set_scaled.shape"
   ]
  },
  {
   "cell_type": "code",
   "execution_count": 11,
   "id": "25619a1a",
   "metadata": {},
   "outputs": [],
   "source": [
    "X_train = []\n",
    "y_train = []\n",
    "for i in range(60, len(training_set)):\n",
    "    X_train.append(training_set_scaled[i-60:i, 0])\n",
    "    y_train.append(training_set_scaled[i, 0])\n",
    "X_train, y_train = np.array(X_train), np.array(y_train)\n",
    "\n",
    "X_train = np.reshape(X_train, (X_train.shape[0], X_train.shape[1], 1))"
   ]
  },
  {
   "cell_type": "code",
   "execution_count": 12,
   "id": "83b0377c",
   "metadata": {},
   "outputs": [
    {
     "data": {
      "text/plain": [
       "((2387, 60, 1), (2387,))"
      ]
     },
     "execution_count": 12,
     "metadata": {},
     "output_type": "execute_result"
    }
   ],
   "source": [
    "X_train.shape,y_train.shape"
   ]
  },
  {
   "cell_type": "code",
   "execution_count": 13,
   "id": "5c432be9",
   "metadata": {},
   "outputs": [],
   "source": [
    "# # Define the size of the validation set\n",
    "# val_size = int(len(X_train)*0.02)\n",
    "\n",
    "# # Split the data into training and validation sets\n",
    "# X_val = X_train[-val_size:]\n",
    "# y_val = y_train[-val_size:]\n",
    "# X_train = X_train[:-val_size]\n",
    "# y_train = y_train[:-val_size]"
   ]
  },
  {
   "cell_type": "code",
   "execution_count": null,
   "id": "404d3058",
   "metadata": {},
   "outputs": [
    {
     "name": "stdout",
     "output_type": "stream",
     "text": [
      "Epoch 1/100\n",
      "75/75 [==============================] - 8s 60ms/step - loss: 0.0068\n",
      "Epoch 2/100\n",
      "75/75 [==============================] - 5s 60ms/step - loss: 0.0023\n",
      "Epoch 3/100\n",
      "75/75 [==============================] - 4s 59ms/step - loss: 0.0020\n",
      "Epoch 4/100\n",
      "75/75 [==============================] - 4s 56ms/step - loss: 0.0018\n",
      "Epoch 5/100\n",
      "75/75 [==============================] - 5s 64ms/step - loss: 0.0013\n",
      "Epoch 6/100\n",
      "75/75 [==============================] - 5s 69ms/step - loss: 0.0012\n",
      "Epoch 7/100\n",
      "75/75 [==============================] - 5s 71ms/step - loss: 0.0012\n",
      "Epoch 8/100\n",
      "75/75 [==============================] - 5s 64ms/step - loss: 9.4423e-04\n",
      "Epoch 9/100\n",
      "75/75 [==============================] - 5s 64ms/step - loss: 0.0012\n",
      "Epoch 10/100\n",
      "75/75 [==============================] - 5s 66ms/step - loss: 9.4740e-04\n",
      "Epoch 11/100\n",
      "75/75 [==============================] - 6s 75ms/step - loss: 9.6162e-04\n",
      "Epoch 12/100\n",
      "75/75 [==============================] - 5s 70ms/step - loss: 0.0011\n",
      "Epoch 13/100\n",
      "75/75 [==============================] - 5s 70ms/step - loss: 8.7819e-04\n",
      "Epoch 14/100\n",
      "75/75 [==============================] - 6s 78ms/step - loss: 0.0013\n",
      "Epoch 15/100\n",
      "75/75 [==============================] - 6s 74ms/step - loss: 9.1391e-04\n",
      "Epoch 16/100\n",
      "75/75 [==============================] - 5s 72ms/step - loss: 7.6737e-04\n",
      "Epoch 17/100\n",
      "73/75 [============================>.] - ETA: 0s - loss: 9.2663e-04"
     ]
    }
   ],
   "source": [
    "regressor = Sequential()\n",
    "\n",
    "regressor.add(LSTM(units = 50, return_sequences = True, input_shape = (X_train.shape[1], 1)))\n",
    "regressor.add(Dropout(0.2))\n",
    "\n",
    "regressor.add(LSTM(units = 50, return_sequences = True))\n",
    "regressor.add(Dropout(0.2))\n",
    "\n",
    "regressor.add(LSTM(units = 50, return_sequences = True))\n",
    "regressor.add(Dropout(0.2))\n",
    "\n",
    "regressor.add(LSTM(units = 50))\n",
    "regressor.add(Dropout(0.2))\n",
    "\n",
    "regressor.add(Dense(units = 1))\n",
    "\n",
    "regressor.compile(optimizer = 'adam', loss = 'mean_squared_error')\n",
    "\n",
    "\n",
    "\n",
    "history = regressor.fit(X_train, y_train, epochs = 100, batch_size = 32)"
   ]
  },
  {
   "cell_type": "code",
   "execution_count": null,
   "id": "2d12dba9",
   "metadata": {},
   "outputs": [],
   "source": [
    "# plot history\n",
    "plt.clf\n",
    "plt.figure(figsize=(10,8))\n",
    "plt.plot(history.history['loss'], label='Train Loss')\n",
    "#plt.plot(history.history['val_loss'], label='Validaton Loss')\n",
    "plt.xlabel('Number of Epochs')\n",
    "plt.ylabel('Train and Test Loss')\n",
    "plt.title('Train and Test loss per epochs [Univariate]')\n",
    "plt.legend()\n",
    "plt.show()"
   ]
  },
  {
   "cell_type": "code",
   "execution_count": null,
   "id": "ed960900",
   "metadata": {},
   "outputs": [],
   "source": [
    "# list_of_val_loss=history.history['val_loss']\n",
    "# min_val_loss=min(history.history['val_loss'])\n",
    "# index_min_val_loss=list_of_val_loss.index(min_val_loss)\n",
    "# print(index_min_val_loss)"
   ]
  },
  {
   "cell_type": "code",
   "execution_count": null,
   "id": "25cd74cf",
   "metadata": {},
   "outputs": [],
   "source": [
    "list_of_loss=history.history['loss']\n",
    "min_loss=min(history.history['loss'])\n",
    "index_min_loss=list_of_loss.index(min_loss)\n",
    "print(index_min_loss)"
   ]
  },
  {
   "cell_type": "code",
   "execution_count": null,
   "id": "3dced5f0",
   "metadata": {},
   "outputs": [],
   "source": [
    "train_predict = regressor.predict(X_train)"
   ]
  },
  {
   "cell_type": "code",
   "execution_count": null,
   "id": "7a082d25",
   "metadata": {},
   "outputs": [],
   "source": [
    "y_train[-1]"
   ]
  },
  {
   "cell_type": "code",
   "execution_count": null,
   "id": "d6cb0e3c",
   "metadata": {},
   "outputs": [],
   "source": [
    "train_predict[-1]"
   ]
  },
  {
   "cell_type": "code",
   "execution_count": null,
   "id": "1a4f59de",
   "metadata": {},
   "outputs": [],
   "source": [
    "# Plot Train Data\n",
    "plt.rc(\"figure\", figsize=(14,8))\n",
    "plt.rcParams.update({'font.size': 16})\n",
    "plt.plot(y_train, label = 'Actual')\n",
    "plt.plot(train_predict, label = 'Predicted')\n",
    "plt.xlabel('Time in days')\n",
    "plt.ylabel('Adjusted Close price')\n",
    "plt.title('Tesla price prediction using LSTM - Train data')\n",
    "plt.legend()\n",
    "plt.show()"
   ]
  },
  {
   "cell_type": "markdown",
   "id": "a5023a3c",
   "metadata": {},
   "source": [
    "## Model Evaluation on Test Data"
   ]
  },
  {
   "cell_type": "code",
   "execution_count": null,
   "id": "3051e109",
   "metadata": {},
   "outputs": [],
   "source": [
    "len(data_set)"
   ]
  },
  {
   "cell_type": "code",
   "execution_count": null,
   "id": "b6360f9e",
   "metadata": {
    "scrolled": true
   },
   "outputs": [],
   "source": [
    "test_set.shape"
   ]
  },
  {
   "cell_type": "code",
   "execution_count": null,
   "id": "ccf65348",
   "metadata": {},
   "outputs": [],
   "source": [
    "inputs = data_set[len(data_set) - len(test_set) - 60:]"
   ]
  },
  {
   "cell_type": "code",
   "execution_count": null,
   "id": "5a121ab9",
   "metadata": {},
   "outputs": [],
   "source": []
  },
  {
   "cell_type": "code",
   "execution_count": null,
   "id": "c028fae4",
   "metadata": {},
   "outputs": [],
   "source": [
    "inputs.shape"
   ]
  },
  {
   "cell_type": "code",
   "execution_count": null,
   "id": "36e931e4",
   "metadata": {},
   "outputs": [],
   "source": [
    "inputs = inputs.reshape(-1,1)"
   ]
  },
  {
   "cell_type": "code",
   "execution_count": null,
   "id": "819e8f10",
   "metadata": {},
   "outputs": [],
   "source": [
    "inputs.shape"
   ]
  },
  {
   "cell_type": "code",
   "execution_count": null,
   "id": "e3ec3cfd",
   "metadata": {
    "scrolled": true
   },
   "outputs": [],
   "source": [
    "from sklearn.preprocessing import MinMaxScaler\n",
    "\n",
    "inputs = inputs.reshape(-1,1)\n",
    "inputs = sc.fit_transform(inputs)\n",
    "\n",
    "#sc.fit_transform(training_set)"
   ]
  },
  {
   "cell_type": "code",
   "execution_count": null,
   "id": "24c5e47d",
   "metadata": {},
   "outputs": [],
   "source": [
    "len(inputs)"
   ]
  },
  {
   "cell_type": "code",
   "execution_count": null,
   "id": "8c7f13c9",
   "metadata": {
    "scrolled": true
   },
   "outputs": [],
   "source": [
    "test_set.shape"
   ]
  },
  {
   "cell_type": "code",
   "execution_count": null,
   "id": "56763dd7",
   "metadata": {},
   "outputs": [],
   "source": [
    "X_test = []\n",
    "y_test=[]\n",
    "for i in range(60, len(inputs)):\n",
    "    X_test.append(inputs[i-60:i, 0])\n",
    "    y_test.append(inputs[i, 0])\n",
    "X_test,y_test = np.array(X_test),np.array(y_test)\n",
    "\n",
    "X_test = np.reshape(X_test, (X_test.shape[0], X_test.shape[1], 1))\n",
    "predicted_stock_price = regressor.predict(X_test)\n",
    "predicted_stock_price = sc.inverse_transform(predicted_stock_price)"
   ]
  },
  {
   "cell_type": "code",
   "execution_count": null,
   "id": "2c5beedb",
   "metadata": {
    "scrolled": true
   },
   "outputs": [],
   "source": [
    "predicted_stock_price.shape"
   ]
  },
  {
   "cell_type": "code",
   "execution_count": null,
   "id": "e99b168c",
   "metadata": {},
   "outputs": [],
   "source": [
    "y_test.shape"
   ]
  },
  {
   "cell_type": "code",
   "execution_count": null,
   "id": "743c6fff",
   "metadata": {
    "scrolled": false
   },
   "outputs": [],
   "source": [
    "plt.plot(test_set, color = 'black', label = 'TESLA Stock Price')\n",
    "plt.plot(predicted_stock_price.flatten(), color = 'green', label = 'Predicted TESLA Stock Price')\n",
    "plt.title('TESLA Stock Price Prediction')\n",
    "plt.xlabel('Time')\n",
    "plt.ylabel('TESLA Stock Price')\n",
    "plt.legend()\n",
    "plt.show()"
   ]
  },
  {
   "cell_type": "code",
   "execution_count": null,
   "id": "a837cbc3",
   "metadata": {},
   "outputs": [],
   "source": [
    "# calculate root mean squared error\n",
    "# RMSE between actual and predicted test values\n",
    "import math\n",
    "from sklearn.metrics import mean_squared_error\n",
    "\n",
    "testScore = math.sqrt(mean_squared_error(test_set[:], predicted_stock_price[:,0]))\n",
    "print('Root Mean Square Error: %.2f RMSE' % (testScore))"
   ]
  },
  {
   "cell_type": "code",
   "execution_count": null,
   "id": "6459c813",
   "metadata": {},
   "outputs": [],
   "source": [
    "train_residuals=y_train-train_predict.flatten()"
   ]
  },
  {
   "cell_type": "code",
   "execution_count": null,
   "id": "0eaae410",
   "metadata": {},
   "outputs": [],
   "source": [
    "test_residuals=test_set-predicted_stock_price.flatten()"
   ]
  },
  {
   "cell_type": "code",
   "execution_count": null,
   "id": "5dd116d3",
   "metadata": {},
   "outputs": [],
   "source": [
    "test_residuals.shape"
   ]
  },
  {
   "cell_type": "code",
   "execution_count": null,
   "id": "9fdff7a4",
   "metadata": {},
   "outputs": [],
   "source": [
    "predict = np.concatenate((y_train, test_set), axis=0)\n",
    "residuals=np.concatenate((train_residuals, test_residuals), axis=0)"
   ]
  },
  {
   "cell_type": "code",
   "execution_count": null,
   "id": "e2e1251c",
   "metadata": {},
   "outputs": [],
   "source": [
    "predict.shape, residuals.shape"
   ]
  },
  {
   "cell_type": "code",
   "execution_count": null,
   "id": "3f004105",
   "metadata": {},
   "outputs": [],
   "source": [
    "plt.plot(train_residuals)"
   ]
  },
  {
   "cell_type": "code",
   "execution_count": null,
   "id": "0808454f",
   "metadata": {},
   "outputs": [],
   "source": [
    "plt.plot(test_residuals)"
   ]
  },
  {
   "cell_type": "markdown",
   "id": "aeb7f1ab",
   "metadata": {},
   "source": [
    "## Testing the model on new data(out of scope of the project)"
   ]
  },
  {
   "cell_type": "code",
   "execution_count": null,
   "id": "2d4cd3f6",
   "metadata": {},
   "outputs": [],
   "source": [
    "from pandas_datareader import data\n",
    "import yfinance as yfin\n",
    "yfin.pdr_override()"
   ]
  },
  {
   "cell_type": "code",
   "execution_count": null,
   "id": "f435235e",
   "metadata": {},
   "outputs": [],
   "source": [
    "end_date = datetime.today().date()#.strftime('%Y-%m-%d')"
   ]
  },
  {
   "cell_type": "code",
   "execution_count": null,
   "id": "82da04da",
   "metadata": {
    "scrolled": true
   },
   "outputs": [],
   "source": [
    "print(end_date)"
   ]
  },
  {
   "cell_type": "code",
   "execution_count": null,
   "id": "1a8234cb",
   "metadata": {},
   "outputs": [],
   "source": [
    "start_date = end_date - pd.Timedelta(days=100)\n",
    "print(start_date)"
   ]
  },
  {
   "cell_type": "code",
   "execution_count": null,
   "id": "cc6caa3a",
   "metadata": {
    "scrolled": true
   },
   "outputs": [],
   "source": [
    "df = data.get_data_yahoo(\"TSLA\", start=start_date, end=end_date)"
   ]
  },
  {
   "cell_type": "code",
   "execution_count": null,
   "id": "5a63b84a",
   "metadata": {},
   "outputs": [],
   "source": [
    "df.tail(3)"
   ]
  },
  {
   "cell_type": "code",
   "execution_count": null,
   "id": "4daaf74f",
   "metadata": {},
   "outputs": [],
   "source": [
    "inputs=df['Adj Close'].values"
   ]
  },
  {
   "cell_type": "code",
   "execution_count": null,
   "id": "a2e3677e",
   "metadata": {},
   "outputs": [],
   "source": [
    "len(df)"
   ]
  },
  {
   "cell_type": "code",
   "execution_count": null,
   "id": "e865b248",
   "metadata": {},
   "outputs": [],
   "source": [
    "inputs = inputs.reshape(-1,1)\n",
    "inputs = sc.transform(inputs)"
   ]
  },
  {
   "cell_type": "code",
   "execution_count": null,
   "id": "aa6fd081",
   "metadata": {},
   "outputs": [],
   "source": [
    "len(inputs)"
   ]
  },
  {
   "cell_type": "code",
   "execution_count": null,
   "id": "f83dcb83",
   "metadata": {},
   "outputs": [],
   "source": [
    "len(df)"
   ]
  },
  {
   "cell_type": "code",
   "execution_count": null,
   "id": "41a94dd9",
   "metadata": {},
   "outputs": [],
   "source": [
    "X_test = []"
   ]
  },
  {
   "cell_type": "code",
   "execution_count": null,
   "id": "0c2ef0f7",
   "metadata": {},
   "outputs": [],
   "source": [
    "len(X_test)"
   ]
  },
  {
   "cell_type": "code",
   "execution_count": null,
   "id": "6c90536f",
   "metadata": {},
   "outputs": [],
   "source": [
    "X_test = []\n",
    "for i in range(60, len(inputs)+1):\n",
    "    X_test.append(inputs[i-60:i, 0])\n",
    "X_test = np.array(X_test)\n",
    "X_test = np.reshape(X_test, (X_test.shape[0], X_test.shape[1], 1))\n",
    "predicted_stock_price = regressor.predict(X_test)\n",
    "predicted_stock_price = sc.inverse_transform(predicted_stock_price)"
   ]
  },
  {
   "cell_type": "code",
   "execution_count": null,
   "id": "047c16e1",
   "metadata": {},
   "outputs": [],
   "source": [
    "newest_price_predicted=predicted_stock_price[-1]\n",
    "newest_price_predicted"
   ]
  },
  {
   "cell_type": "code",
   "execution_count": null,
   "id": "e204afb5",
   "metadata": {},
   "outputs": [],
   "source": [
    "new_df=df['Close'][-len(predicted_stock_price):]"
   ]
  },
  {
   "cell_type": "code",
   "execution_count": null,
   "id": "7c10d50f",
   "metadata": {},
   "outputs": [],
   "source": [
    "new_df=df.loc[:, ['Adj Close']].iloc[60:]"
   ]
  },
  {
   "cell_type": "code",
   "execution_count": null,
   "id": "da264b8c",
   "metadata": {},
   "outputs": [],
   "source": [
    "new_df['predicted_stock_price']=predicted_stock_price[:-1]"
   ]
  },
  {
   "cell_type": "code",
   "execution_count": null,
   "id": "ccec32e9",
   "metadata": {},
   "outputs": [],
   "source": [
    "new_df"
   ]
  },
  {
   "cell_type": "code",
   "execution_count": null,
   "id": "f16f896e",
   "metadata": {},
   "outputs": [],
   "source": [
    "end_date.strftime('%Y-%m-%d')"
   ]
  },
  {
   "cell_type": "code",
   "execution_count": null,
   "id": "460c6c5f",
   "metadata": {},
   "outputs": [],
   "source": [
    "new_df.loc[end_date.strftime('%Y-%m-%d')] = [165.65, newest_price]"
   ]
  },
  {
   "cell_type": "code",
   "execution_count": null,
   "id": "a489f31d",
   "metadata": {
    "scrolled": false
   },
   "outputs": [],
   "source": [
    "new_df"
   ]
  },
  {
   "cell_type": "code",
   "execution_count": null,
   "id": "4d858d85",
   "metadata": {
    "scrolled": false
   },
   "outputs": [],
   "source": [
    "len(df['Adj Close'].values)"
   ]
  },
  {
   "cell_type": "code",
   "execution_count": null,
   "id": "0056eae4",
   "metadata": {},
   "outputs": [],
   "source": [
    "plt.plot(new_df['Adj Close'],label = 'Real Price')\n",
    "plt.plot(new_df['predicted_stock_price'],label = 'Predicted Price')\n",
    "plt.legend()\n",
    "plt.show()"
   ]
  },
  {
   "cell_type": "code",
   "execution_count": null,
   "id": "a832cb23",
   "metadata": {},
   "outputs": [],
   "source": []
  }
 ],
 "metadata": {
  "kernelspec": {
   "display_name": "Python 3 (ipykernel)",
   "language": "python",
   "name": "python3"
  },
  "language_info": {
   "codemirror_mode": {
    "name": "ipython",
    "version": 3
   },
   "file_extension": ".py",
   "mimetype": "text/x-python",
   "name": "python",
   "nbconvert_exporter": "python",
   "pygments_lexer": "ipython3",
   "version": "3.9.13"
  }
 },
 "nbformat": 4,
 "nbformat_minor": 5
}
