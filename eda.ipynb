{
 "cells": [
  {
   "cell_type": "code",
   "execution_count": 1,
   "id": "667ae9aa",
   "metadata": {},
   "outputs": [],
   "source": [
    "import numpy as np\n",
    "import pandas as pd\n",
    "import matplotlib.pyplot as plt\n",
    "import seaborn as sns\n",
    "\n",
    "from datetime import datetime\n",
    "\n",
    "\n",
    "# import warnings\n",
    "# warnings.filterwarnings('ignore')"
   ]
  },
  {
   "cell_type": "code",
   "execution_count": 2,
   "id": "a5e6f268",
   "metadata": {
    "scrolled": false
   },
   "outputs": [],
   "source": [
    "tweets=pd.read_csv('TweetsElonMusk.csv')"
   ]
  },
  {
   "cell_type": "code",
   "execution_count": 3,
   "id": "54e91ffe",
   "metadata": {
    "scrolled": false
   },
   "outputs": [
    {
     "data": {
      "text/plain": [
       "array([False])"
      ]
     },
     "execution_count": 3,
     "metadata": {},
     "output_type": "execute_result"
    }
   ],
   "source": [
    "tweets.retweet.unique()"
   ]
  },
  {
   "cell_type": "code",
   "execution_count": 4,
   "id": "0bf44a88",
   "metadata": {},
   "outputs": [],
   "source": [
    "#Drop all the cols that have null values\n",
    "tweets.dropna(axis=1, how='all', inplace=True)"
   ]
  },
  {
   "cell_type": "code",
   "execution_count": 5,
   "id": "58eb6679",
   "metadata": {},
   "outputs": [
    {
     "data": {
      "text/plain": [
       "Index(['timezone', 'user_id', 'username', 'name', 'retweet'], dtype='object')"
      ]
     },
     "execution_count": 5,
     "metadata": {},
     "output_type": "execute_result"
    }
   ],
   "source": [
    "# find columns with only one unique value\n",
    "unique_cols = tweets.columns[tweets.nunique() == 1]\n",
    "\n",
    "unique_cols"
   ]
  },
  {
   "cell_type": "code",
   "execution_count": 6,
   "id": "b5939c8d",
   "metadata": {},
   "outputs": [],
   "source": [
    "#Dropping columns with one unique value\n",
    "tweets.drop(unique_cols, axis=1, inplace=True)"
   ]
  },
  {
   "cell_type": "code",
   "execution_count": 7,
   "id": "5aac619c",
   "metadata": {},
   "outputs": [],
   "source": [
    "#Removing redundant cols\n",
    "tweets.drop(['id','conversation_id','date','time'], axis=1, inplace=True)"
   ]
  },
  {
   "cell_type": "code",
   "execution_count": 8,
   "id": "a433d153",
   "metadata": {
    "scrolled": false
   },
   "outputs": [
    {
     "name": "stdout",
     "output_type": "stream",
     "text": [
      "<class 'pandas.core.frame.DataFrame'>\n",
      "RangeIndex: 12562 entries, 0 to 12561\n",
      "Data columns (total 16 columns):\n",
      " #   Column          Non-Null Count  Dtype \n",
      "---  ------          --------------  ----- \n",
      " 0   created_at      12562 non-null  object\n",
      " 1   tweet           12562 non-null  object\n",
      " 2   language        12562 non-null  object\n",
      " 3   mentions        12562 non-null  object\n",
      " 4   urls            12562 non-null  object\n",
      " 5   photos          12562 non-null  object\n",
      " 6   replies_count   12562 non-null  int64 \n",
      " 7   retweets_count  12562 non-null  int64 \n",
      " 8   likes_count     12562 non-null  int64 \n",
      " 9   hashtags        12562 non-null  object\n",
      " 10  cashtags        12562 non-null  object\n",
      " 11  link            12562 non-null  object\n",
      " 12  quote_url       410 non-null    object\n",
      " 13  video           12562 non-null  int64 \n",
      " 14  thumbnail       792 non-null    object\n",
      " 15  reply_to        12562 non-null  object\n",
      "dtypes: int64(4), object(12)\n",
      "memory usage: 1.5+ MB\n"
     ]
    }
   ],
   "source": [
    "tweets.info()"
   ]
  },
  {
   "cell_type": "code",
   "execution_count": 9,
   "id": "320cbb18",
   "metadata": {
    "scrolled": false
   },
   "outputs": [
    {
     "data": {
      "text/plain": [
       "array(['en', 'und', 'tl', 'de', 'uk', 'lt', 'et', 'sl', 'pt', 'ru', 'vi',\n",
       "       'cs', 'in', 'nl', 'tr', 'es', 'ca', 'pl', 'lv', 'no', 'da', 'fr',\n",
       "       'it', 'sv', 'ro', 'hi', 'ht', 'cy', 'ja', 'is', 'sr', 'hu', 'fi',\n",
       "       'eu'], dtype=object)"
      ]
     },
     "execution_count": 9,
     "metadata": {},
     "output_type": "execute_result"
    }
   ],
   "source": [
    "tweets['language'].unique()"
   ]
  },
  {
   "cell_type": "code",
   "execution_count": 10,
   "id": "fd24c997",
   "metadata": {},
   "outputs": [
    {
     "data": {
      "text/plain": [
       "en     11138\n",
       "und     1050\n",
       "tl       108\n",
       "fr        38\n",
       "de        35\n",
       "es        29\n",
       "in        24\n",
       "ru        15\n",
       "nl        14\n",
       "pt        11\n",
       "it        10\n",
       "pl         9\n",
       "et         9\n",
       "tr         7\n",
       "da         7\n",
       "ca         6\n",
       "lt         6\n",
       "cy         5\n",
       "hi         5\n",
       "no         4\n",
       "ro         4\n",
       "ht         4\n",
       "sv         3\n",
       "sl         3\n",
       "is         3\n",
       "ja         3\n",
       "fi         2\n",
       "cs         2\n",
       "vi         2\n",
       "lv         2\n",
       "uk         1\n",
       "sr         1\n",
       "hu         1\n",
       "eu         1\n",
       "Name: language, dtype: int64"
      ]
     },
     "execution_count": 10,
     "metadata": {},
     "output_type": "execute_result"
    }
   ],
   "source": [
    "tweets['language'].value_counts()"
   ]
  },
  {
   "cell_type": "code",
   "execution_count": 11,
   "id": "9c22a9d1",
   "metadata": {},
   "outputs": [],
   "source": [
    "#tweets are written in diff languages. As en is the most frequent one (above 90%), we only keep english tweets\n",
    "tweets = tweets[tweets['language'] == 'en']"
   ]
  },
  {
   "cell_type": "code",
   "execution_count": 12,
   "id": "bec0bb41",
   "metadata": {
    "scrolled": true
   },
   "outputs": [
    {
     "data": {
      "text/plain": [
       "(11138, 16)"
      ]
     },
     "execution_count": 12,
     "metadata": {},
     "output_type": "execute_result"
    }
   ],
   "source": [
    "tweets.shape"
   ]
  },
  {
   "cell_type": "code",
   "execution_count": 13,
   "id": "5d7541f4",
   "metadata": {},
   "outputs": [],
   "source": [
    "#Removing language cols\n",
    "tweets.drop(['language'], axis=1, inplace=True)"
   ]
  },
  {
   "cell_type": "code",
   "execution_count": 14,
   "id": "60dab192",
   "metadata": {},
   "outputs": [
    {
     "data": {
      "text/html": [
       "<div>\n",
       "<style scoped>\n",
       "    .dataframe tbody tr th:only-of-type {\n",
       "        vertical-align: middle;\n",
       "    }\n",
       "\n",
       "    .dataframe tbody tr th {\n",
       "        vertical-align: top;\n",
       "    }\n",
       "\n",
       "    .dataframe thead th {\n",
       "        text-align: right;\n",
       "    }\n",
       "</style>\n",
       "<table border=\"1\" class=\"dataframe\">\n",
       "  <thead>\n",
       "    <tr style=\"text-align: right;\">\n",
       "      <th></th>\n",
       "      <th>created_at</th>\n",
       "      <th>tweet</th>\n",
       "      <th>mentions</th>\n",
       "      <th>urls</th>\n",
       "      <th>photos</th>\n",
       "      <th>replies_count</th>\n",
       "      <th>retweets_count</th>\n",
       "      <th>likes_count</th>\n",
       "      <th>hashtags</th>\n",
       "      <th>cashtags</th>\n",
       "      <th>link</th>\n",
       "      <th>quote_url</th>\n",
       "      <th>video</th>\n",
       "      <th>thumbnail</th>\n",
       "      <th>reply_to</th>\n",
       "    </tr>\n",
       "  </thead>\n",
       "  <tbody>\n",
       "    <tr>\n",
       "      <th>0</th>\n",
       "      <td>2021-04-11 18:50:33 EEST</td>\n",
       "      <td>@vincent13031925 For now. Costs are decreasing...</td>\n",
       "      <td>[]</td>\n",
       "      <td>[]</td>\n",
       "      <td>[]</td>\n",
       "      <td>640</td>\n",
       "      <td>444</td>\n",
       "      <td>15281</td>\n",
       "      <td>[]</td>\n",
       "      <td>[]</td>\n",
       "      <td>https://twitter.com/elonmusk/status/1381273474...</td>\n",
       "      <td>NaN</td>\n",
       "      <td>0</td>\n",
       "      <td>NaN</td>\n",
       "      <td>[{'screen_name': 'vincent13031925', 'name': 'V...</td>\n",
       "    </tr>\n",
       "    <tr>\n",
       "      <th>1</th>\n",
       "      <td>2021-04-11 18:48:58 EEST</td>\n",
       "      <td>Love this beautiful shot</td>\n",
       "      <td>[]</td>\n",
       "      <td>[]</td>\n",
       "      <td>[]</td>\n",
       "      <td>2464</td>\n",
       "      <td>1517</td>\n",
       "      <td>71161</td>\n",
       "      <td>[]</td>\n",
       "      <td>[]</td>\n",
       "      <td>https://twitter.com/elonmusk/status/1381273076...</td>\n",
       "      <td>NaN</td>\n",
       "      <td>0</td>\n",
       "      <td>NaN</td>\n",
       "      <td>[]</td>\n",
       "    </tr>\n",
       "  </tbody>\n",
       "</table>\n",
       "</div>"
      ],
      "text/plain": [
       "                 created_at  \\\n",
       "0  2021-04-11 18:50:33 EEST   \n",
       "1  2021-04-11 18:48:58 EEST   \n",
       "\n",
       "                                               tweet mentions urls photos  \\\n",
       "0  @vincent13031925 For now. Costs are decreasing...       []   []     []   \n",
       "1                           Love this beautiful shot       []   []     []   \n",
       "\n",
       "   replies_count  retweets_count  likes_count hashtags cashtags  \\\n",
       "0            640             444        15281       []       []   \n",
       "1           2464            1517        71161       []       []   \n",
       "\n",
       "                                                link quote_url  video  \\\n",
       "0  https://twitter.com/elonmusk/status/1381273474...       NaN      0   \n",
       "1  https://twitter.com/elonmusk/status/1381273076...       NaN      0   \n",
       "\n",
       "  thumbnail                                           reply_to  \n",
       "0       NaN  [{'screen_name': 'vincent13031925', 'name': 'V...  \n",
       "1       NaN                                                 []  "
      ]
     },
     "execution_count": 14,
     "metadata": {},
     "output_type": "execute_result"
    }
   ],
   "source": [
    "tweets.head(2)"
   ]
  },
  {
   "cell_type": "markdown",
   "id": "f2947df7",
   "metadata": {},
   "source": [
    "### Exploring content of tweets"
   ]
  },
  {
   "cell_type": "code",
   "execution_count": 15,
   "id": "db9dee04",
   "metadata": {
    "scrolled": true
   },
   "outputs": [
    {
     "data": {
      "text/plain": [
       "28"
      ]
     },
     "execution_count": 15,
     "metadata": {},
     "output_type": "execute_result"
    }
   ],
   "source": [
    "tweets['hashtags'].nunique()"
   ]
  },
  {
   "cell_type": "code",
   "execution_count": 16,
   "id": "bd5abcd2",
   "metadata": {},
   "outputs": [
    {
     "data": {
      "text/plain": [
       "array(['[]', \"['resistanceisfutile']\", \"['justiceforgeorge']\",\n",
       "       \"['deletefacebook']\", \"['armageddon69']\", \"['moneygang']\",\n",
       "       \"['throwflamesresponsibly']\", \"['falconheavy']\",\n",
       "       \"['falconheavy', 'spacex']\", \"['yutu']\", \"['katiewoodencloak']\",\n",
       "       \"['teslatx']\", \"['hhgttg']\", \"['sxsw']\", \"['dragon']\", \"['sb47']\",\n",
       "       \"['zeitgeist2012']\", \"['awesomexmasgifts']\", \"['climate']\",\n",
       "       \"['occupymars']\", \"['grasshopperproject']\", \"['dragonlaunch']\",\n",
       "       \"['apspacechat']\", \"['occupymars', 'apspacechat']\",\n",
       "       \"['antarctica']\", \"['plutostamp']\", \"['whatcouldpossiblygowrong']\",\n",
       "       \"['mars']\"], dtype=object)"
      ]
     },
     "execution_count": 16,
     "metadata": {},
     "output_type": "execute_result"
    }
   ],
   "source": [
    "tweets['hashtags'].unique()"
   ]
  },
  {
   "cell_type": "code",
   "execution_count": 18,
   "id": "4b1dab0f",
   "metadata": {},
   "outputs": [
    {
     "data": {
      "text/plain": [
       "41"
      ]
     },
     "execution_count": 18,
     "metadata": {},
     "output_type": "execute_result"
    }
   ],
   "source": [
    "tweets['hashtags'].str.contains('[teslatx]').sum()"
   ]
  },
  {
   "cell_type": "code",
   "execution_count": 19,
   "id": "4f46516e",
   "metadata": {
    "scrolled": true
   },
   "outputs": [],
   "source": [
    "#tweets['tweet'].str.contains('tsla').sum()"
   ]
  },
  {
   "cell_type": "code",
   "execution_count": 28,
   "id": "740a7f23",
   "metadata": {
    "scrolled": true
   },
   "outputs": [
    {
     "data": {
      "text/plain": [
       "1876"
      ]
     },
     "execution_count": 28,
     "metadata": {},
     "output_type": "execute_result"
    }
   ],
   "source": [
    "# number of tweets that contain the word Tesla\n",
    "tweets['tweet'].str.contains('Tesla').sum()"
   ]
  },
  {
   "cell_type": "markdown",
   "id": "587f9050",
   "metadata": {},
   "source": [
    "### Making Time Zones consistent\n",
    "Tweets are made at different time zones, in the following codes, I am converting all the times to ET to be consistant with nasdaq time zone (Eastern Time Zone)"
   ]
  },
  {
   "cell_type": "code",
   "execution_count": 20,
   "id": "8f566f29",
   "metadata": {},
   "outputs": [
    {
     "data": {
      "text/plain": [
       "4117"
      ]
     },
     "execution_count": 20,
     "metadata": {},
     "output_type": "execute_result"
    }
   ],
   "source": [
    "tweets['created_at'].str.contains('EET').sum()"
   ]
  },
  {
   "cell_type": "code",
   "execution_count": 21,
   "id": "ba0d22a1",
   "metadata": {},
   "outputs": [
    {
     "data": {
      "text/plain": [
       "7021"
      ]
     },
     "execution_count": 21,
     "metadata": {},
     "output_type": "execute_result"
    }
   ],
   "source": [
    "tweets['created_at'].str.contains('EEST').sum()"
   ]
  },
  {
   "cell_type": "markdown",
   "id": "37deace5",
   "metadata": {},
   "source": [
    "-------------\n",
    "#### 1. Eastern European Summer Time (EEST)\n"
   ]
  },
  {
   "cell_type": "code",
   "execution_count": 22,
   "id": "fe719f24",
   "metadata": {
    "scrolled": false
   },
   "outputs": [],
   "source": [
    "#Eastern European Summer Time (EEST)\n",
    "tweets_EEST=tweets[tweets['created_at'].str.contains('EEST')].copy()"
   ]
  },
  {
   "cell_type": "code",
   "execution_count": 23,
   "id": "6e29970a",
   "metadata": {},
   "outputs": [
    {
     "data": {
      "text/html": [
       "<div>\n",
       "<style scoped>\n",
       "    .dataframe tbody tr th:only-of-type {\n",
       "        vertical-align: middle;\n",
       "    }\n",
       "\n",
       "    .dataframe tbody tr th {\n",
       "        vertical-align: top;\n",
       "    }\n",
       "\n",
       "    .dataframe thead th {\n",
       "        text-align: right;\n",
       "    }\n",
       "</style>\n",
       "<table border=\"1\" class=\"dataframe\">\n",
       "  <thead>\n",
       "    <tr style=\"text-align: right;\">\n",
       "      <th></th>\n",
       "      <th>created_at</th>\n",
       "      <th>tweet</th>\n",
       "      <th>mentions</th>\n",
       "      <th>urls</th>\n",
       "      <th>photos</th>\n",
       "      <th>replies_count</th>\n",
       "      <th>retweets_count</th>\n",
       "      <th>likes_count</th>\n",
       "      <th>hashtags</th>\n",
       "      <th>cashtags</th>\n",
       "      <th>link</th>\n",
       "      <th>quote_url</th>\n",
       "      <th>video</th>\n",
       "      <th>thumbnail</th>\n",
       "      <th>reply_to</th>\n",
       "    </tr>\n",
       "  </thead>\n",
       "  <tbody>\n",
       "    <tr>\n",
       "      <th>0</th>\n",
       "      <td>2021-04-11 18:50:33</td>\n",
       "      <td>@vincent13031925 For now. Costs are decreasing...</td>\n",
       "      <td>[]</td>\n",
       "      <td>[]</td>\n",
       "      <td>[]</td>\n",
       "      <td>640</td>\n",
       "      <td>444</td>\n",
       "      <td>15281</td>\n",
       "      <td>[]</td>\n",
       "      <td>[]</td>\n",
       "      <td>https://twitter.com/elonmusk/status/1381273474...</td>\n",
       "      <td>NaN</td>\n",
       "      <td>0</td>\n",
       "      <td>NaN</td>\n",
       "      <td>[{'screen_name': 'vincent13031925', 'name': 'V...</td>\n",
       "    </tr>\n",
       "    <tr>\n",
       "      <th>1</th>\n",
       "      <td>2021-04-11 18:48:58</td>\n",
       "      <td>Love this beautiful shot</td>\n",
       "      <td>[]</td>\n",
       "      <td>[]</td>\n",
       "      <td>[]</td>\n",
       "      <td>2464</td>\n",
       "      <td>1517</td>\n",
       "      <td>71161</td>\n",
       "      <td>[]</td>\n",
       "      <td>[]</td>\n",
       "      <td>https://twitter.com/elonmusk/status/1381273076...</td>\n",
       "      <td>NaN</td>\n",
       "      <td>0</td>\n",
       "      <td>NaN</td>\n",
       "      <td>[]</td>\n",
       "    </tr>\n",
       "  </tbody>\n",
       "</table>\n",
       "</div>"
      ],
      "text/plain": [
       "           created_at                                              tweet  \\\n",
       "0 2021-04-11 18:50:33  @vincent13031925 For now. Costs are decreasing...   \n",
       "1 2021-04-11 18:48:58                           Love this beautiful shot   \n",
       "\n",
       "  mentions urls photos  replies_count  retweets_count  likes_count hashtags  \\\n",
       "0       []   []     []            640             444        15281       []   \n",
       "1       []   []     []           2464            1517        71161       []   \n",
       "\n",
       "  cashtags                                               link quote_url  \\\n",
       "0       []  https://twitter.com/elonmusk/status/1381273474...       NaN   \n",
       "1       []  https://twitter.com/elonmusk/status/1381273076...       NaN   \n",
       "\n",
       "   video thumbnail                                           reply_to  \n",
       "0      0       NaN  [{'screen_name': 'vincent13031925', 'name': 'V...  \n",
       "1      0       NaN                                                 []  "
      ]
     },
     "execution_count": 23,
     "metadata": {},
     "output_type": "execute_result"
    }
   ],
   "source": [
    "#Subtracting time zone at the end of string and converting it to timestamp datatype\n",
    "tweets_EEST['created_at']=tweets_EEST['created_at'].apply(lambda x: pd.to_datetime((x[:-5]) ,format=\"%Y-%m-%d %H:%M:%S\"))\n",
    "tweets_EEST.head(2)"
   ]
  },
  {
   "cell_type": "code",
   "execution_count": 24,
   "id": "0e6c2c3d",
   "metadata": {},
   "outputs": [
    {
     "data": {
      "text/html": [
       "<div>\n",
       "<style scoped>\n",
       "    .dataframe tbody tr th:only-of-type {\n",
       "        vertical-align: middle;\n",
       "    }\n",
       "\n",
       "    .dataframe tbody tr th {\n",
       "        vertical-align: top;\n",
       "    }\n",
       "\n",
       "    .dataframe thead th {\n",
       "        text-align: right;\n",
       "    }\n",
       "</style>\n",
       "<table border=\"1\" class=\"dataframe\">\n",
       "  <thead>\n",
       "    <tr style=\"text-align: right;\">\n",
       "      <th></th>\n",
       "      <th>created_at</th>\n",
       "      <th>tweet</th>\n",
       "      <th>mentions</th>\n",
       "      <th>urls</th>\n",
       "      <th>photos</th>\n",
       "      <th>replies_count</th>\n",
       "      <th>retweets_count</th>\n",
       "      <th>likes_count</th>\n",
       "      <th>hashtags</th>\n",
       "      <th>cashtags</th>\n",
       "      <th>link</th>\n",
       "      <th>quote_url</th>\n",
       "      <th>video</th>\n",
       "      <th>thumbnail</th>\n",
       "      <th>reply_to</th>\n",
       "    </tr>\n",
       "  </thead>\n",
       "  <tbody>\n",
       "    <tr>\n",
       "      <th>0</th>\n",
       "      <td>2021-04-11 13:50:33</td>\n",
       "      <td>@vincent13031925 For now. Costs are decreasing...</td>\n",
       "      <td>[]</td>\n",
       "      <td>[]</td>\n",
       "      <td>[]</td>\n",
       "      <td>640</td>\n",
       "      <td>444</td>\n",
       "      <td>15281</td>\n",
       "      <td>[]</td>\n",
       "      <td>[]</td>\n",
       "      <td>https://twitter.com/elonmusk/status/1381273474...</td>\n",
       "      <td>NaN</td>\n",
       "      <td>0</td>\n",
       "      <td>NaN</td>\n",
       "      <td>[{'screen_name': 'vincent13031925', 'name': 'V...</td>\n",
       "    </tr>\n",
       "    <tr>\n",
       "      <th>1</th>\n",
       "      <td>2021-04-11 13:48:58</td>\n",
       "      <td>Love this beautiful shot</td>\n",
       "      <td>[]</td>\n",
       "      <td>[]</td>\n",
       "      <td>[]</td>\n",
       "      <td>2464</td>\n",
       "      <td>1517</td>\n",
       "      <td>71161</td>\n",
       "      <td>[]</td>\n",
       "      <td>[]</td>\n",
       "      <td>https://twitter.com/elonmusk/status/1381273076...</td>\n",
       "      <td>NaN</td>\n",
       "      <td>0</td>\n",
       "      <td>NaN</td>\n",
       "      <td>[]</td>\n",
       "    </tr>\n",
       "  </tbody>\n",
       "</table>\n",
       "</div>"
      ],
      "text/plain": [
       "           created_at                                              tweet  \\\n",
       "0 2021-04-11 13:50:33  @vincent13031925 For now. Costs are decreasing...   \n",
       "1 2021-04-11 13:48:58                           Love this beautiful shot   \n",
       "\n",
       "  mentions urls photos  replies_count  retweets_count  likes_count hashtags  \\\n",
       "0       []   []     []            640             444        15281       []   \n",
       "1       []   []     []           2464            1517        71161       []   \n",
       "\n",
       "  cashtags                                               link quote_url  \\\n",
       "0       []  https://twitter.com/elonmusk/status/1381273474...       NaN   \n",
       "1       []  https://twitter.com/elonmusk/status/1381273076...       NaN   \n",
       "\n",
       "   video thumbnail                                           reply_to  \n",
       "0      0       NaN  [{'screen_name': 'vincent13031925', 'name': 'V...  \n",
       "1      0       NaN                                                 []  "
      ]
     },
     "execution_count": 24,
     "metadata": {},
     "output_type": "execute_result"
    }
   ],
   "source": [
    "# Subtracting 5 hours to make it consistent with ET (stock price time)\n",
    "tweets_EEST['created_at']=tweets_EEST['created_at'].apply(lambda x: x-pd.Timedelta(hours=5))\n",
    "tweets_EEST.head(2)"
   ]
  },
  {
   "cell_type": "markdown",
   "id": "6b08d8cb",
   "metadata": {},
   "source": [
    "-------------------------\n",
    "#### 2. Eastern European Time (EET)"
   ]
  },
  {
   "cell_type": "code",
   "execution_count": 25,
   "id": "36297e61",
   "metadata": {},
   "outputs": [],
   "source": [
    "#Eastern European Time (EET)\n",
    "tweets_EET=tweets[tweets['created_at'].str.contains('EET')].copy()"
   ]
  },
  {
   "cell_type": "code",
   "execution_count": 26,
   "id": "ad7c44c0",
   "metadata": {},
   "outputs": [
    {
     "data": {
      "text/html": [
       "<div>\n",
       "<style scoped>\n",
       "    .dataframe tbody tr th:only-of-type {\n",
       "        vertical-align: middle;\n",
       "    }\n",
       "\n",
       "    .dataframe tbody tr th {\n",
       "        vertical-align: top;\n",
       "    }\n",
       "\n",
       "    .dataframe thead th {\n",
       "        text-align: right;\n",
       "    }\n",
       "</style>\n",
       "<table border=\"1\" class=\"dataframe\">\n",
       "  <thead>\n",
       "    <tr style=\"text-align: right;\">\n",
       "      <th></th>\n",
       "      <th>created_at</th>\n",
       "      <th>tweet</th>\n",
       "      <th>mentions</th>\n",
       "      <th>urls</th>\n",
       "      <th>photos</th>\n",
       "      <th>replies_count</th>\n",
       "      <th>retweets_count</th>\n",
       "      <th>likes_count</th>\n",
       "      <th>hashtags</th>\n",
       "      <th>cashtags</th>\n",
       "      <th>link</th>\n",
       "      <th>quote_url</th>\n",
       "      <th>video</th>\n",
       "      <th>thumbnail</th>\n",
       "      <th>reply_to</th>\n",
       "    </tr>\n",
       "  </thead>\n",
       "  <tbody>\n",
       "    <tr>\n",
       "      <th>132</th>\n",
       "      <td>2021-03-27 22:37:01</td>\n",
       "      <td>@summerlinARK We should be laughing our asses ...</td>\n",
       "      <td>[]</td>\n",
       "      <td>[]</td>\n",
       "      <td>[]</td>\n",
       "      <td>332</td>\n",
       "      <td>166</td>\n",
       "      <td>3614</td>\n",
       "      <td>[]</td>\n",
       "      <td>[]</td>\n",
       "      <td>https://twitter.com/elonmusk/status/1375909807...</td>\n",
       "      <td>NaN</td>\n",
       "      <td>0</td>\n",
       "      <td>NaN</td>\n",
       "      <td>[{'screen_name': 'summerlinARK', 'name': 'Will...</td>\n",
       "    </tr>\n",
       "    <tr>\n",
       "      <th>133</th>\n",
       "      <td>2021-03-27 22:36:02</td>\n",
       "      <td>@summerlinARK I wanna know when AI will be abl...</td>\n",
       "      <td>[]</td>\n",
       "      <td>[]</td>\n",
       "      <td>[]</td>\n",
       "      <td>346</td>\n",
       "      <td>255</td>\n",
       "      <td>4133</td>\n",
       "      <td>[]</td>\n",
       "      <td>[]</td>\n",
       "      <td>https://twitter.com/elonmusk/status/1375909594...</td>\n",
       "      <td>NaN</td>\n",
       "      <td>0</td>\n",
       "      <td>NaN</td>\n",
       "      <td>[{'screen_name': 'summerlinARK', 'name': 'Will...</td>\n",
       "    </tr>\n",
       "  </tbody>\n",
       "</table>\n",
       "</div>"
      ],
      "text/plain": [
       "             created_at                                              tweet  \\\n",
       "132 2021-03-27 22:37:01  @summerlinARK We should be laughing our asses ...   \n",
       "133 2021-03-27 22:36:02  @summerlinARK I wanna know when AI will be abl...   \n",
       "\n",
       "    mentions urls photos  replies_count  retweets_count  likes_count hashtags  \\\n",
       "132       []   []     []            332             166         3614       []   \n",
       "133       []   []     []            346             255         4133       []   \n",
       "\n",
       "    cashtags                                               link quote_url  \\\n",
       "132       []  https://twitter.com/elonmusk/status/1375909807...       NaN   \n",
       "133       []  https://twitter.com/elonmusk/status/1375909594...       NaN   \n",
       "\n",
       "     video thumbnail                                           reply_to  \n",
       "132      0       NaN  [{'screen_name': 'summerlinARK', 'name': 'Will...  \n",
       "133      0       NaN  [{'screen_name': 'summerlinARK', 'name': 'Will...  "
      ]
     },
     "execution_count": 26,
     "metadata": {},
     "output_type": "execute_result"
    }
   ],
   "source": [
    "#Subtracting time zone at the end of string and converting it to timestamp datatype\n",
    "tweets_EET['created_at']=tweets_EET['created_at'].apply(lambda x: pd.to_datetime((x[:-5]) ,format=\"%Y-%m-%d %H:%M:%S\"))\n",
    "tweets_EET.head(2)"
   ]
  },
  {
   "cell_type": "code",
   "execution_count": 27,
   "id": "9812ba60",
   "metadata": {},
   "outputs": [
    {
     "data": {
      "text/html": [
       "<div>\n",
       "<style scoped>\n",
       "    .dataframe tbody tr th:only-of-type {\n",
       "        vertical-align: middle;\n",
       "    }\n",
       "\n",
       "    .dataframe tbody tr th {\n",
       "        vertical-align: top;\n",
       "    }\n",
       "\n",
       "    .dataframe thead th {\n",
       "        text-align: right;\n",
       "    }\n",
       "</style>\n",
       "<table border=\"1\" class=\"dataframe\">\n",
       "  <thead>\n",
       "    <tr style=\"text-align: right;\">\n",
       "      <th></th>\n",
       "      <th>created_at</th>\n",
       "      <th>tweet</th>\n",
       "      <th>mentions</th>\n",
       "      <th>urls</th>\n",
       "      <th>photos</th>\n",
       "      <th>replies_count</th>\n",
       "      <th>retweets_count</th>\n",
       "      <th>likes_count</th>\n",
       "      <th>hashtags</th>\n",
       "      <th>cashtags</th>\n",
       "      <th>link</th>\n",
       "      <th>quote_url</th>\n",
       "      <th>video</th>\n",
       "      <th>thumbnail</th>\n",
       "      <th>reply_to</th>\n",
       "    </tr>\n",
       "  </thead>\n",
       "  <tbody>\n",
       "    <tr>\n",
       "      <th>132</th>\n",
       "      <td>2021-03-27 16:37:01</td>\n",
       "      <td>@summerlinARK We should be laughing our asses ...</td>\n",
       "      <td>[]</td>\n",
       "      <td>[]</td>\n",
       "      <td>[]</td>\n",
       "      <td>332</td>\n",
       "      <td>166</td>\n",
       "      <td>3614</td>\n",
       "      <td>[]</td>\n",
       "      <td>[]</td>\n",
       "      <td>https://twitter.com/elonmusk/status/1375909807...</td>\n",
       "      <td>NaN</td>\n",
       "      <td>0</td>\n",
       "      <td>NaN</td>\n",
       "      <td>[{'screen_name': 'summerlinARK', 'name': 'Will...</td>\n",
       "    </tr>\n",
       "    <tr>\n",
       "      <th>133</th>\n",
       "      <td>2021-03-27 16:36:02</td>\n",
       "      <td>@summerlinARK I wanna know when AI will be abl...</td>\n",
       "      <td>[]</td>\n",
       "      <td>[]</td>\n",
       "      <td>[]</td>\n",
       "      <td>346</td>\n",
       "      <td>255</td>\n",
       "      <td>4133</td>\n",
       "      <td>[]</td>\n",
       "      <td>[]</td>\n",
       "      <td>https://twitter.com/elonmusk/status/1375909594...</td>\n",
       "      <td>NaN</td>\n",
       "      <td>0</td>\n",
       "      <td>NaN</td>\n",
       "      <td>[{'screen_name': 'summerlinARK', 'name': 'Will...</td>\n",
       "    </tr>\n",
       "  </tbody>\n",
       "</table>\n",
       "</div>"
      ],
      "text/plain": [
       "             created_at                                              tweet  \\\n",
       "132 2021-03-27 16:37:01  @summerlinARK We should be laughing our asses ...   \n",
       "133 2021-03-27 16:36:02  @summerlinARK I wanna know when AI will be abl...   \n",
       "\n",
       "    mentions urls photos  replies_count  retweets_count  likes_count hashtags  \\\n",
       "132       []   []     []            332             166         3614       []   \n",
       "133       []   []     []            346             255         4133       []   \n",
       "\n",
       "    cashtags                                               link quote_url  \\\n",
       "132       []  https://twitter.com/elonmusk/status/1375909807...       NaN   \n",
       "133       []  https://twitter.com/elonmusk/status/1375909594...       NaN   \n",
       "\n",
       "     video thumbnail                                           reply_to  \n",
       "132      0       NaN  [{'screen_name': 'summerlinARK', 'name': 'Will...  \n",
       "133      0       NaN  [{'screen_name': 'summerlinARK', 'name': 'Will...  "
      ]
     },
     "execution_count": 27,
     "metadata": {},
     "output_type": "execute_result"
    }
   ],
   "source": [
    "# Subtracting 5 hours to make it consistent with ET (stock price time)\n",
    "tweets_EET['created_at']=tweets_EET['created_at'].apply(lambda x: x-pd.Timedelta(hours=6))\n",
    "tweets_EET.head(2)"
   ]
  },
  {
   "cell_type": "markdown",
   "id": "494df142",
   "metadata": {},
   "source": [
    "#### 3. Concatenating two cols and name it tweets"
   ]
  },
  {
   "cell_type": "code",
   "execution_count": 38,
   "id": "dd6b8da3",
   "metadata": {},
   "outputs": [],
   "source": [
    "tweets = pd.concat([tweets_EET, tweets_EEST], ignore_index=True).sort_values('created_at').reset_index(drop=True)"
   ]
  },
  {
   "cell_type": "code",
   "execution_count": 39,
   "id": "d4f4b031",
   "metadata": {},
   "outputs": [
    {
     "data": {
      "text/html": [
       "<div>\n",
       "<style scoped>\n",
       "    .dataframe tbody tr th:only-of-type {\n",
       "        vertical-align: middle;\n",
       "    }\n",
       "\n",
       "    .dataframe tbody tr th {\n",
       "        vertical-align: top;\n",
       "    }\n",
       "\n",
       "    .dataframe thead th {\n",
       "        text-align: right;\n",
       "    }\n",
       "</style>\n",
       "<table border=\"1\" class=\"dataframe\">\n",
       "  <thead>\n",
       "    <tr style=\"text-align: right;\">\n",
       "      <th></th>\n",
       "      <th>created_at</th>\n",
       "      <th>tweet</th>\n",
       "      <th>mentions</th>\n",
       "      <th>urls</th>\n",
       "      <th>photos</th>\n",
       "      <th>replies_count</th>\n",
       "      <th>retweets_count</th>\n",
       "      <th>likes_count</th>\n",
       "      <th>hashtags</th>\n",
       "      <th>cashtags</th>\n",
       "      <th>link</th>\n",
       "      <th>quote_url</th>\n",
       "      <th>video</th>\n",
       "      <th>thumbnail</th>\n",
       "      <th>reply_to</th>\n",
       "    </tr>\n",
       "  </thead>\n",
       "  <tbody>\n",
       "    <tr>\n",
       "      <th>0</th>\n",
       "      <td>2010-06-04 16:31:57</td>\n",
       "      <td>Please ignore prior tweets, as that was someon...</td>\n",
       "      <td>[]</td>\n",
       "      <td>[]</td>\n",
       "      <td>[]</td>\n",
       "      <td>398</td>\n",
       "      <td>349</td>\n",
       "      <td>4710</td>\n",
       "      <td>[]</td>\n",
       "      <td>[]</td>\n",
       "      <td>https://twitter.com/elonmusk/status/15434727182</td>\n",
       "      <td>NaN</td>\n",
       "      <td>0</td>\n",
       "      <td>NaN</td>\n",
       "      <td>[]</td>\n",
       "    </tr>\n",
       "    <tr>\n",
       "      <th>1</th>\n",
       "      <td>2011-12-01 05:55:01</td>\n",
       "      <td>Went to Iceland on Sat to ride bumper cars on ...</td>\n",
       "      <td>[]</td>\n",
       "      <td>[]</td>\n",
       "      <td>['https://pbs.twimg.com/media/Afkf5DMCAAEJGFr....</td>\n",
       "      <td>31</td>\n",
       "      <td>16</td>\n",
       "      <td>191</td>\n",
       "      <td>[]</td>\n",
       "      <td>[]</td>\n",
       "      <td>https://twitter.com/elonmusk/status/1421799282...</td>\n",
       "      <td>NaN</td>\n",
       "      <td>1</td>\n",
       "      <td>https://pbs.twimg.com/media/Afkf5DMCAAEJGFr.jpg</td>\n",
       "      <td>[]</td>\n",
       "    </tr>\n",
       "    <tr>\n",
       "      <th>2</th>\n",
       "      <td>2011-12-01 06:29:00</td>\n",
       "      <td>I made the volume on the Model S  http://t.co/...</td>\n",
       "      <td>[]</td>\n",
       "      <td>['http://ow.ly/i/mtD7']</td>\n",
       "      <td>[]</td>\n",
       "      <td>31</td>\n",
       "      <td>9</td>\n",
       "      <td>79</td>\n",
       "      <td>[]</td>\n",
       "      <td>[]</td>\n",
       "      <td>https://twitter.com/elonmusk/status/1421884581...</td>\n",
       "      <td>NaN</td>\n",
       "      <td>0</td>\n",
       "      <td>NaN</td>\n",
       "      <td>[]</td>\n",
       "    </tr>\n",
       "    <tr>\n",
       "      <th>3</th>\n",
       "      <td>2011-12-03 04:20:02</td>\n",
       "      <td>Great Voltaire quote, arguably better than Twa...</td>\n",
       "      <td>[]</td>\n",
       "      <td>[]</td>\n",
       "      <td>[]</td>\n",
       "      <td>7</td>\n",
       "      <td>24</td>\n",
       "      <td>30</td>\n",
       "      <td>[]</td>\n",
       "      <td>[]</td>\n",
       "      <td>https://twitter.com/elonmusk/status/1428808713...</td>\n",
       "      <td>NaN</td>\n",
       "      <td>0</td>\n",
       "      <td>NaN</td>\n",
       "      <td>[]</td>\n",
       "    </tr>\n",
       "    <tr>\n",
       "      <th>4</th>\n",
       "      <td>2011-12-03 04:22:00</td>\n",
       "      <td>That was a total non sequitur btw</td>\n",
       "      <td>[]</td>\n",
       "      <td>[]</td>\n",
       "      <td>[]</td>\n",
       "      <td>29</td>\n",
       "      <td>6</td>\n",
       "      <td>52</td>\n",
       "      <td>[]</td>\n",
       "      <td>[]</td>\n",
       "      <td>https://twitter.com/elonmusk/status/1428812840...</td>\n",
       "      <td>NaN</td>\n",
       "      <td>0</td>\n",
       "      <td>NaN</td>\n",
       "      <td>[]</td>\n",
       "    </tr>\n",
       "  </tbody>\n",
       "</table>\n",
       "</div>"
      ],
      "text/plain": [
       "           created_at                                              tweet  \\\n",
       "0 2010-06-04 16:31:57  Please ignore prior tweets, as that was someon...   \n",
       "1 2011-12-01 05:55:01  Went to Iceland on Sat to ride bumper cars on ...   \n",
       "2 2011-12-01 06:29:00  I made the volume on the Model S  http://t.co/...   \n",
       "3 2011-12-03 04:20:02  Great Voltaire quote, arguably better than Twa...   \n",
       "4 2011-12-03 04:22:00                  That was a total non sequitur btw   \n",
       "\n",
       "  mentions                     urls  \\\n",
       "0       []                       []   \n",
       "1       []                       []   \n",
       "2       []  ['http://ow.ly/i/mtD7']   \n",
       "3       []                       []   \n",
       "4       []                       []   \n",
       "\n",
       "                                              photos  replies_count  \\\n",
       "0                                                 []            398   \n",
       "1  ['https://pbs.twimg.com/media/Afkf5DMCAAEJGFr....             31   \n",
       "2                                                 []             31   \n",
       "3                                                 []              7   \n",
       "4                                                 []             29   \n",
       "\n",
       "   retweets_count  likes_count hashtags cashtags  \\\n",
       "0             349         4710       []       []   \n",
       "1              16          191       []       []   \n",
       "2               9           79       []       []   \n",
       "3              24           30       []       []   \n",
       "4               6           52       []       []   \n",
       "\n",
       "                                                link quote_url  video  \\\n",
       "0    https://twitter.com/elonmusk/status/15434727182       NaN      0   \n",
       "1  https://twitter.com/elonmusk/status/1421799282...       NaN      1   \n",
       "2  https://twitter.com/elonmusk/status/1421884581...       NaN      0   \n",
       "3  https://twitter.com/elonmusk/status/1428808713...       NaN      0   \n",
       "4  https://twitter.com/elonmusk/status/1428812840...       NaN      0   \n",
       "\n",
       "                                         thumbnail reply_to  \n",
       "0                                              NaN       []  \n",
       "1  https://pbs.twimg.com/media/Afkf5DMCAAEJGFr.jpg       []  \n",
       "2                                              NaN       []  \n",
       "3                                              NaN       []  \n",
       "4                                              NaN       []  "
      ]
     },
     "execution_count": 39,
     "metadata": {},
     "output_type": "execute_result"
    }
   ],
   "source": [
    "tweets.head()"
   ]
  },
  {
   "cell_type": "code",
   "execution_count": null,
   "id": "7ea33f82",
   "metadata": {},
   "outputs": [],
   "source": []
  },
  {
   "cell_type": "code",
   "execution_count": 29,
   "id": "e163a52d",
   "metadata": {},
   "outputs": [
    {
     "data": {
      "text/plain": [
       "('2010-06-04', '2021-04-17')"
      ]
     },
     "execution_count": 29,
     "metadata": {},
     "output_type": "execute_result"
    }
   ],
   "source": [
    "oldest_date = tweets['created_at'].min()[:10]\n",
    "newest_date = tweets['created_at'].max()[:10]\n",
    "oldest_date, newest_date"
   ]
  },
  {
   "cell_type": "code",
   "execution_count": 30,
   "id": "ee391870",
   "metadata": {},
   "outputs": [
    {
     "name": "stdout",
     "output_type": "stream",
     "text": [
      "3970\n"
     ]
    }
   ],
   "source": [
    "#Days between the oldest and newest date\n",
    "start_date = datetime.strptime(oldest_date, '%Y-%m-%d')\n",
    "end_date = datetime.strptime(newest_date, '%Y-%m-%d')\n",
    "\n",
    "days_diff = (end_date - start_date).days\n",
    "\n",
    "print(days_diff)"
   ]
  },
  {
   "cell_type": "code",
   "execution_count": 31,
   "id": "4d98177e",
   "metadata": {},
   "outputs": [],
   "source": [
    "#pip install pandas-datareader"
   ]
  },
  {
   "cell_type": "code",
   "execution_count": 32,
   "id": "ce8d0747",
   "metadata": {
    "scrolled": true
   },
   "outputs": [],
   "source": [
    "#pip install yfinance"
   ]
  },
  {
   "cell_type": "code",
   "execution_count": 33,
   "id": "0c595552",
   "metadata": {
    "scrolled": true
   },
   "outputs": [],
   "source": [
    "from pandas_datareader import data\n",
    "import yfinance as yfin\n",
    "yfin.pdr_override()"
   ]
  },
  {
   "cell_type": "code",
   "execution_count": 34,
   "id": "1a46ad8a",
   "metadata": {},
   "outputs": [
    {
     "name": "stdout",
     "output_type": "stream",
     "text": [
      "[*********************100%***********************]  1 of 1 completed\n"
     ]
    }
   ],
   "source": [
    "start = oldest_date\n",
    "end = newest_date\n",
    "\n",
    "df = data.get_data_yahoo(\"TSLA\", start=start, end=newest_date)"
   ]
  },
  {
   "cell_type": "code",
   "execution_count": 35,
   "id": "d00287ec",
   "metadata": {
    "scrolled": true
   },
   "outputs": [],
   "source": [
    "%matplotlib inline\n",
    "import matplotlib.pyplot as plt\n",
    "import seaborn; seaborn.set()"
   ]
  },
  {
   "cell_type": "code",
   "execution_count": 36,
   "id": "da997a8a",
   "metadata": {},
   "outputs": [
    {
     "data": {
      "text/html": [
       "<div>\n",
       "<style scoped>\n",
       "    .dataframe tbody tr th:only-of-type {\n",
       "        vertical-align: middle;\n",
       "    }\n",
       "\n",
       "    .dataframe tbody tr th {\n",
       "        vertical-align: top;\n",
       "    }\n",
       "\n",
       "    .dataframe thead th {\n",
       "        text-align: right;\n",
       "    }\n",
       "</style>\n",
       "<table border=\"1\" class=\"dataframe\">\n",
       "  <thead>\n",
       "    <tr style=\"text-align: right;\">\n",
       "      <th></th>\n",
       "      <th>Open</th>\n",
       "      <th>High</th>\n",
       "      <th>Low</th>\n",
       "      <th>Close</th>\n",
       "      <th>Adj Close</th>\n",
       "      <th>Volume</th>\n",
       "    </tr>\n",
       "    <tr>\n",
       "      <th>Date</th>\n",
       "      <th></th>\n",
       "      <th></th>\n",
       "      <th></th>\n",
       "      <th></th>\n",
       "      <th></th>\n",
       "      <th></th>\n",
       "    </tr>\n",
       "  </thead>\n",
       "  <tbody>\n",
       "    <tr>\n",
       "      <th>2010-06-29</th>\n",
       "      <td>1.266667</td>\n",
       "      <td>1.666667</td>\n",
       "      <td>1.169333</td>\n",
       "      <td>1.592667</td>\n",
       "      <td>1.592667</td>\n",
       "      <td>281494500</td>\n",
       "    </tr>\n",
       "    <tr>\n",
       "      <th>2010-06-30</th>\n",
       "      <td>1.719333</td>\n",
       "      <td>2.028000</td>\n",
       "      <td>1.553333</td>\n",
       "      <td>1.588667</td>\n",
       "      <td>1.588667</td>\n",
       "      <td>257806500</td>\n",
       "    </tr>\n",
       "    <tr>\n",
       "      <th>2010-07-01</th>\n",
       "      <td>1.666667</td>\n",
       "      <td>1.728000</td>\n",
       "      <td>1.351333</td>\n",
       "      <td>1.464000</td>\n",
       "      <td>1.464000</td>\n",
       "      <td>123282000</td>\n",
       "    </tr>\n",
       "    <tr>\n",
       "      <th>2010-07-02</th>\n",
       "      <td>1.533333</td>\n",
       "      <td>1.540000</td>\n",
       "      <td>1.247333</td>\n",
       "      <td>1.280000</td>\n",
       "      <td>1.280000</td>\n",
       "      <td>77097000</td>\n",
       "    </tr>\n",
       "    <tr>\n",
       "      <th>2010-07-06</th>\n",
       "      <td>1.333333</td>\n",
       "      <td>1.333333</td>\n",
       "      <td>1.055333</td>\n",
       "      <td>1.074000</td>\n",
       "      <td>1.074000</td>\n",
       "      <td>103003500</td>\n",
       "    </tr>\n",
       "  </tbody>\n",
       "</table>\n",
       "</div>"
      ],
      "text/plain": [
       "                Open      High       Low     Close  Adj Close     Volume\n",
       "Date                                                                    \n",
       "2010-06-29  1.266667  1.666667  1.169333  1.592667   1.592667  281494500\n",
       "2010-06-30  1.719333  2.028000  1.553333  1.588667   1.588667  257806500\n",
       "2010-07-01  1.666667  1.728000  1.351333  1.464000   1.464000  123282000\n",
       "2010-07-02  1.533333  1.540000  1.247333  1.280000   1.280000   77097000\n",
       "2010-07-06  1.333333  1.333333  1.055333  1.074000   1.074000  103003500"
      ]
     },
     "execution_count": 36,
     "metadata": {},
     "output_type": "execute_result"
    }
   ],
   "source": [
    "df.head()"
   ]
  },
  {
   "cell_type": "code",
   "execution_count": 37,
   "id": "4ad9240c",
   "metadata": {
    "scrolled": false
   },
   "outputs": [
    {
     "data": {
      "image/png": "[encoded data removed]",
      "text/plain": [
       "<Figure size 640x480 with 1 Axes>"
      ]
     },
     "metadata": {},
     "output_type": "display_data"
    }
   ],
   "source": [
    "df['Close'].plot();"
   ]
  }
 ],
 "metadata": {
  "kernelspec": {
   "display_name": "Python 3 (ipykernel)",
   "language": "python",
   "name": "python3"
  },
  "language_info": {
   "codemirror_mode": {
    "name": "ipython",
    "version": 3
   },
   "file_extension": ".py",
   "mimetype": "text/x-python",
   "name": "python",
   "nbconvert_exporter": "python",
   "pygments_lexer": "ipython3",
   "version": "3.9.13"
  }
 },
 "nbformat": 4,
 "nbformat_minor": 5
}
