{
 "cells": [
  {
   "cell_type": "code",
   "execution_count": 1,
   "id": "667ae9aa",
   "metadata": {},
   "outputs": [],
   "source": [
    "import numpy as np\n",
    "import pandas as pd\n",
    "import matplotlib.pyplot as plt\n",
    "import seaborn as sns\n",
    "from datetime import datetime\n",
    "from datetime import timedelta\n",
    "\n",
    "import warnings\n",
    "warnings.filterwarnings('ignore')"
   ]
  },
  {
   "cell_type": "code",
   "execution_count": 2,
   "id": "e971cd41",
   "metadata": {},
   "outputs": [],
   "source": [
    "pd.set_option('display.max_colwidth', 1000)"
   ]
  },
  {
   "cell_type": "code",
   "execution_count": 3,
   "id": "a5e6f268",
   "metadata": {
    "scrolled": false
   },
   "outputs": [],
   "source": [
    "tweets=pd.read_csv('TweetsElonMusk.csv')"
   ]
  },
  {
   "cell_type": "code",
   "execution_count": 4,
   "id": "0db67658",
   "metadata": {},
   "outputs": [
    {
     "data": {
      "text/plain": [
       "'Please ignore prior tweets, as that was someone pretending to be me :)  This is actually me.'"
      ]
     },
     "execution_count": 4,
     "metadata": {},
     "output_type": "execute_result"
    }
   ],
   "source": [
    "# His first tweet is interesting. It is why this date was selected as the start date of his tweets history\n",
    "tweets['tweet'][0]"
   ]
  },
  {
   "cell_type": "markdown",
   "id": "bb60cbe3",
   "metadata": {},
   "source": [
    "**Important Note**\n",
    "With further EDA and research, I realized that the first trading day for Tesla's stock was on June 29, 2010 so it is not possible to get the stock price for June 4, 2010! "
   ]
  },
  {
   "cell_type": "code",
   "execution_count": 5,
   "id": "b3d12426",
   "metadata": {
    "scrolled": true
   },
   "outputs": [
    {
     "data": {
      "text/plain": [
       "array([False])"
      ]
     },
     "execution_count": 5,
     "metadata": {},
     "output_type": "execute_result"
    }
   ],
   "source": [
    "tweets.retweet.unique()"
   ]
  },
  {
   "cell_type": "markdown",
   "id": "1539f1d7",
   "metadata": {},
   "source": [
    "### Defining a function to Remove URLs/Mentions from tweets"
   ]
  },
  {
   "cell_type": "code",
   "execution_count": 6,
   "id": "5688d6f9",
   "metadata": {},
   "outputs": [
    {
     "data": {
      "text/plain": [
       "\"ride bumper cars on ice!  No, not the country, Vlad's rink in Van Nuys. Awesome family fun :)  \""
      ]
     },
     "execution_count": 6,
     "metadata": {},
     "output_type": "execute_result"
    }
   ],
   "source": [
    "import re\n",
    "# Regular expression pattern to match URLs\n",
    "url_pattern = r'https?://\\S+'\n",
    "\n",
    "def tweets_without_urls(x):\n",
    "    return re.sub(url_pattern, '', x)\n",
    "\n",
    "# Example string\n",
    "test = \"ride bumper cars on ice!  No, not the country, Vlad's rink in Van Nuys. Awesome family fun :)  http://t.co/rBQXJ9IT\"\n",
    "\n",
    "tweets_without_urls(test)"
   ]
  },
  {
   "cell_type": "code",
   "execution_count": 7,
   "id": "0640cb0c",
   "metadata": {},
   "outputs": [],
   "source": [
    "tweets['tweet']=tweets['tweet'].apply(lambda x: tweets_without_urls(x))"
   ]
  },
  {
   "cell_type": "code",
   "execution_count": 8,
   "id": "446020eb",
   "metadata": {},
   "outputs": [
    {
     "data": {
      "text/plain": [
       "'Production Autopilot is already above that for highway driving., be aware  While aadg'"
      ]
     },
     "execution_count": 8,
     "metadata": {},
     "output_type": "execute_result"
    }
   ],
   "source": [
    "# Example string\n",
    "s = 'Production Autopilot is already above @Taraaaa that for highway driving., @RationalEtienne be aware  @F9Block5 While aadg'\n",
    "\n",
    "# Regular expression pattern to match mentions\n",
    "mention_pattern = r'@\\w+\\s?'\n",
    "\n",
    "\n",
    "def tweets_without_mentions(x):\n",
    "      return re.sub(mention_pattern, '', x)\n",
    "    \n",
    "tweets_without_mentions(s)    "
   ]
  },
  {
   "cell_type": "code",
   "execution_count": 9,
   "id": "8a5d0eac",
   "metadata": {},
   "outputs": [],
   "source": [
    "tweets['tweet']=tweets['tweet'].apply(lambda x: tweets_without_mentions(x))"
   ]
  },
  {
   "cell_type": "markdown",
   "id": "85634f78",
   "metadata": {},
   "source": [
    "## Dropping unnecessary columns"
   ]
  },
  {
   "cell_type": "code",
   "execution_count": 10,
   "id": "0bf44a88",
   "metadata": {},
   "outputs": [],
   "source": [
    "#Drop all the cols that include only null values\n",
    "tweets.dropna(axis=1, how='all', inplace=True)"
   ]
  },
  {
   "cell_type": "code",
   "execution_count": 11,
   "id": "58eb6679",
   "metadata": {},
   "outputs": [
    {
     "data": {
      "text/plain": [
       "Index(['timezone', 'user_id', 'username', 'name', 'retweet'], dtype='object')"
      ]
     },
     "execution_count": 11,
     "metadata": {},
     "output_type": "execute_result"
    }
   ],
   "source": [
    "# find columns with only one unique value\n",
    "unique_cols = tweets.columns[tweets.nunique() == 1]\n",
    "\n",
    "unique_cols"
   ]
  },
  {
   "cell_type": "code",
   "execution_count": 12,
   "id": "b5939c8d",
   "metadata": {},
   "outputs": [],
   "source": [
    "#Dropping columns with one unique value\n",
    "tweets.drop(unique_cols, axis=1, inplace=True)"
   ]
  },
  {
   "cell_type": "code",
   "execution_count": 13,
   "id": "5aac619c",
   "metadata": {},
   "outputs": [],
   "source": [
    "#Removing redundant cols\n",
    "tweets.drop(['id','conversation_id','time','photos'], axis=1, inplace=True)"
   ]
  },
  {
   "cell_type": "code",
   "execution_count": 14,
   "id": "a433d153",
   "metadata": {
    "scrolled": false
   },
   "outputs": [
    {
     "name": "stdout",
     "output_type": "stream",
     "text": [
      "<class 'pandas.core.frame.DataFrame'>\n",
      "RangeIndex: 12562 entries, 0 to 12561\n",
      "Data columns (total 16 columns):\n",
      " #   Column          Non-Null Count  Dtype \n",
      "---  ------          --------------  ----- \n",
      " 0   created_at      12562 non-null  object\n",
      " 1   date            12562 non-null  object\n",
      " 2   tweet           12562 non-null  object\n",
      " 3   language        12562 non-null  object\n",
      " 4   mentions        12562 non-null  object\n",
      " 5   urls            12562 non-null  object\n",
      " 6   replies_count   12562 non-null  int64 \n",
      " 7   retweets_count  12562 non-null  int64 \n",
      " 8   likes_count     12562 non-null  int64 \n",
      " 9   hashtags        12562 non-null  object\n",
      " 10  cashtags        12562 non-null  object\n",
      " 11  link            12562 non-null  object\n",
      " 12  quote_url       410 non-null    object\n",
      " 13  video           12562 non-null  int64 \n",
      " 14  thumbnail       792 non-null    object\n",
      " 15  reply_to        12562 non-null  object\n",
      "dtypes: int64(4), object(12)\n",
      "memory usage: 1.5+ MB\n"
     ]
    }
   ],
   "source": [
    "tweets.info()"
   ]
  },
  {
   "cell_type": "markdown",
   "id": "13806970",
   "metadata": {},
   "source": [
    "### Editing Date Col as its format is not consistant"
   ]
  },
  {
   "cell_type": "code",
   "execution_count": 15,
   "id": "92713724",
   "metadata": {},
   "outputs": [],
   "source": [
    "tweets['date']=tweets['created_at'].apply(lambda x: x[0:10])"
   ]
  },
  {
   "cell_type": "code",
   "execution_count": 16,
   "id": "231f9675",
   "metadata": {},
   "outputs": [],
   "source": [
    "tweets = tweets.rename(columns={'date':'Date'})"
   ]
  },
  {
   "cell_type": "code",
   "execution_count": 17,
   "id": "eee63438",
   "metadata": {},
   "outputs": [
    {
     "data": {
      "text/html": [
       "<div>\n",
       "<style scoped>\n",
       "    .dataframe tbody tr th:only-of-type {\n",
       "        vertical-align: middle;\n",
       "    }\n",
       "\n",
       "    .dataframe tbody tr th {\n",
       "        vertical-align: top;\n",
       "    }\n",
       "\n",
       "    .dataframe thead th {\n",
       "        text-align: right;\n",
       "    }\n",
       "</style>\n",
       "<table border=\"1\" class=\"dataframe\">\n",
       "  <thead>\n",
       "    <tr style=\"text-align: right;\">\n",
       "      <th></th>\n",
       "      <th>created_at</th>\n",
       "      <th>Date</th>\n",
       "      <th>tweet</th>\n",
       "      <th>language</th>\n",
       "      <th>mentions</th>\n",
       "      <th>urls</th>\n",
       "      <th>replies_count</th>\n",
       "      <th>retweets_count</th>\n",
       "      <th>likes_count</th>\n",
       "      <th>hashtags</th>\n",
       "      <th>cashtags</th>\n",
       "      <th>link</th>\n",
       "      <th>quote_url</th>\n",
       "      <th>video</th>\n",
       "      <th>thumbnail</th>\n",
       "      <th>reply_to</th>\n",
       "    </tr>\n",
       "  </thead>\n",
       "  <tbody>\n",
       "    <tr>\n",
       "      <th>0</th>\n",
       "      <td>2010-06-04 21:31:57 EEST</td>\n",
       "      <td>2010-06-04</td>\n",
       "      <td>Please ignore prior tweets, as that was someone pretending to be me :)  This is actually me.</td>\n",
       "      <td>en</td>\n",
       "      <td>[]</td>\n",
       "      <td>[]</td>\n",
       "      <td>398</td>\n",
       "      <td>349</td>\n",
       "      <td>4710</td>\n",
       "      <td>[]</td>\n",
       "      <td>[]</td>\n",
       "      <td>https://twitter.com/elonmusk/status/15434727182</td>\n",
       "      <td>NaN</td>\n",
       "      <td>0</td>\n",
       "      <td>NaN</td>\n",
       "      <td>[]</td>\n",
       "    </tr>\n",
       "    <tr>\n",
       "      <th>1</th>\n",
       "      <td>2011-12-01 12:29:04 EET</td>\n",
       "      <td>2011-12-01</td>\n",
       "      <td>I made the volume on the Model S   go to 11.  Now I just need to work in a miniature Stonehenge...</td>\n",
       "      <td>en</td>\n",
       "      <td>[]</td>\n",
       "      <td>['http://ow.ly/i/mtD7']</td>\n",
       "      <td>31</td>\n",
       "      <td>9</td>\n",
       "      <td>79</td>\n",
       "      <td>[]</td>\n",
       "      <td>[]</td>\n",
       "      <td>https://twitter.com/elonmusk/status/142188458125963264</td>\n",
       "      <td>NaN</td>\n",
       "      <td>0</td>\n",
       "      <td>NaN</td>\n",
       "      <td>[]</td>\n",
       "    </tr>\n",
       "    <tr>\n",
       "      <th>2</th>\n",
       "      <td>2011-12-01 11:55:11 EET</td>\n",
       "      <td>2011-12-01</td>\n",
       "      <td>Went to Iceland on Sat to ride bumper cars on ice!  No, not the country, Vlad's rink in Van Nuys. Awesome family fun :)</td>\n",
       "      <td>en</td>\n",
       "      <td>[]</td>\n",
       "      <td>[]</td>\n",
       "      <td>31</td>\n",
       "      <td>16</td>\n",
       "      <td>191</td>\n",
       "      <td>[]</td>\n",
       "      <td>[]</td>\n",
       "      <td>https://twitter.com/elonmusk/status/142179928203460608</td>\n",
       "      <td>NaN</td>\n",
       "      <td>1</td>\n",
       "      <td>https://pbs.twimg.com/media/Afkf5DMCAAEJGFr.jpg</td>\n",
       "      <td>[]</td>\n",
       "    </tr>\n",
       "    <tr>\n",
       "      <th>3</th>\n",
       "      <td>2011-12-03 10:22:07 EET</td>\n",
       "      <td>2011-12-03</td>\n",
       "      <td>That was a total non sequitur btw</td>\n",
       "      <td>en</td>\n",
       "      <td>[]</td>\n",
       "      <td>[]</td>\n",
       "      <td>29</td>\n",
       "      <td>6</td>\n",
       "      <td>52</td>\n",
       "      <td>[]</td>\n",
       "      <td>[]</td>\n",
       "      <td>https://twitter.com/elonmusk/status/142881284019060736</td>\n",
       "      <td>NaN</td>\n",
       "      <td>0</td>\n",
       "      <td>NaN</td>\n",
       "      <td>[]</td>\n",
       "    </tr>\n",
       "    <tr>\n",
       "      <th>4</th>\n",
       "      <td>2011-12-03 10:20:28 EET</td>\n",
       "      <td>2011-12-03</td>\n",
       "      <td>Great Voltaire quote, arguably better than Twain. Hearing news of his own death, Voltaire replied the reports were true, only premature.</td>\n",
       "      <td>en</td>\n",
       "      <td>[]</td>\n",
       "      <td>[]</td>\n",
       "      <td>7</td>\n",
       "      <td>24</td>\n",
       "      <td>30</td>\n",
       "      <td>[]</td>\n",
       "      <td>[]</td>\n",
       "      <td>https://twitter.com/elonmusk/status/142880871391838208</td>\n",
       "      <td>NaN</td>\n",
       "      <td>0</td>\n",
       "      <td>NaN</td>\n",
       "      <td>[]</td>\n",
       "    </tr>\n",
       "  </tbody>\n",
       "</table>\n",
       "</div>"
      ],
      "text/plain": [
       "                 created_at        Date  \\\n",
       "0  2010-06-04 21:31:57 EEST  2010-06-04   \n",
       "1   2011-12-01 12:29:04 EET  2011-12-01   \n",
       "2   2011-12-01 11:55:11 EET  2011-12-01   \n",
       "3   2011-12-03 10:22:07 EET  2011-12-03   \n",
       "4   2011-12-03 10:20:28 EET  2011-12-03   \n",
       "\n",
       "                                                                                                                                      tweet  \\\n",
       "0                                              Please ignore prior tweets, as that was someone pretending to be me :)  This is actually me.   \n",
       "1                                        I made the volume on the Model S   go to 11.  Now I just need to work in a miniature Stonehenge...   \n",
       "2                 Went to Iceland on Sat to ride bumper cars on ice!  No, not the country, Vlad's rink in Van Nuys. Awesome family fun :)     \n",
       "3                                                                                                         That was a total non sequitur btw   \n",
       "4  Great Voltaire quote, arguably better than Twain. Hearing news of his own death, Voltaire replied the reports were true, only premature.   \n",
       "\n",
       "  language mentions                     urls  replies_count  retweets_count  \\\n",
       "0       en       []                       []            398             349   \n",
       "1       en       []  ['http://ow.ly/i/mtD7']             31               9   \n",
       "2       en       []                       []             31              16   \n",
       "3       en       []                       []             29               6   \n",
       "4       en       []                       []              7              24   \n",
       "\n",
       "   likes_count hashtags cashtags  \\\n",
       "0         4710       []       []   \n",
       "1           79       []       []   \n",
       "2          191       []       []   \n",
       "3           52       []       []   \n",
       "4           30       []       []   \n",
       "\n",
       "                                                     link quote_url  video  \\\n",
       "0         https://twitter.com/elonmusk/status/15434727182       NaN      0   \n",
       "1  https://twitter.com/elonmusk/status/142188458125963264       NaN      0   \n",
       "2  https://twitter.com/elonmusk/status/142179928203460608       NaN      1   \n",
       "3  https://twitter.com/elonmusk/status/142881284019060736       NaN      0   \n",
       "4  https://twitter.com/elonmusk/status/142880871391838208       NaN      0   \n",
       "\n",
       "                                         thumbnail reply_to  \n",
       "0                                              NaN       []  \n",
       "1                                              NaN       []  \n",
       "2  https://pbs.twimg.com/media/Afkf5DMCAAEJGFr.jpg       []  \n",
       "3                                              NaN       []  \n",
       "4                                              NaN       []  "
      ]
     },
     "execution_count": 17,
     "metadata": {},
     "output_type": "execute_result"
    }
   ],
   "source": [
    "tweets.head()"
   ]
  },
  {
   "cell_type": "markdown",
   "id": "cd99d791",
   "metadata": {},
   "source": [
    "## Checking the remaining columns"
   ]
  },
  {
   "cell_type": "markdown",
   "id": "102f54d8",
   "metadata": {},
   "source": [
    "In the next step, I would go over each column to see how to use that col"
   ]
  },
  {
   "cell_type": "code",
   "execution_count": 18,
   "id": "07811043",
   "metadata": {
    "scrolled": false
   },
   "outputs": [
    {
     "data": {
      "text/plain": [
       "array(['en', 'und', 'it', 'de', 'nl', 'es', 'et', 'da', 'in', 'ja', 'hi',\n",
       "       'fr', 'pl', 'ro', 'vi', 'ca', 'cy', 'tr', 'sl', 'pt', 'lt', 'tl',\n",
       "       'fi', 'eu', 'ht', 'sv', 'ru', 'no', 'is', 'lv', 'cs', 'hu', 'sr',\n",
       "       'uk'], dtype=object)"
      ]
     },
     "execution_count": 18,
     "metadata": {},
     "output_type": "execute_result"
    }
   ],
   "source": [
    "# reviewing language col\n",
    "tweets['language'].unique()"
   ]
  },
  {
   "cell_type": "code",
   "execution_count": 19,
   "id": "df635ea6",
   "metadata": {},
   "outputs": [
    {
     "data": {
      "text/plain": [
       "en     11138\n",
       "und     1050\n",
       "tl       108\n",
       "fr        38\n",
       "de        35\n",
       "es        29\n",
       "in        24\n",
       "ru        15\n",
       "nl        14\n",
       "pt        11\n",
       "it        10\n",
       "et         9\n",
       "pl         9\n",
       "tr         7\n",
       "da         7\n",
       "lt         6\n",
       "ca         6\n",
       "cy         5\n",
       "hi         5\n",
       "ht         4\n",
       "ro         4\n",
       "no         4\n",
       "is         3\n",
       "sl         3\n",
       "ja         3\n",
       "sv         3\n",
       "cs         2\n",
       "lv         2\n",
       "vi         2\n",
       "fi         2\n",
       "eu         1\n",
       "hu         1\n",
       "sr         1\n",
       "uk         1\n",
       "Name: language, dtype: int64"
      ]
     },
     "execution_count": 19,
     "metadata": {},
     "output_type": "execute_result"
    }
   ],
   "source": [
    "tweets['language'].value_counts()"
   ]
  },
  {
   "cell_type": "code",
   "execution_count": 20,
   "id": "c808eef9",
   "metadata": {},
   "outputs": [],
   "source": [
    "#tweets are written in diff languages. As en is the most frequent one (above 90%), we only keep english tweets\n",
    "tweets = tweets[tweets['language'] == 'en']"
   ]
  },
  {
   "cell_type": "code",
   "execution_count": 21,
   "id": "fcb81bc5",
   "metadata": {},
   "outputs": [],
   "source": [
    "#Removing language cols\n",
    "tweets.drop(['language'], axis=1, inplace=True)"
   ]
  },
  {
   "cell_type": "code",
   "execution_count": 22,
   "id": "18725060",
   "metadata": {
    "scrolled": true
   },
   "outputs": [
    {
     "data": {
      "text/plain": [
       "array(['[]', \"['tsla']\"], dtype=object)"
      ]
     },
     "execution_count": 22,
     "metadata": {},
     "output_type": "execute_result"
    }
   ],
   "source": [
    "# reviewing cashtag col\n",
    "tweets['cashtags'].unique()"
   ]
  },
  {
   "cell_type": "code",
   "execution_count": 23,
   "id": "a82ec617",
   "metadata": {
    "scrolled": true
   },
   "outputs": [
    {
     "data": {
      "text/plain": [
       "[]          11137\n",
       "['tsla']        1\n",
       "Name: cashtags, dtype: int64"
      ]
     },
     "execution_count": 23,
     "metadata": {},
     "output_type": "execute_result"
    }
   ],
   "source": [
    "tweets['cashtags'].value_counts()"
   ]
  },
  {
   "cell_type": "code",
   "execution_count": 24,
   "id": "d3cfa06b",
   "metadata": {},
   "outputs": [
    {
     "data": {
      "text/html": [
       "<div>\n",
       "<style scoped>\n",
       "    .dataframe tbody tr th:only-of-type {\n",
       "        vertical-align: middle;\n",
       "    }\n",
       "\n",
       "    .dataframe tbody tr th {\n",
       "        vertical-align: top;\n",
       "    }\n",
       "\n",
       "    .dataframe thead th {\n",
       "        text-align: right;\n",
       "    }\n",
       "</style>\n",
       "<table border=\"1\" class=\"dataframe\">\n",
       "  <thead>\n",
       "    <tr style=\"text-align: right;\">\n",
       "      <th></th>\n",
       "      <th>created_at</th>\n",
       "      <th>Date</th>\n",
       "      <th>tweet</th>\n",
       "      <th>mentions</th>\n",
       "      <th>urls</th>\n",
       "      <th>replies_count</th>\n",
       "      <th>retweets_count</th>\n",
       "      <th>likes_count</th>\n",
       "      <th>hashtags</th>\n",
       "      <th>cashtags</th>\n",
       "      <th>link</th>\n",
       "      <th>quote_url</th>\n",
       "      <th>video</th>\n",
       "      <th>thumbnail</th>\n",
       "      <th>reply_to</th>\n",
       "    </tr>\n",
       "  </thead>\n",
       "  <tbody>\n",
       "    <tr>\n",
       "      <th>1005</th>\n",
       "      <td>2015-03-16 20:12:56 EET</td>\n",
       "      <td>2015-03-16</td>\n",
       "      <td>Some people seem to think I tweet to affect share price. This is false. A brief rise in $TSLA stock obviously does no good for Tesla or me.</td>\n",
       "      <td>[]</td>\n",
       "      <td>[]</td>\n",
       "      <td>139</td>\n",
       "      <td>618</td>\n",
       "      <td>1411</td>\n",
       "      <td>[]</td>\n",
       "      <td>['tsla']</td>\n",
       "      <td>https://twitter.com/elonmusk/status/577533020736909312</td>\n",
       "      <td>NaN</td>\n",
       "      <td>0</td>\n",
       "      <td>NaN</td>\n",
       "      <td>[]</td>\n",
       "    </tr>\n",
       "  </tbody>\n",
       "</table>\n",
       "</div>"
      ],
      "text/plain": [
       "                   created_at        Date  \\\n",
       "1005  2015-03-16 20:12:56 EET  2015-03-16   \n",
       "\n",
       "                                                                                                                                            tweet  \\\n",
       "1005  Some people seem to think I tweet to affect share price. This is false. A brief rise in $TSLA stock obviously does no good for Tesla or me.   \n",
       "\n",
       "     mentions urls  replies_count  retweets_count  likes_count hashtags  \\\n",
       "1005       []   []            139             618         1411       []   \n",
       "\n",
       "      cashtags                                                    link  \\\n",
       "1005  ['tsla']  https://twitter.com/elonmusk/status/577533020736909312   \n",
       "\n",
       "     quote_url  video thumbnail reply_to  \n",
       "1005       NaN      0       NaN       []  "
      ]
     },
     "execution_count": 24,
     "metadata": {},
     "output_type": "execute_result"
    }
   ],
   "source": [
    "tweets[tweets['cashtags'].str.contains('tsla')]"
   ]
  },
  {
   "cell_type": "code",
   "execution_count": 25,
   "id": "b97f800d",
   "metadata": {
    "scrolled": true
   },
   "outputs": [
    {
     "data": {
      "text/plain": [
       "'Some people seem to think I tweet to affect share price. This is false. A brief rise in $TSLA stock obviously does no good for Tesla or me.'"
      ]
     },
     "execution_count": 25,
     "metadata": {},
     "output_type": "execute_result"
    }
   ],
   "source": [
    "tweets['tweet'][1005]"
   ]
  },
  {
   "cell_type": "markdown",
   "id": "14265190",
   "metadata": {},
   "source": [
    "Link to this [tweet](https://twitter.com/elonmusk/status/577533020736909312)"
   ]
  },
  {
   "cell_type": "code",
   "execution_count": 26,
   "id": "5912eb06",
   "metadata": {},
   "outputs": [],
   "source": [
    "#Removing cashtags col\n",
    "tweets.drop(['cashtags'], axis=1, inplace=True)"
   ]
  },
  {
   "cell_type": "code",
   "execution_count": 27,
   "id": "c8f5f68a",
   "metadata": {},
   "outputs": [
    {
     "data": {
      "text/plain": [
       "array(['[]', \"['whatcouldpossiblygowrong']\", \"['plutostamp']\",\n",
       "       \"['antarctica']\", \"['apspacechat']\",\n",
       "       \"['occupymars', 'apspacechat']\", \"['dragonlaunch']\",\n",
       "       \"['grasshopperproject']\", \"['dragon']\", \"['occupymars']\",\n",
       "       \"['climate']\", \"['awesomexmasgifts']\", \"['zeitgeist2012']\",\n",
       "       \"['sb47']\", \"['sxsw']\", \"['teslatx']\", \"['hhgttg']\",\n",
       "       \"['katiewoodencloak']\", \"['yutu']\", \"['falconheavy']\",\n",
       "       \"['falconheavy', 'spacex']\", \"['throwflamesresponsibly']\",\n",
       "       \"['moneygang']\", \"['armageddon69']\", \"['deletefacebook']\",\n",
       "       \"['justiceforgeorge']\", \"['resistanceisfutile']\", \"['mars']\"],\n",
       "      dtype=object)"
      ]
     },
     "execution_count": 27,
     "metadata": {},
     "output_type": "execute_result"
    }
   ],
   "source": [
    "#Hashtag Col\n",
    "tweets['hashtags'].unique()"
   ]
  },
  {
   "cell_type": "code",
   "execution_count": 28,
   "id": "c9515bab",
   "metadata": {
    "scrolled": true
   },
   "outputs": [
    {
     "data": {
      "text/plain": [
       "'whatcouldpossiblygowrong'"
      ]
     },
     "execution_count": 28,
     "metadata": {},
     "output_type": "execute_result"
    }
   ],
   "source": [
    "tweets['hashtags'][40][2:-2]"
   ]
  },
  {
   "cell_type": "code",
   "execution_count": 29,
   "id": "bf881d7b",
   "metadata": {},
   "outputs": [],
   "source": [
    "# With the scope of this project, this column is not needed\n",
    "tweets.drop(['thumbnail'], axis=1, inplace=True)"
   ]
  },
  {
   "cell_type": "code",
   "execution_count": 30,
   "id": "72ac918c",
   "metadata": {},
   "outputs": [],
   "source": [
    "tweets['hashtags']=tweets['hashtags'].apply(lambda x: x[2:-2])"
   ]
  },
  {
   "cell_type": "code",
   "execution_count": 31,
   "id": "d6901249",
   "metadata": {},
   "outputs": [
    {
     "data": {
      "text/plain": [
       "array(['', 'whatcouldpossiblygowrong', 'plutostamp', 'antarctica',\n",
       "       'apspacechat', \"occupymars', 'apspacechat\", 'dragonlaunch',\n",
       "       'grasshopperproject', 'dragon', 'occupymars', 'climate',\n",
       "       'awesomexmasgifts', 'zeitgeist2012', 'sb47', 'sxsw', 'teslatx',\n",
       "       'hhgttg', 'katiewoodencloak', 'yutu', 'falconheavy',\n",
       "       \"falconheavy', 'spacex\", 'throwflamesresponsibly', 'moneygang',\n",
       "       'armageddon69', 'deletefacebook', 'justiceforgeorge',\n",
       "       'resistanceisfutile', 'mars'], dtype=object)"
      ]
     },
     "execution_count": 31,
     "metadata": {},
     "output_type": "execute_result"
    }
   ],
   "source": [
    "tweets['hashtags'].unique()"
   ]
  },
  {
   "cell_type": "code",
   "execution_count": 32,
   "id": "ca8d1c64",
   "metadata": {},
   "outputs": [],
   "source": [
    "# Define a function to remove punctuation when converting them to string\n",
    "import string\n",
    "\n",
    "def remove_punct(text):\n",
    "    text = \"\".join([char for char in text if char not in string.punctuation])\n",
    "    return text"
   ]
  },
  {
   "cell_type": "code",
   "execution_count": 33,
   "id": "6661a18a",
   "metadata": {},
   "outputs": [],
   "source": [
    "tweets['hashtags']=tweets['hashtags'].apply(lambda x: remove_punct(x))"
   ]
  },
  {
   "cell_type": "code",
   "execution_count": 34,
   "id": "d9b2cd20",
   "metadata": {
    "scrolled": false
   },
   "outputs": [
    {
     "data": {
      "text/plain": [
       "array(['', 'whatcouldpossiblygowrong', 'plutostamp', 'antarctica',\n",
       "       'apspacechat', 'occupymars apspacechat', 'dragonlaunch',\n",
       "       'grasshopperproject', 'dragon', 'occupymars', 'climate',\n",
       "       'awesomexmasgifts', 'zeitgeist2012', 'sb47', 'sxsw', 'teslatx',\n",
       "       'hhgttg', 'katiewoodencloak', 'yutu', 'falconheavy',\n",
       "       'falconheavy spacex', 'throwflamesresponsibly', 'moneygang',\n",
       "       'armageddon69', 'deletefacebook', 'justiceforgeorge',\n",
       "       'resistanceisfutile', 'mars'], dtype=object)"
      ]
     },
     "execution_count": 34,
     "metadata": {},
     "output_type": "execute_result"
    }
   ],
   "source": [
    "tweets['hashtags'].unique()"
   ]
  },
  {
   "cell_type": "code",
   "execution_count": 35,
   "id": "27ecadd5",
   "metadata": {},
   "outputs": [
    {
     "data": {
      "text/plain": [
       "                            11097\n",
       "dragonlaunch                    6\n",
       "dragon                          6\n",
       "falconheavy                     3\n",
       "sxsw                            2\n",
       "apspacechat                     2\n",
       "occupymars apspacechat          1\n",
       "katiewoodencloak                1\n",
       "resistanceisfutile              1\n",
       "justiceforgeorge                1\n",
       "deletefacebook                  1\n",
       "armageddon69                    1\n",
       "moneygang                       1\n",
       "throwflamesresponsibly          1\n",
       "falconheavy spacex              1\n",
       "plutostamp                      1\n",
       "yutu                            1\n",
       "hhgttg                          1\n",
       "teslatx                         1\n",
       "whatcouldpossiblygowrong        1\n",
       "sb47                            1\n",
       "zeitgeist2012                   1\n",
       "awesomexmasgifts                1\n",
       "climate                         1\n",
       "occupymars                      1\n",
       "antarctica                      1\n",
       "grasshopperproject              1\n",
       "mars                            1\n",
       "Name: hashtags, dtype: int64"
      ]
     },
     "execution_count": 35,
     "metadata": {},
     "output_type": "execute_result"
    }
   ],
   "source": [
    "tweets['hashtags'].value_counts()"
   ]
  },
  {
   "cell_type": "code",
   "execution_count": 36,
   "id": "01c0c06e",
   "metadata": {},
   "outputs": [],
   "source": [
    "#add hashtags to tweets\n",
    "tweets['tweets_hashtags']=tweets['tweet']+tweets['hashtags']"
   ]
  },
  {
   "cell_type": "code",
   "execution_count": 37,
   "id": "8ed16901",
   "metadata": {},
   "outputs": [],
   "source": [
    "#Removing hashtag cols\n",
    "tweets.drop(['hashtags'], axis=1, inplace=True)"
   ]
  },
  {
   "cell_type": "code",
   "execution_count": 38,
   "id": "beb1b519",
   "metadata": {},
   "outputs": [
    {
     "data": {
      "text/html": [
       "<div>\n",
       "<style scoped>\n",
       "    .dataframe tbody tr th:only-of-type {\n",
       "        vertical-align: middle;\n",
       "    }\n",
       "\n",
       "    .dataframe tbody tr th {\n",
       "        vertical-align: top;\n",
       "    }\n",
       "\n",
       "    .dataframe thead th {\n",
       "        text-align: right;\n",
       "    }\n",
       "</style>\n",
       "<table border=\"1\" class=\"dataframe\">\n",
       "  <thead>\n",
       "    <tr style=\"text-align: right;\">\n",
       "      <th></th>\n",
       "      <th>created_at</th>\n",
       "      <th>Date</th>\n",
       "      <th>tweet</th>\n",
       "      <th>mentions</th>\n",
       "      <th>urls</th>\n",
       "      <th>replies_count</th>\n",
       "      <th>retweets_count</th>\n",
       "      <th>likes_count</th>\n",
       "      <th>link</th>\n",
       "      <th>quote_url</th>\n",
       "      <th>video</th>\n",
       "      <th>reply_to</th>\n",
       "      <th>tweets_hashtags</th>\n",
       "    </tr>\n",
       "  </thead>\n",
       "  <tbody>\n",
       "    <tr>\n",
       "      <th>0</th>\n",
       "      <td>2010-06-04 21:31:57 EEST</td>\n",
       "      <td>2010-06-04</td>\n",
       "      <td>Please ignore prior tweets, as that was someone pretending to be me :)  This is actually me.</td>\n",
       "      <td>[]</td>\n",
       "      <td>[]</td>\n",
       "      <td>398</td>\n",
       "      <td>349</td>\n",
       "      <td>4710</td>\n",
       "      <td>https://twitter.com/elonmusk/status/15434727182</td>\n",
       "      <td>NaN</td>\n",
       "      <td>0</td>\n",
       "      <td>[]</td>\n",
       "      <td>Please ignore prior tweets, as that was someone pretending to be me :)  This is actually me.</td>\n",
       "    </tr>\n",
       "    <tr>\n",
       "      <th>1</th>\n",
       "      <td>2011-12-01 12:29:04 EET</td>\n",
       "      <td>2011-12-01</td>\n",
       "      <td>I made the volume on the Model S   go to 11.  Now I just need to work in a miniature Stonehenge...</td>\n",
       "      <td>[]</td>\n",
       "      <td>['http://ow.ly/i/mtD7']</td>\n",
       "      <td>31</td>\n",
       "      <td>9</td>\n",
       "      <td>79</td>\n",
       "      <td>https://twitter.com/elonmusk/status/142188458125963264</td>\n",
       "      <td>NaN</td>\n",
       "      <td>0</td>\n",
       "      <td>[]</td>\n",
       "      <td>I made the volume on the Model S   go to 11.  Now I just need to work in a miniature Stonehenge...</td>\n",
       "    </tr>\n",
       "    <tr>\n",
       "      <th>2</th>\n",
       "      <td>2011-12-01 11:55:11 EET</td>\n",
       "      <td>2011-12-01</td>\n",
       "      <td>Went to Iceland on Sat to ride bumper cars on ice!  No, not the country, Vlad's rink in Van Nuys. Awesome family fun :)</td>\n",
       "      <td>[]</td>\n",
       "      <td>[]</td>\n",
       "      <td>31</td>\n",
       "      <td>16</td>\n",
       "      <td>191</td>\n",
       "      <td>https://twitter.com/elonmusk/status/142179928203460608</td>\n",
       "      <td>NaN</td>\n",
       "      <td>1</td>\n",
       "      <td>[]</td>\n",
       "      <td>Went to Iceland on Sat to ride bumper cars on ice!  No, not the country, Vlad's rink in Van Nuys. Awesome family fun :)</td>\n",
       "    </tr>\n",
       "    <tr>\n",
       "      <th>3</th>\n",
       "      <td>2011-12-03 10:22:07 EET</td>\n",
       "      <td>2011-12-03</td>\n",
       "      <td>That was a total non sequitur btw</td>\n",
       "      <td>[]</td>\n",
       "      <td>[]</td>\n",
       "      <td>29</td>\n",
       "      <td>6</td>\n",
       "      <td>52</td>\n",
       "      <td>https://twitter.com/elonmusk/status/142881284019060736</td>\n",
       "      <td>NaN</td>\n",
       "      <td>0</td>\n",
       "      <td>[]</td>\n",
       "      <td>That was a total non sequitur btw</td>\n",
       "    </tr>\n",
       "    <tr>\n",
       "      <th>4</th>\n",
       "      <td>2011-12-03 10:20:28 EET</td>\n",
       "      <td>2011-12-03</td>\n",
       "      <td>Great Voltaire quote, arguably better than Twain. Hearing news of his own death, Voltaire replied the reports were true, only premature.</td>\n",
       "      <td>[]</td>\n",
       "      <td>[]</td>\n",
       "      <td>7</td>\n",
       "      <td>24</td>\n",
       "      <td>30</td>\n",
       "      <td>https://twitter.com/elonmusk/status/142880871391838208</td>\n",
       "      <td>NaN</td>\n",
       "      <td>0</td>\n",
       "      <td>[]</td>\n",
       "      <td>Great Voltaire quote, arguably better than Twain. Hearing news of his own death, Voltaire replied the reports were true, only premature.</td>\n",
       "    </tr>\n",
       "  </tbody>\n",
       "</table>\n",
       "</div>"
      ],
      "text/plain": [
       "                 created_at        Date  \\\n",
       "0  2010-06-04 21:31:57 EEST  2010-06-04   \n",
       "1   2011-12-01 12:29:04 EET  2011-12-01   \n",
       "2   2011-12-01 11:55:11 EET  2011-12-01   \n",
       "3   2011-12-03 10:22:07 EET  2011-12-03   \n",
       "4   2011-12-03 10:20:28 EET  2011-12-03   \n",
       "\n",
       "                                                                                                                                      tweet  \\\n",
       "0                                              Please ignore prior tweets, as that was someone pretending to be me :)  This is actually me.   \n",
       "1                                        I made the volume on the Model S   go to 11.  Now I just need to work in a miniature Stonehenge...   \n",
       "2                 Went to Iceland on Sat to ride bumper cars on ice!  No, not the country, Vlad's rink in Van Nuys. Awesome family fun :)     \n",
       "3                                                                                                         That was a total non sequitur btw   \n",
       "4  Great Voltaire quote, arguably better than Twain. Hearing news of his own death, Voltaire replied the reports were true, only premature.   \n",
       "\n",
       "  mentions                     urls  replies_count  retweets_count  \\\n",
       "0       []                       []            398             349   \n",
       "1       []  ['http://ow.ly/i/mtD7']             31               9   \n",
       "2       []                       []             31              16   \n",
       "3       []                       []             29               6   \n",
       "4       []                       []              7              24   \n",
       "\n",
       "   likes_count                                                    link  \\\n",
       "0         4710         https://twitter.com/elonmusk/status/15434727182   \n",
       "1           79  https://twitter.com/elonmusk/status/142188458125963264   \n",
       "2          191  https://twitter.com/elonmusk/status/142179928203460608   \n",
       "3           52  https://twitter.com/elonmusk/status/142881284019060736   \n",
       "4           30  https://twitter.com/elonmusk/status/142880871391838208   \n",
       "\n",
       "  quote_url  video reply_to  \\\n",
       "0       NaN      0       []   \n",
       "1       NaN      0       []   \n",
       "2       NaN      1       []   \n",
       "3       NaN      0       []   \n",
       "4       NaN      0       []   \n",
       "\n",
       "                                                                                                                            tweets_hashtags  \n",
       "0                                              Please ignore prior tweets, as that was someone pretending to be me :)  This is actually me.  \n",
       "1                                        I made the volume on the Model S   go to 11.  Now I just need to work in a miniature Stonehenge...  \n",
       "2                 Went to Iceland on Sat to ride bumper cars on ice!  No, not the country, Vlad's rink in Van Nuys. Awesome family fun :)    \n",
       "3                                                                                                         That was a total non sequitur btw  \n",
       "4  Great Voltaire quote, arguably better than Twain. Hearing news of his own death, Voltaire replied the reports were true, only premature.  "
      ]
     },
     "execution_count": 38,
     "metadata": {},
     "output_type": "execute_result"
    }
   ],
   "source": [
    "tweets.head()"
   ]
  },
  {
   "cell_type": "code",
   "execution_count": 39,
   "id": "ffb4e2db",
   "metadata": {
    "scrolled": true
   },
   "outputs": [
    {
     "data": {
      "text/plain": [
       "array(['[]', \"['http://ow.ly/i/mtD7']\",\n",
       "       \"['http://www.youtube.com/watch?v=jdug6yHJB40&feature=related']\",\n",
       "       ..., \"['https://en.m.wikipedia.org/wiki/Leo_Szilard']\",\n",
       "       \"['https://m.youtube.com/watch?v=NPBkiBbO4_4']\",\n",
       "       \"['https://m.youtube.com/watch?v=n1lbpj6868o']\"], dtype=object)"
      ]
     },
     "execution_count": 39,
     "metadata": {},
     "output_type": "execute_result"
    }
   ],
   "source": [
    "tweets['urls'].unique()"
   ]
  },
  {
   "cell_type": "code",
   "execution_count": 40,
   "id": "1bb98275",
   "metadata": {
    "scrolled": true
   },
   "outputs": [
    {
     "data": {
      "text/plain": [
       "[]                                                                              10041\n",
       "['http://Tesla.com']                                                               21\n",
       "['http://Tesla.com/solar']                                                          5\n",
       "['https://www.cdc.gov/coronavirus/2019-ncov/cases-updates/cases-in-us.html']        4\n",
       "['https://www.tesla.com/blog/all-our-patent-are-belong-you']                        3\n",
       "                                                                                ...  \n",
       "['https://m.youtube.com/watch?v=ib-02b2ooLY']                                       1\n",
       "['https://youtu.be/4jEz03Z8azc']                                                    1\n",
       "['https://twitter.com/spacex/status/736305431417491457']                            1\n",
       "['https://twitter.com/edloh/status/733413864671318016']                             1\n",
       "['https://m.youtube.com/watch?v=n1lbpj6868o']                                       1\n",
       "Name: urls, Length: 1033, dtype: int64"
      ]
     },
     "execution_count": 40,
     "metadata": {},
     "output_type": "execute_result"
    }
   ],
   "source": [
    "tweets['urls'].value_counts()"
   ]
  },
  {
   "cell_type": "code",
   "execution_count": 41,
   "id": "6e1c7b0b",
   "metadata": {},
   "outputs": [
    {
     "data": {
      "text/plain": [
       "249"
      ]
     },
     "execution_count": 41,
     "metadata": {},
     "output_type": "execute_result"
    }
   ],
   "source": [
    "tweets['urls'].str.contains('tesla|TSLA',case=False).sum()"
   ]
  },
  {
   "cell_type": "code",
   "execution_count": 42,
   "id": "a771c2e6",
   "metadata": {},
   "outputs": [],
   "source": [
    "# Replacing values of url with related value\n",
    "tweets['urls']=tweets['urls'].str.contains('tesla|TSLA',case=False)"
   ]
  },
  {
   "cell_type": "code",
   "execution_count": 43,
   "id": "e32baacf",
   "metadata": {},
   "outputs": [],
   "source": [
    "# rename it\n",
    "tweets.rename(columns={'urls': 'tesla_in_url'}, inplace=True)"
   ]
  },
  {
   "cell_type": "code",
   "execution_count": 44,
   "id": "478bb054",
   "metadata": {
    "scrolled": true
   },
   "outputs": [
    {
     "name": "stdout",
     "output_type": "stream",
     "text": [
      "<class 'pandas.core.frame.DataFrame'>\n",
      "Int64Index: 11138 entries, 0 to 12560\n",
      "Data columns (total 13 columns):\n",
      " #   Column           Non-Null Count  Dtype \n",
      "---  ------           --------------  ----- \n",
      " 0   created_at       11138 non-null  object\n",
      " 1   Date             11138 non-null  object\n",
      " 2   tweet            11138 non-null  object\n",
      " 3   mentions         11138 non-null  object\n",
      " 4   tesla_in_url     11138 non-null  bool  \n",
      " 5   replies_count    11138 non-null  int64 \n",
      " 6   retweets_count   11138 non-null  int64 \n",
      " 7   likes_count      11138 non-null  int64 \n",
      " 8   link             11138 non-null  object\n",
      " 9   quote_url        377 non-null    object\n",
      " 10  video            11138 non-null  int64 \n",
      " 11  reply_to         11138 non-null  object\n",
      " 12  tweets_hashtags  11138 non-null  object\n",
      "dtypes: bool(1), int64(4), object(8)\n",
      "memory usage: 1.4+ MB\n"
     ]
    }
   ],
   "source": [
    "tweets.info()"
   ]
  },
  {
   "cell_type": "code",
   "execution_count": 45,
   "id": "44b6c33d",
   "metadata": {},
   "outputs": [
    {
     "data": {
      "text/plain": [
       "9"
      ]
     },
     "execution_count": 45,
     "metadata": {},
     "output_type": "execute_result"
    }
   ],
   "source": [
    "#When Ilon musk has mentioned tesla\n",
    "\n",
    "tweets['mentions'].str.contains('tesla|TSLA',case=False).sum()"
   ]
  },
  {
   "cell_type": "code",
   "execution_count": 46,
   "id": "3b00ed0f",
   "metadata": {},
   "outputs": [],
   "source": [
    "#replacing with related value\n",
    "tweets['mentions']=tweets['mentions'].str.contains('tesla')"
   ]
  },
  {
   "cell_type": "code",
   "execution_count": 47,
   "id": "9237f8c2",
   "metadata": {},
   "outputs": [],
   "source": [
    "# rename it\n",
    "tweets.rename(columns={'mentions': 'tesla_mention'}, inplace=True)"
   ]
  },
  {
   "cell_type": "code",
   "execution_count": 48,
   "id": "23409091",
   "metadata": {},
   "outputs": [
    {
     "data": {
      "text/html": [
       "<div>\n",
       "<style scoped>\n",
       "    .dataframe tbody tr th:only-of-type {\n",
       "        vertical-align: middle;\n",
       "    }\n",
       "\n",
       "    .dataframe tbody tr th {\n",
       "        vertical-align: top;\n",
       "    }\n",
       "\n",
       "    .dataframe thead th {\n",
       "        text-align: right;\n",
       "    }\n",
       "</style>\n",
       "<table border=\"1\" class=\"dataframe\">\n",
       "  <thead>\n",
       "    <tr style=\"text-align: right;\">\n",
       "      <th></th>\n",
       "      <th>created_at</th>\n",
       "      <th>Date</th>\n",
       "      <th>tweet</th>\n",
       "      <th>tesla_mention</th>\n",
       "      <th>tesla_in_url</th>\n",
       "      <th>replies_count</th>\n",
       "      <th>retweets_count</th>\n",
       "      <th>likes_count</th>\n",
       "      <th>link</th>\n",
       "      <th>quote_url</th>\n",
       "      <th>video</th>\n",
       "      <th>reply_to</th>\n",
       "      <th>tweets_hashtags</th>\n",
       "    </tr>\n",
       "  </thead>\n",
       "  <tbody>\n",
       "    <tr>\n",
       "      <th>0</th>\n",
       "      <td>2010-06-04 21:31:57 EEST</td>\n",
       "      <td>2010-06-04</td>\n",
       "      <td>Please ignore prior tweets, as that was someone pretending to be me :)  This is actually me.</td>\n",
       "      <td>False</td>\n",
       "      <td>False</td>\n",
       "      <td>398</td>\n",
       "      <td>349</td>\n",
       "      <td>4710</td>\n",
       "      <td>https://twitter.com/elonmusk/status/15434727182</td>\n",
       "      <td>NaN</td>\n",
       "      <td>0</td>\n",
       "      <td>[]</td>\n",
       "      <td>Please ignore prior tweets, as that was someone pretending to be me :)  This is actually me.</td>\n",
       "    </tr>\n",
       "    <tr>\n",
       "      <th>1</th>\n",
       "      <td>2011-12-01 12:29:04 EET</td>\n",
       "      <td>2011-12-01</td>\n",
       "      <td>I made the volume on the Model S   go to 11.  Now I just need to work in a miniature Stonehenge...</td>\n",
       "      <td>False</td>\n",
       "      <td>False</td>\n",
       "      <td>31</td>\n",
       "      <td>9</td>\n",
       "      <td>79</td>\n",
       "      <td>https://twitter.com/elonmusk/status/142188458125963264</td>\n",
       "      <td>NaN</td>\n",
       "      <td>0</td>\n",
       "      <td>[]</td>\n",
       "      <td>I made the volume on the Model S   go to 11.  Now I just need to work in a miniature Stonehenge...</td>\n",
       "    </tr>\n",
       "  </tbody>\n",
       "</table>\n",
       "</div>"
      ],
      "text/plain": [
       "                 created_at        Date  \\\n",
       "0  2010-06-04 21:31:57 EEST  2010-06-04   \n",
       "1   2011-12-01 12:29:04 EET  2011-12-01   \n",
       "\n",
       "                                                                                                tweet  \\\n",
       "0        Please ignore prior tweets, as that was someone pretending to be me :)  This is actually me.   \n",
       "1  I made the volume on the Model S   go to 11.  Now I just need to work in a miniature Stonehenge...   \n",
       "\n",
       "   tesla_mention  tesla_in_url  replies_count  retweets_count  likes_count  \\\n",
       "0          False         False            398             349         4710   \n",
       "1          False         False             31               9           79   \n",
       "\n",
       "                                                     link quote_url  video  \\\n",
       "0         https://twitter.com/elonmusk/status/15434727182       NaN      0   \n",
       "1  https://twitter.com/elonmusk/status/142188458125963264       NaN      0   \n",
       "\n",
       "  reply_to  \\\n",
       "0       []   \n",
       "1       []   \n",
       "\n",
       "                                                                                      tweets_hashtags  \n",
       "0        Please ignore prior tweets, as that was someone pretending to be me :)  This is actually me.  \n",
       "1  I made the volume on the Model S   go to 11.  Now I just need to work in a miniature Stonehenge...  "
      ]
     },
     "execution_count": 48,
     "metadata": {},
     "output_type": "execute_result"
    }
   ],
   "source": [
    "tweets.head(2)"
   ]
  },
  {
   "cell_type": "code",
   "execution_count": 49,
   "id": "8a62ea94",
   "metadata": {},
   "outputs": [
    {
     "data": {
      "text/plain": [
       "368"
      ]
     },
     "execution_count": 49,
     "metadata": {},
     "output_type": "execute_result"
    }
   ],
   "source": [
    "tweets['quote_url'].nunique()"
   ]
  },
  {
   "cell_type": "code",
   "execution_count": 50,
   "id": "27f5eabf",
   "metadata": {},
   "outputs": [
    {
     "data": {
      "text/plain": [
       "65"
      ]
     },
     "execution_count": 50,
     "metadata": {},
     "output_type": "execute_result"
    }
   ],
   "source": [
    "tweets['quote_url'].str.contains('tesla|TSLA',case=False).sum()"
   ]
  },
  {
   "cell_type": "code",
   "execution_count": 51,
   "id": "01ad5e9c",
   "metadata": {
    "scrolled": false
   },
   "outputs": [
    {
     "data": {
      "text/plain": [
       "0                                                               7\n",
       "https://twitter.com/DrCamiloOrtiz/status/1114328048915099649    2\n",
       "https://twitter.com/boringcompany/status/1103428015030181888    2\n",
       "https://twitter.com/jburnmurdoch/status/1254461123753054209     2\n",
       "https://twitter.com/aleksjames54/status/1123037242807603200     1\n",
       "                                                               ..\n",
       "https://twitter.com/oloftenghoff/status/1001845642615017472     1\n",
       "https://twitter.com/elonmusk/status/1002379548804206592         1\n",
       "https://twitter.com/clickhole/status/1001887654294773760        1\n",
       "https://twitter.com/malala/status/1002225801427935233           1\n",
       "https://twitter.com/neuralink/status/1380303902139031553        1\n",
       "Name: quote_url, Length: 368, dtype: int64"
      ]
     },
     "execution_count": 51,
     "metadata": {},
     "output_type": "execute_result"
    }
   ],
   "source": [
    "tweets['quote_url'].value_counts()"
   ]
  },
  {
   "cell_type": "code",
   "execution_count": 52,
   "id": "23130f43",
   "metadata": {},
   "outputs": [],
   "source": [
    "tweets['quote_url']=tweets['quote_url'].str.contains('tesla|TSLA',case=False)"
   ]
  },
  {
   "cell_type": "code",
   "execution_count": 53,
   "id": "b086e1e7",
   "metadata": {},
   "outputs": [],
   "source": [
    "# rename it\n",
    "tweets.rename(columns={'quote_url': 'tesla_quote'}, inplace=True)"
   ]
  },
  {
   "cell_type": "code",
   "execution_count": 54,
   "id": "875c114e",
   "metadata": {},
   "outputs": [],
   "source": [
    "tweets['tesla_quote'].fillna(False, inplace=True)"
   ]
  },
  {
   "cell_type": "code",
   "execution_count": 55,
   "id": "ca73e01f",
   "metadata": {
    "scrolled": false
   },
   "outputs": [
    {
     "name": "stdout",
     "output_type": "stream",
     "text": [
      "<class 'pandas.core.frame.DataFrame'>\n",
      "Int64Index: 11138 entries, 0 to 12560\n",
      "Data columns (total 13 columns):\n",
      " #   Column           Non-Null Count  Dtype \n",
      "---  ------           --------------  ----- \n",
      " 0   created_at       11138 non-null  object\n",
      " 1   Date             11138 non-null  object\n",
      " 2   tweet            11138 non-null  object\n",
      " 3   tesla_mention    11138 non-null  bool  \n",
      " 4   tesla_in_url     11138 non-null  bool  \n",
      " 5   replies_count    11138 non-null  int64 \n",
      " 6   retweets_count   11138 non-null  int64 \n",
      " 7   likes_count      11138 non-null  int64 \n",
      " 8   link             11138 non-null  object\n",
      " 9   tesla_quote      11138 non-null  bool  \n",
      " 10  video            11138 non-null  int64 \n",
      " 11  reply_to         11138 non-null  object\n",
      " 12  tweets_hashtags  11138 non-null  object\n",
      "dtypes: bool(3), int64(4), object(6)\n",
      "memory usage: 1.2+ MB\n"
     ]
    }
   ],
   "source": [
    "tweets.info()"
   ]
  },
  {
   "cell_type": "code",
   "execution_count": 56,
   "id": "9511f43a",
   "metadata": {},
   "outputs": [
    {
     "data": {
      "text/plain": [
       "array([0, 1], dtype=int64)"
      ]
     },
     "execution_count": 56,
     "metadata": {},
     "output_type": "execute_result"
    }
   ],
   "source": [
    "# reviewing video col\n",
    "tweets['video'].unique()"
   ]
  },
  {
   "cell_type": "code",
   "execution_count": 57,
   "id": "727040ed",
   "metadata": {},
   "outputs": [
    {
     "data": {
      "text/plain": [
       "0    10542\n",
       "1      596\n",
       "Name: video, dtype: int64"
      ]
     },
     "execution_count": 57,
     "metadata": {},
     "output_type": "execute_result"
    }
   ],
   "source": [
    "tweets['video'].value_counts()"
   ]
  },
  {
   "cell_type": "code",
   "execution_count": 58,
   "id": "492fc24c",
   "metadata": {},
   "outputs": [],
   "source": [
    "#Removing video cols\n",
    "tweets.drop(['video'], axis=1, inplace=True)"
   ]
  },
  {
   "cell_type": "code",
   "execution_count": 59,
   "id": "a7ba1c8c",
   "metadata": {
    "scrolled": true
   },
   "outputs": [
    {
     "data": {
      "text/plain": [
       "(11138, 12)"
      ]
     },
     "execution_count": 59,
     "metadata": {},
     "output_type": "execute_result"
    }
   ],
   "source": [
    "tweets.shape"
   ]
  },
  {
   "cell_type": "code",
   "execution_count": 60,
   "id": "3f4dcfcc",
   "metadata": {},
   "outputs": [
    {
     "data": {
      "text/html": [
       "<div>\n",
       "<style scoped>\n",
       "    .dataframe tbody tr th:only-of-type {\n",
       "        vertical-align: middle;\n",
       "    }\n",
       "\n",
       "    .dataframe tbody tr th {\n",
       "        vertical-align: top;\n",
       "    }\n",
       "\n",
       "    .dataframe thead th {\n",
       "        text-align: right;\n",
       "    }\n",
       "</style>\n",
       "<table border=\"1\" class=\"dataframe\">\n",
       "  <thead>\n",
       "    <tr style=\"text-align: right;\">\n",
       "      <th></th>\n",
       "      <th>created_at</th>\n",
       "      <th>Date</th>\n",
       "      <th>tweet</th>\n",
       "      <th>tesla_mention</th>\n",
       "      <th>tesla_in_url</th>\n",
       "      <th>replies_count</th>\n",
       "      <th>retweets_count</th>\n",
       "      <th>likes_count</th>\n",
       "      <th>link</th>\n",
       "      <th>tesla_quote</th>\n",
       "      <th>reply_to</th>\n",
       "      <th>tweets_hashtags</th>\n",
       "    </tr>\n",
       "  </thead>\n",
       "  <tbody>\n",
       "    <tr>\n",
       "      <th>0</th>\n",
       "      <td>2010-06-04 21:31:57 EEST</td>\n",
       "      <td>2010-06-04</td>\n",
       "      <td>Please ignore prior tweets, as that was someone pretending to be me :)  This is actually me.</td>\n",
       "      <td>False</td>\n",
       "      <td>False</td>\n",
       "      <td>398</td>\n",
       "      <td>349</td>\n",
       "      <td>4710</td>\n",
       "      <td>https://twitter.com/elonmusk/status/15434727182</td>\n",
       "      <td>False</td>\n",
       "      <td>[]</td>\n",
       "      <td>Please ignore prior tweets, as that was someone pretending to be me :)  This is actually me.</td>\n",
       "    </tr>\n",
       "    <tr>\n",
       "      <th>1</th>\n",
       "      <td>2011-12-01 12:29:04 EET</td>\n",
       "      <td>2011-12-01</td>\n",
       "      <td>I made the volume on the Model S   go to 11.  Now I just need to work in a miniature Stonehenge...</td>\n",
       "      <td>False</td>\n",
       "      <td>False</td>\n",
       "      <td>31</td>\n",
       "      <td>9</td>\n",
       "      <td>79</td>\n",
       "      <td>https://twitter.com/elonmusk/status/142188458125963264</td>\n",
       "      <td>False</td>\n",
       "      <td>[]</td>\n",
       "      <td>I made the volume on the Model S   go to 11.  Now I just need to work in a miniature Stonehenge...</td>\n",
       "    </tr>\n",
       "  </tbody>\n",
       "</table>\n",
       "</div>"
      ],
      "text/plain": [
       "                 created_at        Date  \\\n",
       "0  2010-06-04 21:31:57 EEST  2010-06-04   \n",
       "1   2011-12-01 12:29:04 EET  2011-12-01   \n",
       "\n",
       "                                                                                                tweet  \\\n",
       "0        Please ignore prior tweets, as that was someone pretending to be me :)  This is actually me.   \n",
       "1  I made the volume on the Model S   go to 11.  Now I just need to work in a miniature Stonehenge...   \n",
       "\n",
       "   tesla_mention  tesla_in_url  replies_count  retweets_count  likes_count  \\\n",
       "0          False         False            398             349         4710   \n",
       "1          False         False             31               9           79   \n",
       "\n",
       "                                                     link  tesla_quote  \\\n",
       "0         https://twitter.com/elonmusk/status/15434727182        False   \n",
       "1  https://twitter.com/elonmusk/status/142188458125963264        False   \n",
       "\n",
       "  reply_to  \\\n",
       "0       []   \n",
       "1       []   \n",
       "\n",
       "                                                                                      tweets_hashtags  \n",
       "0        Please ignore prior tweets, as that was someone pretending to be me :)  This is actually me.  \n",
       "1  I made the volume on the Model S   go to 11.  Now I just need to work in a miniature Stonehenge...  "
      ]
     },
     "execution_count": 60,
     "metadata": {},
     "output_type": "execute_result"
    }
   ],
   "source": [
    "tweets.head(2)"
   ]
  },
  {
   "cell_type": "code",
   "execution_count": 61,
   "id": "c22de1c5",
   "metadata": {},
   "outputs": [
    {
     "data": {
      "text/plain": [
       "1303"
      ]
     },
     "execution_count": 61,
     "metadata": {},
     "output_type": "execute_result"
    }
   ],
   "source": [
    "tweets['reply_to'].str.contains('tesla|TSLA',case=False).sum()"
   ]
  },
  {
   "cell_type": "code",
   "execution_count": 62,
   "id": "e47164ae",
   "metadata": {},
   "outputs": [],
   "source": [
    "tweets['reply_to_tesla']=tweets['reply_to'].str.contains('tesla|TSLA',case=False)"
   ]
  },
  {
   "cell_type": "code",
   "execution_count": 63,
   "id": "b7b57955",
   "metadata": {},
   "outputs": [
    {
     "data": {
      "text/plain": [
       "array(['[]',\n",
       "       \"[{'screen_name': 'reddit', 'name': 'Reddit', 'id': '811377'}]\",\n",
       "       \"[{'screen_name': 'margotroosevelt', 'name': 'Margot Roosevelt', 'id': '112873659'}]\",\n",
       "       ...,\n",
       "       \"[{'screen_name': 'Erdayastronaut', 'name': 'Everyday Astronaut', 'id': '3167257102'}, {'screen_name': 'thesheetztweetz', 'name': 'Michael Sheetz', 'id': '1231406720'}]\",\n",
       "       \"[{'screen_name': 'WhatsupFranks', 'name': 'franks&beans', 'id': '724771370131824641'}]\",\n",
       "       \"[{'screen_name': 'neuralink', 'name': 'Neuralink', 'id': '895332160130891776'}, {'screen_name': 'shivon', 'name': 'Shivon Zilis', 'id': '446719282'}]\"],\n",
       "      dtype=object)"
      ]
     },
     "execution_count": 63,
     "metadata": {},
     "output_type": "execute_result"
    }
   ],
   "source": [
    "tweets['reply_to'].unique()"
   ]
  },
  {
   "cell_type": "code",
   "execution_count": 64,
   "id": "2f85ee5f",
   "metadata": {},
   "outputs": [],
   "source": [
    "def str_to_list(x):\n",
    "    if x!='[]':\n",
    "        return x.strip('][').split(', ')    "
   ]
  },
  {
   "cell_type": "code",
   "execution_count": 65,
   "id": "69e38b00",
   "metadata": {},
   "outputs": [],
   "source": [
    "tweets['reply_to']=tweets['reply_to'].apply(lambda x:str_to_list(x))"
   ]
  },
  {
   "cell_type": "code",
   "execution_count": 66,
   "id": "2ab78d61",
   "metadata": {},
   "outputs": [
    {
     "data": {
      "text/plain": [
       "['Neuralink', 'Shivon Zilis']"
      ]
     },
     "execution_count": 66,
     "metadata": {},
     "output_type": "execute_result"
    }
   ],
   "source": [
    "def get_name(x):\n",
    "    if x is not None:\n",
    "        y=[]\n",
    "        for i in x:\n",
    "\n",
    "            if 'name' in i and 'screen_name' not in i:\n",
    "                y.append(i[9:-1])\n",
    "\n",
    "        return y\n",
    "\n",
    "get_name(tweets['reply_to'][12558])"
   ]
  },
  {
   "cell_type": "code",
   "execution_count": 67,
   "id": "34650f10",
   "metadata": {},
   "outputs": [],
   "source": [
    "tweets['reply_to']=tweets['reply_to'].apply(lambda x:get_name(x))"
   ]
  },
  {
   "cell_type": "code",
   "execution_count": 68,
   "id": "bae51d1a",
   "metadata": {},
   "outputs": [
    {
     "data": {
      "text/plain": [
       "1303"
      ]
     },
     "execution_count": 68,
     "metadata": {},
     "output_type": "execute_result"
    }
   ],
   "source": [
    "tweets[tweets['reply_to_tesla']]['reply_to'].value_counts().sum()"
   ]
  },
  {
   "cell_type": "code",
   "execution_count": 69,
   "id": "7a8b1c3b",
   "metadata": {
    "scrolled": true
   },
   "outputs": [
    {
     "data": {
      "text/plain": [
       "[TESLARATI]                                                   87\n",
       "[Tesla]                                                       41\n",
       "[Tesla Owners of Silicon Valley]                              35\n",
       "[Third Row Tesla Podcast]                                     25\n",
       "[Tesla Owners Online]                                         20\n",
       "                                                              ..\n",
       "[Renata Konkoly 🐢🦔, TESLARATI]                                 1\n",
       "[E for Electric, Tesla]                                        1\n",
       "[Viv, “Mary”, Lex Fridman, Tesla]                              1\n",
       "[🧠 Elon’s Brain 🧠, Tesla]                                      1\n",
       "[Andy Weedman, Andrej Karpathy, DirtyTesla 🛰Starlink Plz🛰]     1\n",
       "Name: reply_to, Length: 893, dtype: int64"
      ]
     },
     "execution_count": 69,
     "metadata": {},
     "output_type": "execute_result"
    }
   ],
   "source": [
    "tweets[tweets['reply_to_tesla']]['reply_to'].value_counts()"
   ]
  },
  {
   "cell_type": "code",
   "execution_count": 70,
   "id": "d7756007",
   "metadata": {},
   "outputs": [],
   "source": [
    "#Removing reply to col\n",
    "tweets.drop(['reply_to'], axis=1, inplace=True)"
   ]
  },
  {
   "cell_type": "code",
   "execution_count": 71,
   "id": "97240136",
   "metadata": {},
   "outputs": [
    {
     "name": "stdout",
     "output_type": "stream",
     "text": [
      "<class 'pandas.core.frame.DataFrame'>\n",
      "Int64Index: 11138 entries, 0 to 12560\n",
      "Data columns (total 12 columns):\n",
      " #   Column           Non-Null Count  Dtype \n",
      "---  ------           --------------  ----- \n",
      " 0   created_at       11138 non-null  object\n",
      " 1   Date             11138 non-null  object\n",
      " 2   tweet            11138 non-null  object\n",
      " 3   tesla_mention    11138 non-null  bool  \n",
      " 4   tesla_in_url     11138 non-null  bool  \n",
      " 5   replies_count    11138 non-null  int64 \n",
      " 6   retweets_count   11138 non-null  int64 \n",
      " 7   likes_count      11138 non-null  int64 \n",
      " 8   link             11138 non-null  object\n",
      " 9   tesla_quote      11138 non-null  bool  \n",
      " 10  tweets_hashtags  11138 non-null  object\n",
      " 11  reply_to_tesla   11138 non-null  bool  \n",
      "dtypes: bool(4), int64(3), object(5)\n",
      "memory usage: 1.1+ MB\n"
     ]
    }
   ],
   "source": [
    "tweets.info()"
   ]
  },
  {
   "cell_type": "markdown",
   "id": "d6308961",
   "metadata": {},
   "source": [
    "### Exploring content of tweets"
   ]
  },
  {
   "cell_type": "code",
   "execution_count": 72,
   "id": "7a6259d2",
   "metadata": {},
   "outputs": [
    {
     "data": {
      "text/plain": [
       "Index(['created_at', 'Date', 'tweet', 'tesla_mention', 'tesla_in_url',\n",
       "       'replies_count', 'retweets_count', 'likes_count', 'link', 'tesla_quote',\n",
       "       'tweets_hashtags', 'reply_to_tesla'],\n",
       "      dtype='object')"
      ]
     },
     "execution_count": 72,
     "metadata": {},
     "output_type": "execute_result"
    }
   ],
   "source": [
    "tweets.columns"
   ]
  },
  {
   "cell_type": "code",
   "execution_count": 73,
   "id": "4f46516e",
   "metadata": {
    "scrolled": true
   },
   "outputs": [
    {
     "data": {
      "text/plain": [
       "1001"
      ]
     },
     "execution_count": 73,
     "metadata": {},
     "output_type": "execute_result"
    }
   ],
   "source": [
    "tweets['tweets_hashtags'].str.contains('tsla|tesla|$TSLA', case=False).sum()"
   ]
  },
  {
   "cell_type": "code",
   "execution_count": 74,
   "id": "dafd27b9",
   "metadata": {},
   "outputs": [],
   "source": [
    "import re"
   ]
  },
  {
   "cell_type": "code",
   "execution_count": 75,
   "id": "4309ca61",
   "metadata": {},
   "outputs": [
    {
     "data": {
      "text/plain": [
       "312"
      ]
     },
     "execution_count": 75,
     "metadata": {},
     "output_type": "execute_result"
    }
   ],
   "source": [
    "tweets['tweet'].str.contains(r'\\bcar\\b', flags=re.IGNORECASE,case=False).sum()"
   ]
  },
  {
   "cell_type": "code",
   "execution_count": 76,
   "id": "828f3b81",
   "metadata": {},
   "outputs": [
    {
     "data": {
      "text/plain": [
       "372"
      ]
     },
     "execution_count": 76,
     "metadata": {},
     "output_type": "execute_result"
    }
   ],
   "source": [
    "tweets['tweet'].str.contains('Model',case=False).sum()"
   ]
  },
  {
   "cell_type": "code",
   "execution_count": 77,
   "id": "1a30dd71",
   "metadata": {
    "scrolled": true
   },
   "outputs": [
    {
     "data": {
      "text/plain": [
       "278"
      ]
     },
     "execution_count": 77,
     "metadata": {},
     "output_type": "execute_result"
    }
   ],
   "source": [
    "tweets['tweet'].str.contains('auto',case=False).sum()"
   ]
  },
  {
   "cell_type": "code",
   "execution_count": 78,
   "id": "6bcbe246",
   "metadata": {},
   "outputs": [
    {
     "data": {
      "text/plain": [
       "1474"
      ]
     },
     "execution_count": 78,
     "metadata": {},
     "output_type": "execute_result"
    }
   ],
   "source": [
    "tweets['tweets_hashtags'].str.contains('tsla|tesla|$TSLA|auto|Model', case=False).sum()"
   ]
  },
  {
   "cell_type": "code",
   "execution_count": 79,
   "id": "52acb5c1",
   "metadata": {},
   "outputs": [],
   "source": [
    "tweets['tweet_tesla']=tweets['tweet'].str.contains('tsla|tesla|$TSLA|auto|Model', case=False)"
   ]
  },
  {
   "cell_type": "markdown",
   "id": "6cefe90d",
   "metadata": {},
   "source": [
    "### Making Time Zones consistent\n",
    "Tweets are made at different time zones, in the following codes, I am converting all the times to ET to be consistant with nasdaq time zone (Eastern Time Zone)"
   ]
  },
  {
   "cell_type": "code",
   "execution_count": 80,
   "id": "8f566f29",
   "metadata": {},
   "outputs": [
    {
     "data": {
      "text/plain": [
       "4117"
      ]
     },
     "execution_count": 80,
     "metadata": {},
     "output_type": "execute_result"
    }
   ],
   "source": [
    "tweets['created_at'].str.contains('EET').sum()"
   ]
  },
  {
   "cell_type": "code",
   "execution_count": 81,
   "id": "bb3cf821",
   "metadata": {},
   "outputs": [
    {
     "data": {
      "text/plain": [
       "7021"
      ]
     },
     "execution_count": 81,
     "metadata": {},
     "output_type": "execute_result"
    }
   ],
   "source": [
    "tweets['created_at'].str.contains('EEST').sum()"
   ]
  },
  {
   "cell_type": "markdown",
   "id": "de9e0b84",
   "metadata": {},
   "source": [
    "-------------\n",
    "#### 1. Eastern European Summer Time (EEST)\n"
   ]
  },
  {
   "cell_type": "code",
   "execution_count": 82,
   "id": "451d0b91",
   "metadata": {
    "scrolled": false
   },
   "outputs": [],
   "source": [
    "#Eastern European Summer Time (EEST)\n",
    "tweets_EEST=tweets[tweets['created_at'].str.contains('EEST')].copy()"
   ]
  },
  {
   "cell_type": "code",
   "execution_count": 83,
   "id": "fd6f8f87",
   "metadata": {},
   "outputs": [
    {
     "data": {
      "text/html": [
       "<div>\n",
       "<style scoped>\n",
       "    .dataframe tbody tr th:only-of-type {\n",
       "        vertical-align: middle;\n",
       "    }\n",
       "\n",
       "    .dataframe tbody tr th {\n",
       "        vertical-align: top;\n",
       "    }\n",
       "\n",
       "    .dataframe thead th {\n",
       "        text-align: right;\n",
       "    }\n",
       "</style>\n",
       "<table border=\"1\" class=\"dataframe\">\n",
       "  <thead>\n",
       "    <tr style=\"text-align: right;\">\n",
       "      <th></th>\n",
       "      <th>created_at</th>\n",
       "      <th>Date</th>\n",
       "      <th>tweet</th>\n",
       "      <th>tesla_mention</th>\n",
       "      <th>tesla_in_url</th>\n",
       "      <th>replies_count</th>\n",
       "      <th>retweets_count</th>\n",
       "      <th>likes_count</th>\n",
       "      <th>link</th>\n",
       "      <th>tesla_quote</th>\n",
       "      <th>tweets_hashtags</th>\n",
       "      <th>reply_to_tesla</th>\n",
       "      <th>tweet_tesla</th>\n",
       "    </tr>\n",
       "  </thead>\n",
       "  <tbody>\n",
       "    <tr>\n",
       "      <th>0</th>\n",
       "      <td>2010-06-04 21:31:57</td>\n",
       "      <td>2010-06-04</td>\n",
       "      <td>Please ignore prior tweets, as that was someone pretending to be me :)  This is actually me.</td>\n",
       "      <td>False</td>\n",
       "      <td>False</td>\n",
       "      <td>398</td>\n",
       "      <td>349</td>\n",
       "      <td>4710</td>\n",
       "      <td>https://twitter.com/elonmusk/status/15434727182</td>\n",
       "      <td>False</td>\n",
       "      <td>Please ignore prior tweets, as that was someone pretending to be me :)  This is actually me.</td>\n",
       "      <td>False</td>\n",
       "      <td>False</td>\n",
       "    </tr>\n",
       "    <tr>\n",
       "      <th>115</th>\n",
       "      <td>2012-03-28 03:32:07</td>\n",
       "      <td>2012-03-28</td>\n",
       "      <td>The Model S beta endurance car just passed 150,000 miles on a single battery pack!</td>\n",
       "      <td>False</td>\n",
       "      <td>False</td>\n",
       "      <td>26</td>\n",
       "      <td>165</td>\n",
       "      <td>28</td>\n",
       "      <td>https://twitter.com/elonmusk/status/184799999043964928</td>\n",
       "      <td>False</td>\n",
       "      <td>The Model S beta endurance car just passed 150,000 miles on a single battery pack!</td>\n",
       "      <td>False</td>\n",
       "      <td>True</td>\n",
       "    </tr>\n",
       "  </tbody>\n",
       "</table>\n",
       "</div>"
      ],
      "text/plain": [
       "             created_at        Date  \\\n",
       "0   2010-06-04 21:31:57  2010-06-04   \n",
       "115 2012-03-28 03:32:07  2012-03-28   \n",
       "\n",
       "                                                                                            tweet  \\\n",
       "0    Please ignore prior tweets, as that was someone pretending to be me :)  This is actually me.   \n",
       "115            The Model S beta endurance car just passed 150,000 miles on a single battery pack!   \n",
       "\n",
       "     tesla_mention  tesla_in_url  replies_count  retweets_count  likes_count  \\\n",
       "0            False         False            398             349         4710   \n",
       "115          False         False             26             165           28   \n",
       "\n",
       "                                                       link  tesla_quote  \\\n",
       "0           https://twitter.com/elonmusk/status/15434727182        False   \n",
       "115  https://twitter.com/elonmusk/status/184799999043964928        False   \n",
       "\n",
       "                                                                                  tweets_hashtags  \\\n",
       "0    Please ignore prior tweets, as that was someone pretending to be me :)  This is actually me.   \n",
       "115            The Model S beta endurance car just passed 150,000 miles on a single battery pack!   \n",
       "\n",
       "     reply_to_tesla  tweet_tesla  \n",
       "0             False        False  \n",
       "115           False         True  "
      ]
     },
     "execution_count": 83,
     "metadata": {},
     "output_type": "execute_result"
    }
   ],
   "source": [
    "#Subtracting time zone at the end of string and converting it to timestamp datatype\n",
    "tweets_EEST['created_at']=tweets_EEST['created_at'].apply(lambda x: pd.to_datetime((x[:-5]) ,format=\"%Y-%m-%d %H:%M:%S\"))\n",
    "tweets_EEST.head(2)"
   ]
  },
  {
   "cell_type": "code",
   "execution_count": 84,
   "id": "721eeb52",
   "metadata": {},
   "outputs": [],
   "source": [
    "# Subtracting 5 hours to make it consistent with ET (stock price time)\n",
    "tweets_EEST['created_at']=tweets_EEST['created_at'].apply(lambda x: x-pd.Timedelta(hours=5))"
   ]
  },
  {
   "cell_type": "code",
   "execution_count": 85,
   "id": "c02159b1",
   "metadata": {},
   "outputs": [
    {
     "data": {
      "text/plain": [
       "0     2010-06-04 16:31:57\n",
       "115   2012-03-27 22:32:07\n",
       "116   2012-03-31 15:43:06\n",
       "117   2012-03-31 14:42:30\n",
       "118   2012-04-01 16:44:24\n",
       "Name: created_at, dtype: datetime64[ns]"
      ]
     },
     "execution_count": 85,
     "metadata": {},
     "output_type": "execute_result"
    }
   ],
   "source": [
    "tweets_EEST['created_at'].head(5)"
   ]
  },
  {
   "cell_type": "markdown",
   "id": "13cb31de",
   "metadata": {},
   "source": [
    "-------------------------\n",
    "#### 2. Eastern European Time (EET)"
   ]
  },
  {
   "cell_type": "code",
   "execution_count": 86,
   "id": "74506374",
   "metadata": {},
   "outputs": [],
   "source": [
    "#Eastern European Time (EET)\n",
    "tweets_EET=tweets[tweets['created_at'].str.contains('EET')].copy()"
   ]
  },
  {
   "cell_type": "code",
   "execution_count": 87,
   "id": "ab0f36a0",
   "metadata": {},
   "outputs": [
    {
     "data": {
      "text/html": [
       "<div>\n",
       "<style scoped>\n",
       "    .dataframe tbody tr th:only-of-type {\n",
       "        vertical-align: middle;\n",
       "    }\n",
       "\n",
       "    .dataframe tbody tr th {\n",
       "        vertical-align: top;\n",
       "    }\n",
       "\n",
       "    .dataframe thead th {\n",
       "        text-align: right;\n",
       "    }\n",
       "</style>\n",
       "<table border=\"1\" class=\"dataframe\">\n",
       "  <thead>\n",
       "    <tr style=\"text-align: right;\">\n",
       "      <th></th>\n",
       "      <th>created_at</th>\n",
       "      <th>Date</th>\n",
       "      <th>tweet</th>\n",
       "      <th>tesla_mention</th>\n",
       "      <th>tesla_in_url</th>\n",
       "      <th>replies_count</th>\n",
       "      <th>retweets_count</th>\n",
       "      <th>likes_count</th>\n",
       "      <th>link</th>\n",
       "      <th>tesla_quote</th>\n",
       "      <th>tweets_hashtags</th>\n",
       "      <th>reply_to_tesla</th>\n",
       "      <th>tweet_tesla</th>\n",
       "    </tr>\n",
       "  </thead>\n",
       "  <tbody>\n",
       "    <tr>\n",
       "      <th>1</th>\n",
       "      <td>2011-12-01 12:29:00</td>\n",
       "      <td>2011-12-01</td>\n",
       "      <td>I made the volume on the Model S   go to 11.  Now I just need to work in a miniature Stonehenge...</td>\n",
       "      <td>False</td>\n",
       "      <td>False</td>\n",
       "      <td>31</td>\n",
       "      <td>9</td>\n",
       "      <td>79</td>\n",
       "      <td>https://twitter.com/elonmusk/status/142188458125963264</td>\n",
       "      <td>False</td>\n",
       "      <td>I made the volume on the Model S   go to 11.  Now I just need to work in a miniature Stonehenge...</td>\n",
       "      <td>False</td>\n",
       "      <td>True</td>\n",
       "    </tr>\n",
       "    <tr>\n",
       "      <th>2</th>\n",
       "      <td>2011-12-01 11:55:01</td>\n",
       "      <td>2011-12-01</td>\n",
       "      <td>Went to Iceland on Sat to ride bumper cars on ice!  No, not the country, Vlad's rink in Van Nuys. Awesome family fun :)</td>\n",
       "      <td>False</td>\n",
       "      <td>False</td>\n",
       "      <td>31</td>\n",
       "      <td>16</td>\n",
       "      <td>191</td>\n",
       "      <td>https://twitter.com/elonmusk/status/142179928203460608</td>\n",
       "      <td>False</td>\n",
       "      <td>Went to Iceland on Sat to ride bumper cars on ice!  No, not the country, Vlad's rink in Van Nuys. Awesome family fun :)</td>\n",
       "      <td>False</td>\n",
       "      <td>False</td>\n",
       "    </tr>\n",
       "  </tbody>\n",
       "</table>\n",
       "</div>"
      ],
      "text/plain": [
       "           created_at        Date  \\\n",
       "1 2011-12-01 12:29:00  2011-12-01   \n",
       "2 2011-12-01 11:55:01  2011-12-01   \n",
       "\n",
       "                                                                                                                       tweet  \\\n",
       "1                         I made the volume on the Model S   go to 11.  Now I just need to work in a miniature Stonehenge...   \n",
       "2  Went to Iceland on Sat to ride bumper cars on ice!  No, not the country, Vlad's rink in Van Nuys. Awesome family fun :)     \n",
       "\n",
       "   tesla_mention  tesla_in_url  replies_count  retweets_count  likes_count  \\\n",
       "1          False         False             31               9           79   \n",
       "2          False         False             31              16          191   \n",
       "\n",
       "                                                     link  tesla_quote  \\\n",
       "1  https://twitter.com/elonmusk/status/142188458125963264        False   \n",
       "2  https://twitter.com/elonmusk/status/142179928203460608        False   \n",
       "\n",
       "                                                                                                             tweets_hashtags  \\\n",
       "1                         I made the volume on the Model S   go to 11.  Now I just need to work in a miniature Stonehenge...   \n",
       "2  Went to Iceland on Sat to ride bumper cars on ice!  No, not the country, Vlad's rink in Van Nuys. Awesome family fun :)     \n",
       "\n",
       "   reply_to_tesla  tweet_tesla  \n",
       "1           False         True  \n",
       "2           False        False  "
      ]
     },
     "execution_count": 87,
     "metadata": {},
     "output_type": "execute_result"
    }
   ],
   "source": [
    "#Subtracting time zone at the end of string and converting it to timestamp datatype\n",
    "tweets_EET['created_at']=tweets_EET['created_at'].apply(lambda x: pd.to_datetime((x[:-5]) ,format=\"%Y-%m-%d %H:%M:%S\"))\n",
    "tweets_EET.head(2)"
   ]
  },
  {
   "cell_type": "code",
   "execution_count": 88,
   "id": "bf0bf545",
   "metadata": {},
   "outputs": [
    {
     "data": {
      "text/html": [
       "<div>\n",
       "<style scoped>\n",
       "    .dataframe tbody tr th:only-of-type {\n",
       "        vertical-align: middle;\n",
       "    }\n",
       "\n",
       "    .dataframe tbody tr th {\n",
       "        vertical-align: top;\n",
       "    }\n",
       "\n",
       "    .dataframe thead th {\n",
       "        text-align: right;\n",
       "    }\n",
       "</style>\n",
       "<table border=\"1\" class=\"dataframe\">\n",
       "  <thead>\n",
       "    <tr style=\"text-align: right;\">\n",
       "      <th></th>\n",
       "      <th>created_at</th>\n",
       "      <th>Date</th>\n",
       "      <th>tweet</th>\n",
       "      <th>tesla_mention</th>\n",
       "      <th>tesla_in_url</th>\n",
       "      <th>replies_count</th>\n",
       "      <th>retweets_count</th>\n",
       "      <th>likes_count</th>\n",
       "      <th>link</th>\n",
       "      <th>tesla_quote</th>\n",
       "      <th>tweets_hashtags</th>\n",
       "      <th>reply_to_tesla</th>\n",
       "      <th>tweet_tesla</th>\n",
       "    </tr>\n",
       "  </thead>\n",
       "  <tbody>\n",
       "    <tr>\n",
       "      <th>1</th>\n",
       "      <td>2011-12-01 06:29:00</td>\n",
       "      <td>2011-12-01</td>\n",
       "      <td>I made the volume on the Model S   go to 11.  Now I just need to work in a miniature Stonehenge...</td>\n",
       "      <td>False</td>\n",
       "      <td>False</td>\n",
       "      <td>31</td>\n",
       "      <td>9</td>\n",
       "      <td>79</td>\n",
       "      <td>https://twitter.com/elonmusk/status/142188458125963264</td>\n",
       "      <td>False</td>\n",
       "      <td>I made the volume on the Model S   go to 11.  Now I just need to work in a miniature Stonehenge...</td>\n",
       "      <td>False</td>\n",
       "      <td>True</td>\n",
       "    </tr>\n",
       "    <tr>\n",
       "      <th>2</th>\n",
       "      <td>2011-12-01 05:55:01</td>\n",
       "      <td>2011-12-01</td>\n",
       "      <td>Went to Iceland on Sat to ride bumper cars on ice!  No, not the country, Vlad's rink in Van Nuys. Awesome family fun :)</td>\n",
       "      <td>False</td>\n",
       "      <td>False</td>\n",
       "      <td>31</td>\n",
       "      <td>16</td>\n",
       "      <td>191</td>\n",
       "      <td>https://twitter.com/elonmusk/status/142179928203460608</td>\n",
       "      <td>False</td>\n",
       "      <td>Went to Iceland on Sat to ride bumper cars on ice!  No, not the country, Vlad's rink in Van Nuys. Awesome family fun :)</td>\n",
       "      <td>False</td>\n",
       "      <td>False</td>\n",
       "    </tr>\n",
       "  </tbody>\n",
       "</table>\n",
       "</div>"
      ],
      "text/plain": [
       "           created_at        Date  \\\n",
       "1 2011-12-01 06:29:00  2011-12-01   \n",
       "2 2011-12-01 05:55:01  2011-12-01   \n",
       "\n",
       "                                                                                                                       tweet  \\\n",
       "1                         I made the volume on the Model S   go to 11.  Now I just need to work in a miniature Stonehenge...   \n",
       "2  Went to Iceland on Sat to ride bumper cars on ice!  No, not the country, Vlad's rink in Van Nuys. Awesome family fun :)     \n",
       "\n",
       "   tesla_mention  tesla_in_url  replies_count  retweets_count  likes_count  \\\n",
       "1          False         False             31               9           79   \n",
       "2          False         False             31              16          191   \n",
       "\n",
       "                                                     link  tesla_quote  \\\n",
       "1  https://twitter.com/elonmusk/status/142188458125963264        False   \n",
       "2  https://twitter.com/elonmusk/status/142179928203460608        False   \n",
       "\n",
       "                                                                                                             tweets_hashtags  \\\n",
       "1                         I made the volume on the Model S   go to 11.  Now I just need to work in a miniature Stonehenge...   \n",
       "2  Went to Iceland on Sat to ride bumper cars on ice!  No, not the country, Vlad's rink in Van Nuys. Awesome family fun :)     \n",
       "\n",
       "   reply_to_tesla  tweet_tesla  \n",
       "1           False         True  \n",
       "2           False        False  "
      ]
     },
     "execution_count": 88,
     "metadata": {},
     "output_type": "execute_result"
    }
   ],
   "source": [
    "# Subtracting 5 hours to make it consistent with ET (stock price time)\n",
    "tweets_EET['created_at']=tweets_EET['created_at'].apply(lambda x: x-pd.Timedelta(hours=6))\n",
    "tweets_EET.head(2)"
   ]
  },
  {
   "cell_type": "markdown",
   "id": "4a64718c",
   "metadata": {},
   "source": [
    "#### 3. Concatenating two cols and name it tweets"
   ]
  },
  {
   "cell_type": "code",
   "execution_count": 89,
   "id": "2c2816a8",
   "metadata": {},
   "outputs": [],
   "source": [
    "tweets = pd.concat([tweets_EET, tweets_EEST], ignore_index=True).sort_values('created_at').reset_index(drop=True)"
   ]
  },
  {
   "cell_type": "code",
   "execution_count": 90,
   "id": "4c99c93b",
   "metadata": {},
   "outputs": [],
   "source": [
    "# Defining a function to convert string to datetime and apply to date col\n",
    "def str_to_datetime(x):\n",
    "    return pd.to_datetime(x).date()"
   ]
  },
  {
   "cell_type": "code",
   "execution_count": 91,
   "id": "3ae523cf",
   "metadata": {},
   "outputs": [
    {
     "name": "stdout",
     "output_type": "stream",
     "text": [
      "2021-03-01\n"
     ]
    }
   ],
   "source": [
    "print(str_to_datetime('2021-03-01'))"
   ]
  },
  {
   "cell_type": "code",
   "execution_count": 92,
   "id": "c0d0c397",
   "metadata": {
    "scrolled": true
   },
   "outputs": [],
   "source": [
    "tweets['Date']=tweets['Date'].apply(lambda x:str_to_datetime(x))"
   ]
  },
  {
   "cell_type": "code",
   "execution_count": 93,
   "id": "5364a6b8",
   "metadata": {},
   "outputs": [],
   "source": [
    "tweets.to_csv('tweets_clean.csv', index=False)"
   ]
  },
  {
   "cell_type": "markdown",
   "id": "931d8239",
   "metadata": {},
   "source": [
    "## Some EDA on number of tweets"
   ]
  },
  {
   "cell_type": "code",
   "execution_count": 94,
   "id": "44b1edae",
   "metadata": {},
   "outputs": [
    {
     "data": {
      "text/html": [
       "<div>\n",
       "<style scoped>\n",
       "    .dataframe tbody tr th:only-of-type {\n",
       "        vertical-align: middle;\n",
       "    }\n",
       "\n",
       "    .dataframe tbody tr th {\n",
       "        vertical-align: top;\n",
       "    }\n",
       "\n",
       "    .dataframe thead th {\n",
       "        text-align: right;\n",
       "    }\n",
       "</style>\n",
       "<table border=\"1\" class=\"dataframe\">\n",
       "  <thead>\n",
       "    <tr style=\"text-align: right;\">\n",
       "      <th></th>\n",
       "      <th>Date</th>\n",
       "      <th>count</th>\n",
       "    </tr>\n",
       "  </thead>\n",
       "  <tbody>\n",
       "    <tr>\n",
       "      <th>0</th>\n",
       "      <td>2010-06-04</td>\n",
       "      <td>1</td>\n",
       "    </tr>\n",
       "    <tr>\n",
       "      <th>1</th>\n",
       "      <td>2011-12-01</td>\n",
       "      <td>2</td>\n",
       "    </tr>\n",
       "    <tr>\n",
       "      <th>2</th>\n",
       "      <td>2011-12-03</td>\n",
       "      <td>2</td>\n",
       "    </tr>\n",
       "    <tr>\n",
       "      <th>3</th>\n",
       "      <td>2011-12-04</td>\n",
       "      <td>1</td>\n",
       "    </tr>\n",
       "    <tr>\n",
       "      <th>4</th>\n",
       "      <td>2011-12-21</td>\n",
       "      <td>6</td>\n",
       "    </tr>\n",
       "    <tr>\n",
       "      <th>...</th>\n",
       "      <td>...</td>\n",
       "      <td>...</td>\n",
       "    </tr>\n",
       "    <tr>\n",
       "      <th>1996</th>\n",
       "      <td>2021-04-13</td>\n",
       "      <td>1</td>\n",
       "    </tr>\n",
       "    <tr>\n",
       "      <th>1997</th>\n",
       "      <td>2021-04-14</td>\n",
       "      <td>8</td>\n",
       "    </tr>\n",
       "    <tr>\n",
       "      <th>1998</th>\n",
       "      <td>2021-04-15</td>\n",
       "      <td>18</td>\n",
       "    </tr>\n",
       "    <tr>\n",
       "      <th>1999</th>\n",
       "      <td>2021-04-16</td>\n",
       "      <td>7</td>\n",
       "    </tr>\n",
       "    <tr>\n",
       "      <th>2000</th>\n",
       "      <td>2021-04-17</td>\n",
       "      <td>6</td>\n",
       "    </tr>\n",
       "  </tbody>\n",
       "</table>\n",
       "<p>2001 rows × 2 columns</p>\n",
       "</div>"
      ],
      "text/plain": [
       "            Date  count\n",
       "0     2010-06-04      1\n",
       "1     2011-12-01      2\n",
       "2     2011-12-03      2\n",
       "3     2011-12-04      1\n",
       "4     2011-12-21      6\n",
       "...          ...    ...\n",
       "1996  2021-04-13      1\n",
       "1997  2021-04-14      8\n",
       "1998  2021-04-15     18\n",
       "1999  2021-04-16      7\n",
       "2000  2021-04-17      6\n",
       "\n",
       "[2001 rows x 2 columns]"
      ]
     },
     "execution_count": 94,
     "metadata": {},
     "output_type": "execute_result"
    }
   ],
   "source": [
    "tweets.groupby('Date').size().reset_index(name='count')"
   ]
  },
  {
   "cell_type": "code",
   "execution_count": 99,
   "id": "28a6f62f",
   "metadata": {},
   "outputs": [
    {
     "data": {
      "image/png": "[encoded data removed]",
      "text/plain": [
       "<Figure size 640x480 with 1 Axes>"
      ]
     },
     "metadata": {},
     "output_type": "display_data"
    }
   ],
   "source": [
    "# group by date and get the count of values per date\n",
    "tweets_counts = tweets.groupby('Date').size().reset_index(name='count')\n",
    "\n",
    "# plot bar chart\n",
    "plt.bar(tweets_counts['Date'],tweets_counts['count'])\n",
    "plt.xlabel('Date')\n",
    "plt.ylabel('Number of Tweets')\n",
    "plt.title('Total Number of Elon Musks tweets per Day over time')\n",
    "plt.show()"
   ]
  },
  {
   "cell_type": "code",
   "execution_count": 100,
   "id": "b7894d44",
   "metadata": {},
   "outputs": [
    {
     "name": "stdout",
     "output_type": "stream",
     "text": [
      "Max number of tweets per day: 53 \n",
      "Min number of tweets per day: 1\n"
     ]
    }
   ],
   "source": [
    "print('Max number of tweets per day:',tweets_counts['count'].max(),'\\nMin number of tweets per day:',tweets_counts['count'].min())"
   ]
  },
  {
   "cell_type": "code",
   "execution_count": 101,
   "id": "145caf55",
   "metadata": {},
   "outputs": [
    {
     "data": {
      "text/plain": [
       "(2001, 2)"
      ]
     },
     "execution_count": 101,
     "metadata": {},
     "output_type": "execute_result"
    }
   ],
   "source": [
    "tweets_counts.shape"
   ]
  },
  {
   "cell_type": "code",
   "execution_count": 102,
   "id": "461113cf",
   "metadata": {},
   "outputs": [
    {
     "data": {
      "text/html": [
       "<div>\n",
       "<style scoped>\n",
       "    .dataframe tbody tr th:only-of-type {\n",
       "        vertical-align: middle;\n",
       "    }\n",
       "\n",
       "    .dataframe tbody tr th {\n",
       "        vertical-align: top;\n",
       "    }\n",
       "\n",
       "    .dataframe thead th {\n",
       "        text-align: right;\n",
       "    }\n",
       "</style>\n",
       "<table border=\"1\" class=\"dataframe\">\n",
       "  <thead>\n",
       "    <tr style=\"text-align: right;\">\n",
       "      <th></th>\n",
       "      <th>Date</th>\n",
       "      <th>count</th>\n",
       "    </tr>\n",
       "  </thead>\n",
       "  <tbody>\n",
       "    <tr>\n",
       "      <th>0</th>\n",
       "      <td>2010-06-04</td>\n",
       "      <td>1</td>\n",
       "    </tr>\n",
       "    <tr>\n",
       "      <th>1</th>\n",
       "      <td>2011-12-01</td>\n",
       "      <td>2</td>\n",
       "    </tr>\n",
       "    <tr>\n",
       "      <th>2</th>\n",
       "      <td>2011-12-03</td>\n",
       "      <td>2</td>\n",
       "    </tr>\n",
       "    <tr>\n",
       "      <th>3</th>\n",
       "      <td>2011-12-04</td>\n",
       "      <td>1</td>\n",
       "    </tr>\n",
       "    <tr>\n",
       "      <th>4</th>\n",
       "      <td>2011-12-21</td>\n",
       "      <td>6</td>\n",
       "    </tr>\n",
       "    <tr>\n",
       "      <th>5</th>\n",
       "      <td>2011-12-22</td>\n",
       "      <td>4</td>\n",
       "    </tr>\n",
       "    <tr>\n",
       "      <th>6</th>\n",
       "      <td>2011-12-24</td>\n",
       "      <td>3</td>\n",
       "    </tr>\n",
       "    <tr>\n",
       "      <th>7</th>\n",
       "      <td>2011-12-26</td>\n",
       "      <td>5</td>\n",
       "    </tr>\n",
       "    <tr>\n",
       "      <th>8</th>\n",
       "      <td>2011-12-28</td>\n",
       "      <td>1</td>\n",
       "    </tr>\n",
       "    <tr>\n",
       "      <th>9</th>\n",
       "      <td>2011-12-29</td>\n",
       "      <td>4</td>\n",
       "    </tr>\n",
       "  </tbody>\n",
       "</table>\n",
       "</div>"
      ],
      "text/plain": [
       "         Date  count\n",
       "0  2010-06-04      1\n",
       "1  2011-12-01      2\n",
       "2  2011-12-03      2\n",
       "3  2011-12-04      1\n",
       "4  2011-12-21      6\n",
       "5  2011-12-22      4\n",
       "6  2011-12-24      3\n",
       "7  2011-12-26      5\n",
       "8  2011-12-28      1\n",
       "9  2011-12-29      4"
      ]
     },
     "execution_count": 102,
     "metadata": {},
     "output_type": "execute_result"
    }
   ],
   "source": [
    "tweets_counts.head(10)"
   ]
  },
  {
   "cell_type": "code",
   "execution_count": 103,
   "id": "f7e683a0",
   "metadata": {},
   "outputs": [
    {
     "data": {
      "text/plain": [
       "array([ 1,  2,  6,  4,  3,  5, 10,  9,  7,  8, 12, 13, 11, 31, 14, 18, 19,\n",
       "       21, 20, 16, 46, 44, 17, 15, 23, 28, 33, 30, 29, 53, 27, 26, 25, 22,\n",
       "       34, 42, 41, 24, 35], dtype=int64)"
      ]
     },
     "execution_count": 103,
     "metadata": {},
     "output_type": "execute_result"
    }
   ],
   "source": [
    "tweets_counts['count'].unique()"
   ]
  },
  {
   "cell_type": "code",
   "execution_count": 104,
   "id": "959f3497",
   "metadata": {},
   "outputs": [
    {
     "data": {
      "image/png": "[encoded data removed]",
      "text/plain": [
       "<Figure size 640x480 with 1 Axes>"
      ]
     },
     "metadata": {},
     "output_type": "display_data"
    }
   ],
   "source": [
    "tweets_counts_counts = tweets_counts.groupby('count').size().reset_index(name='count_of_count')\n",
    "# plot bar chart\n",
    "plt.bar(tweets_counts_counts['count'],tweets_counts_counts['count_of_count'])\n",
    "plt.xlabel('count')\n",
    "plt.ylabel('count_of_count')\n",
    "plt.title('Distribution of number of tweets')\n",
    "plt.show()"
   ]
  },
  {
   "cell_type": "code",
   "execution_count": 105,
   "id": "e163a52d",
   "metadata": {},
   "outputs": [
    {
     "data": {
      "text/plain": [
       "(datetime.date(2010, 6, 4), datetime.date(2021, 4, 17))"
      ]
     },
     "execution_count": 105,
     "metadata": {},
     "output_type": "execute_result"
    }
   ],
   "source": [
    "start_date = tweets['Date'].min()\n",
    "end_date = tweets['Date'].max()\n",
    "start_date, end_date"
   ]
  },
  {
   "cell_type": "code",
   "execution_count": 106,
   "id": "ee391870",
   "metadata": {},
   "outputs": [
    {
     "data": {
      "text/plain": [
       "3971"
      ]
     },
     "execution_count": 106,
     "metadata": {},
     "output_type": "execute_result"
    }
   ],
   "source": [
    "#Number of days between the oldest and newest date\n",
    "days_diff = ((end_date - start_date).days)+1\n",
    "days_diff"
   ]
  },
  {
   "cell_type": "code",
   "execution_count": 107,
   "id": "c4ecf9d5",
   "metadata": {},
   "outputs": [
    {
     "data": {
      "text/plain": [
       "2001"
      ]
     },
     "execution_count": 107,
     "metadata": {},
     "output_type": "execute_result"
    }
   ],
   "source": [
    "#number of day Elon Musk has tweeted sth\n",
    "tweets['Date'].nunique()"
   ]
  },
  {
   "cell_type": "code",
   "execution_count": 108,
   "id": "f23343f6",
   "metadata": {},
   "outputs": [
    {
     "data": {
      "text/plain": [
       "1970"
      ]
     },
     "execution_count": 108,
     "metadata": {},
     "output_type": "execute_result"
    }
   ],
   "source": [
    "#number of days he tweeted nothing:\n",
    "days_diff-tweets['Date'].nunique()"
   ]
  },
  {
   "cell_type": "markdown",
   "id": "79d3a044",
   "metadata": {},
   "source": [
    "## Adding missing dates to tweets table\n",
    "In those days,  **number of tweets=0**"
   ]
  },
  {
   "cell_type": "code",
   "execution_count": 109,
   "id": "cdf0222c",
   "metadata": {},
   "outputs": [
    {
     "name": "stdout",
     "output_type": "stream",
     "text": [
      "(3971, 2)\n"
     ]
    }
   ],
   "source": [
    "# create a time index from '2010-06-04' to '2021-04-17'\n",
    "date = pd.date_range(start='2010-06-04', end='2021-04-17', freq='D')\n",
    "\n",
    "# create a dataframe with zeros and the time index\n",
    "df = pd.DataFrame(np.zeros((len(date), 1)), index=date, columns=['value'])\n",
    "\n",
    "df = df.reset_index().rename(columns={'index': 'Date'})\n",
    "\n",
    "# display the resulting dataframe\n",
    "print(df.shape)"
   ]
  },
  {
   "cell_type": "code",
   "execution_count": 110,
   "id": "d4abaaa2",
   "metadata": {
    "scrolled": false
   },
   "outputs": [
    {
     "data": {
      "text/html": [
       "<div>\n",
       "<style scoped>\n",
       "    .dataframe tbody tr th:only-of-type {\n",
       "        vertical-align: middle;\n",
       "    }\n",
       "\n",
       "    .dataframe tbody tr th {\n",
       "        vertical-align: top;\n",
       "    }\n",
       "\n",
       "    .dataframe thead th {\n",
       "        text-align: right;\n",
       "    }\n",
       "</style>\n",
       "<table border=\"1\" class=\"dataframe\">\n",
       "  <thead>\n",
       "    <tr style=\"text-align: right;\">\n",
       "      <th></th>\n",
       "      <th>Date</th>\n",
       "      <th>value</th>\n",
       "    </tr>\n",
       "  </thead>\n",
       "  <tbody>\n",
       "    <tr>\n",
       "      <th>0</th>\n",
       "      <td>2010-06-04</td>\n",
       "      <td>0.0</td>\n",
       "    </tr>\n",
       "  </tbody>\n",
       "</table>\n",
       "</div>"
      ],
      "text/plain": [
       "        Date  value\n",
       "0 2010-06-04    0.0"
      ]
     },
     "execution_count": 110,
     "metadata": {},
     "output_type": "execute_result"
    }
   ],
   "source": [
    "df.head(1)"
   ]
  },
  {
   "cell_type": "code",
   "execution_count": 111,
   "id": "99215f55",
   "metadata": {},
   "outputs": [
    {
     "data": {
      "text/plain": [
       "(13108, 14)"
      ]
     },
     "execution_count": 111,
     "metadata": {},
     "output_type": "execute_result"
    }
   ],
   "source": [
    "# convert 'Date' column in tweets to datetime format\n",
    "tweets['Date'] = pd.to_datetime(tweets['Date'])\n",
    "\n",
    "# perform outer join on 'Date' column\n",
    "tweets_all_dates = pd.merge(df, tweets, on='Date', how='outer')\n",
    "\n",
    "# display result\n",
    "tweets_all_dates.shape"
   ]
  },
  {
   "cell_type": "code",
   "execution_count": 112,
   "id": "b830b927",
   "metadata": {},
   "outputs": [],
   "source": [
    "tweets_all_dates = tweets_all_dates.drop('value', axis=1)"
   ]
  },
  {
   "cell_type": "code",
   "execution_count": 113,
   "id": "b5450d0e",
   "metadata": {},
   "outputs": [],
   "source": [
    "tweets_all_dates['tweet']=tweets_all_dates['tweet'].fillna(0)"
   ]
  },
  {
   "cell_type": "code",
   "execution_count": 114,
   "id": "f50f445e",
   "metadata": {},
   "outputs": [
    {
     "data": {
      "text/html": [
       "<div>\n",
       "<style scoped>\n",
       "    .dataframe tbody tr th:only-of-type {\n",
       "        vertical-align: middle;\n",
       "    }\n",
       "\n",
       "    .dataframe tbody tr th {\n",
       "        vertical-align: top;\n",
       "    }\n",
       "\n",
       "    .dataframe thead th {\n",
       "        text-align: right;\n",
       "    }\n",
       "</style>\n",
       "<table border=\"1\" class=\"dataframe\">\n",
       "  <thead>\n",
       "    <tr style=\"text-align: right;\">\n",
       "      <th></th>\n",
       "      <th>Date</th>\n",
       "      <th>created_at</th>\n",
       "      <th>tweet</th>\n",
       "      <th>tesla_mention</th>\n",
       "      <th>tesla_in_url</th>\n",
       "      <th>replies_count</th>\n",
       "      <th>retweets_count</th>\n",
       "      <th>likes_count</th>\n",
       "      <th>link</th>\n",
       "      <th>tesla_quote</th>\n",
       "      <th>tweets_hashtags</th>\n",
       "      <th>reply_to_tesla</th>\n",
       "      <th>tweet_tesla</th>\n",
       "    </tr>\n",
       "  </thead>\n",
       "  <tbody>\n",
       "    <tr>\n",
       "      <th>0</th>\n",
       "      <td>2010-06-04</td>\n",
       "      <td>2010-06-04 16:31:57</td>\n",
       "      <td>Please ignore prior tweets, as that was someone pretending to be me :)  This is actually me.</td>\n",
       "      <td>False</td>\n",
       "      <td>False</td>\n",
       "      <td>398.0</td>\n",
       "      <td>349.0</td>\n",
       "      <td>4710.0</td>\n",
       "      <td>https://twitter.com/elonmusk/status/15434727182</td>\n",
       "      <td>False</td>\n",
       "      <td>Please ignore prior tweets, as that was someone pretending to be me :)  This is actually me.</td>\n",
       "      <td>False</td>\n",
       "      <td>False</td>\n",
       "    </tr>\n",
       "  </tbody>\n",
       "</table>\n",
       "</div>"
      ],
      "text/plain": [
       "        Date          created_at  \\\n",
       "0 2010-06-04 2010-06-04 16:31:57   \n",
       "\n",
       "                                                                                          tweet  \\\n",
       "0  Please ignore prior tweets, as that was someone pretending to be me :)  This is actually me.   \n",
       "\n",
       "  tesla_mention tesla_in_url  replies_count  retweets_count  likes_count  \\\n",
       "0         False        False          398.0           349.0       4710.0   \n",
       "\n",
       "                                              link tesla_quote  \\\n",
       "0  https://twitter.com/elonmusk/status/15434727182       False   \n",
       "\n",
       "                                                                                tweets_hashtags  \\\n",
       "0  Please ignore prior tweets, as that was someone pretending to be me :)  This is actually me.   \n",
       "\n",
       "  reply_to_tesla tweet_tesla  \n",
       "0          False       False  "
      ]
     },
     "execution_count": 114,
     "metadata": {},
     "output_type": "execute_result"
    }
   ],
   "source": [
    "tweets_all_dates.head(1)"
   ]
  },
  {
   "cell_type": "code",
   "execution_count": 115,
   "id": "9c54be34",
   "metadata": {},
   "outputs": [
    {
     "name": "stdout",
     "output_type": "stream",
     "text": [
      "<class 'pandas.core.frame.DataFrame'>\n",
      "Int64Index: 13108 entries, 0 to 13107\n",
      "Data columns (total 13 columns):\n",
      " #   Column           Non-Null Count  Dtype         \n",
      "---  ------           --------------  -----         \n",
      " 0   Date             13108 non-null  datetime64[ns]\n",
      " 1   created_at       11138 non-null  datetime64[ns]\n",
      " 2   tweet            13108 non-null  object        \n",
      " 3   tesla_mention    11138 non-null  object        \n",
      " 4   tesla_in_url     11138 non-null  object        \n",
      " 5   replies_count    11138 non-null  float64       \n",
      " 6   retweets_count   11138 non-null  float64       \n",
      " 7   likes_count      11138 non-null  float64       \n",
      " 8   link             11138 non-null  object        \n",
      " 9   tesla_quote      11138 non-null  object        \n",
      " 10  tweets_hashtags  11138 non-null  object        \n",
      " 11  reply_to_tesla   11138 non-null  object        \n",
      " 12  tweet_tesla      11138 non-null  object        \n",
      "dtypes: datetime64[ns](2), float64(3), object(8)\n",
      "memory usage: 1.4+ MB\n"
     ]
    },
    {
     "data": {
      "text/plain": [
       "((13108, 13), None)"
      ]
     },
     "execution_count": 115,
     "metadata": {},
     "output_type": "execute_result"
    }
   ],
   "source": [
    "tweets_all_dates.shape,tweets_all_dates.info()"
   ]
  },
  {
   "cell_type": "code",
   "execution_count": 116,
   "id": "22fadf44",
   "metadata": {},
   "outputs": [],
   "source": [
    "#saving the table\n",
    "tweets_all_dates.to_csv('tweets_all_dates.csv', index=False)"
   ]
  },
  {
   "cell_type": "markdown",
   "id": "1d931ce2",
   "metadata": {},
   "source": [
    "## Some EDA with tweets in all dates"
   ]
  },
  {
   "cell_type": "code",
   "execution_count": 157,
   "id": "fd520444",
   "metadata": {},
   "outputs": [
    {
     "name": "stdout",
     "output_type": "stream",
     "text": [
      "        Date  count  value\n",
      "0 2010-06-04    1.0    0.0\n"
     ]
    }
   ],
   "source": [
    "# convert 'Date' column in tweets to datetime format\n",
    "tweets_counts['Date'] = pd.to_datetime(tweets_counts['Date'])\n",
    "\n",
    "\n",
    "# perform outer join on 'date' column with tweets_counts table\n",
    "tweets_all_date_count= pd.merge(tweets_counts,df, on='Date', how='outer')\n",
    "\n",
    "# display result\n",
    "print(tweets_all_date_count.head(1))"
   ]
  },
  {
   "cell_type": "code",
   "execution_count": 158,
   "id": "0fd3631d",
   "metadata": {},
   "outputs": [],
   "source": [
    "tweets_all_date_count['count']=tweets_all_date_count['count'].fillna(0)"
   ]
  },
  {
   "cell_type": "code",
   "execution_count": 159,
   "id": "6f03054b",
   "metadata": {},
   "outputs": [],
   "source": [
    "#Remove redundant col of value\n",
    "tweets_all_date_count = tweets_all_date_count.drop('value', axis=1)\n",
    "# Sorting values chronologically\n",
    "tweets_all_date_count = tweets_all_date_count.sort_values(by='Date')\n",
    "# Making time index\n",
    "tweets_all_date_count = tweets_all_date_count.set_index('Date')"
   ]
  },
  {
   "cell_type": "code",
   "execution_count": 160,
   "id": "1d75c25c",
   "metadata": {},
   "outputs": [
    {
     "data": {
      "text/plain": [
       "(3971, 1)"
      ]
     },
     "execution_count": 160,
     "metadata": {},
     "output_type": "execute_result"
    }
   ],
   "source": [
    "tweets_all_date_count.shape"
   ]
  },
  {
   "cell_type": "code",
   "execution_count": 161,
   "id": "e8cb5ef8",
   "metadata": {},
   "outputs": [
    {
     "data": {
      "image/png": "[encoded data removed]",
      "text/plain": [
       "<Figure size 1000x400 with 1 Axes>"
      ]
     },
     "metadata": {},
     "output_type": "display_data"
    }
   ],
   "source": [
    "#tweet counts per day over time\n",
    "fig, ax = plt.subplots(figsize=(10,4))\n",
    "ax.plot(tweets_all_date_count)\n",
    "plt.title('Total Number of Elon tweets per Day over time',fontsize=18)\n",
    "ax.set_ylabel('Number of Tweets',fontsize=14)\n",
    "plt.savefig('./data/daily_tweets.png')\n",
    "\n",
    "plt.show()"
   ]
  },
  {
   "cell_type": "code",
   "execution_count": 162,
   "id": "b016e614",
   "metadata": {},
   "outputs": [
    {
     "data": {
      "image/png": "[encoded data removed]",
      "text/plain": [
       "<Figure size 1000x400 with 1 Axes>"
      ]
     },
     "metadata": {},
     "output_type": "display_data"
    }
   ],
   "source": [
    "#tweet counts per month over time\n",
    "fig, ax = plt.subplots(figsize=(10,4))\n",
    "\n",
    "monthly_sum = tweets_all_date_count.resample('M').sum()\n",
    "ax.plot(monthly_sum ,'.')\n",
    "\n",
    "plt.title('Total Number of Elon tweets per Month over time',fontsize=18)\n",
    "\n",
    "ax.set_ylabel('Number of Tweets',fontsize=14)\n",
    "\n",
    "plt.savefig('./data/monthly_tweets.png')\n",
    "\n",
    "plt.show()"
   ]
  },
  {
   "cell_type": "code",
   "execution_count": 139,
   "id": "3ea042db",
   "metadata": {},
   "outputs": [
    {
     "data": {
      "image/png": "[encoded data removed]",
      "text/plain": [
       "<Figure size 1000x400 with 1 Axes>"
      ]
     },
     "metadata": {},
     "output_type": "display_data"
    }
   ],
   "source": [
    "#tweet counts per month over time\n",
    "fig, ax = plt.subplots(figsize=(10,4))\n",
    "\n",
    "monthly_sum = tweets_all_date_count.resample('M').sum()\n",
    "\n",
    "\n",
    "ax.plot(monthly_sum)\n",
    "\n",
    "plt.show()"
   ]
  },
  {
   "cell_type": "code",
   "execution_count": 124,
   "id": "51e5a3be",
   "metadata": {},
   "outputs": [
    {
     "data": {
      "text/html": [
       "<div>\n",
       "<style scoped>\n",
       "    .dataframe tbody tr th:only-of-type {\n",
       "        vertical-align: middle;\n",
       "    }\n",
       "\n",
       "    .dataframe tbody tr th {\n",
       "        vertical-align: top;\n",
       "    }\n",
       "\n",
       "    .dataframe thead th {\n",
       "        text-align: right;\n",
       "    }\n",
       "</style>\n",
       "<table border=\"1\" class=\"dataframe\">\n",
       "  <thead>\n",
       "    <tr style=\"text-align: right;\">\n",
       "      <th></th>\n",
       "      <th>count</th>\n",
       "    </tr>\n",
       "    <tr>\n",
       "      <th>Date</th>\n",
       "      <th></th>\n",
       "    </tr>\n",
       "  </thead>\n",
       "  <tbody>\n",
       "    <tr>\n",
       "      <th>2010-06-04</th>\n",
       "      <td>1.0</td>\n",
       "    </tr>\n",
       "    <tr>\n",
       "      <th>2010-06-05</th>\n",
       "      <td>0.0</td>\n",
       "    </tr>\n",
       "    <tr>\n",
       "      <th>2010-06-06</th>\n",
       "      <td>0.0</td>\n",
       "    </tr>\n",
       "    <tr>\n",
       "      <th>2010-06-07</th>\n",
       "      <td>0.0</td>\n",
       "    </tr>\n",
       "    <tr>\n",
       "      <th>2010-06-08</th>\n",
       "      <td>0.0</td>\n",
       "    </tr>\n",
       "    <tr>\n",
       "      <th>...</th>\n",
       "      <td>...</td>\n",
       "    </tr>\n",
       "    <tr>\n",
       "      <th>2021-04-13</th>\n",
       "      <td>1.0</td>\n",
       "    </tr>\n",
       "    <tr>\n",
       "      <th>2021-04-14</th>\n",
       "      <td>8.0</td>\n",
       "    </tr>\n",
       "    <tr>\n",
       "      <th>2021-04-15</th>\n",
       "      <td>18.0</td>\n",
       "    </tr>\n",
       "    <tr>\n",
       "      <th>2021-04-16</th>\n",
       "      <td>7.0</td>\n",
       "    </tr>\n",
       "    <tr>\n",
       "      <th>2021-04-17</th>\n",
       "      <td>6.0</td>\n",
       "    </tr>\n",
       "  </tbody>\n",
       "</table>\n",
       "<p>3971 rows × 1 columns</p>\n",
       "</div>"
      ],
      "text/plain": [
       "            count\n",
       "Date             \n",
       "2010-06-04    1.0\n",
       "2010-06-05    0.0\n",
       "2010-06-06    0.0\n",
       "2010-06-07    0.0\n",
       "2010-06-08    0.0\n",
       "...           ...\n",
       "2021-04-13    1.0\n",
       "2021-04-14    8.0\n",
       "2021-04-15   18.0\n",
       "2021-04-16    7.0\n",
       "2021-04-17    6.0\n",
       "\n",
       "[3971 rows x 1 columns]"
      ]
     },
     "execution_count": 124,
     "metadata": {},
     "output_type": "execute_result"
    }
   ],
   "source": [
    "tweets_all_date_count"
   ]
  },
  {
   "cell_type": "code",
   "execution_count": 125,
   "id": "00078a12",
   "metadata": {},
   "outputs": [
    {
     "name": "stdout",
     "output_type": "stream",
     "text": [
      "Stored 'tweets_all_date_count' (DataFrame)\n"
     ]
    }
   ],
   "source": [
    "%store tweets_all_date_count"
   ]
  },
  {
   "cell_type": "markdown",
   "id": "ab22dc03",
   "metadata": {},
   "source": [
    "## Extracting a subset of tweets df that contain information about tesla"
   ]
  },
  {
   "cell_type": "code",
   "execution_count": 126,
   "id": "02c0f9f4",
   "metadata": {},
   "outputs": [],
   "source": [
    "a=tweets[tweets['tesla_mention']]"
   ]
  },
  {
   "cell_type": "code",
   "execution_count": 127,
   "id": "7c3374fa",
   "metadata": {},
   "outputs": [],
   "source": [
    "b=tweets[tweets['tesla_in_url']]"
   ]
  },
  {
   "cell_type": "code",
   "execution_count": 128,
   "id": "18155b42",
   "metadata": {},
   "outputs": [],
   "source": [
    "c=tweets[tweets['tesla_quote']]"
   ]
  },
  {
   "cell_type": "code",
   "execution_count": 129,
   "id": "a144bd10",
   "metadata": {},
   "outputs": [],
   "source": [
    "d=tweets[tweets['reply_to_tesla']]"
   ]
  },
  {
   "cell_type": "code",
   "execution_count": 130,
   "id": "c94acc14",
   "metadata": {},
   "outputs": [],
   "source": [
    "e=tweets[tweets['tweet_tesla']]"
   ]
  },
  {
   "cell_type": "code",
   "execution_count": 131,
   "id": "49c659f5",
   "metadata": {},
   "outputs": [],
   "source": [
    "tweets_abt_tesla=pd.concat([a,b,c,d,e],axis=0)"
   ]
  },
  {
   "cell_type": "code",
   "execution_count": 132,
   "id": "aaf08334",
   "metadata": {},
   "outputs": [],
   "source": [
    "tweets_abt_tesla=tweets_abt_tesla.drop_duplicates()"
   ]
  },
  {
   "cell_type": "code",
   "execution_count": 133,
   "id": "31f82d71",
   "metadata": {},
   "outputs": [
    {
     "data": {
      "text/plain": [
       "(2651, 13)"
      ]
     },
     "execution_count": 133,
     "metadata": {},
     "output_type": "execute_result"
    }
   ],
   "source": [
    "tweets_abt_tesla.shape"
   ]
  },
  {
   "cell_type": "code",
   "execution_count": 134,
   "id": "3edaa77a",
   "metadata": {},
   "outputs": [
    {
     "name": "stdout",
     "output_type": "stream",
     "text": [
      "<class 'pandas.core.frame.DataFrame'>\n",
      "Int64Index: 2651 entries, 238 to 11136\n",
      "Data columns (total 13 columns):\n",
      " #   Column           Non-Null Count  Dtype         \n",
      "---  ------           --------------  -----         \n",
      " 0   created_at       2651 non-null   datetime64[ns]\n",
      " 1   Date             2651 non-null   datetime64[ns]\n",
      " 2   tweet            2651 non-null   object        \n",
      " 3   tesla_mention    2651 non-null   bool          \n",
      " 4   tesla_in_url     2651 non-null   bool          \n",
      " 5   replies_count    2651 non-null   int64         \n",
      " 6   retweets_count   2651 non-null   int64         \n",
      " 7   likes_count      2651 non-null   int64         \n",
      " 8   link             2651 non-null   object        \n",
      " 9   tesla_quote      2651 non-null   bool          \n",
      " 10  tweets_hashtags  2651 non-null   object        \n",
      " 11  reply_to_tesla   2651 non-null   bool          \n",
      " 12  tweet_tesla      2651 non-null   bool          \n",
      "dtypes: bool(5), datetime64[ns](2), int64(3), object(3)\n",
      "memory usage: 199.3+ KB\n"
     ]
    }
   ],
   "source": [
    "tweets_abt_tesla.info()"
   ]
  },
  {
   "cell_type": "code",
   "execution_count": 135,
   "id": "18011ace",
   "metadata": {
    "scrolled": true
   },
   "outputs": [],
   "source": [
    "tesla_tweets_grouped = tweets_abt_tesla.groupby('Date').agg(**{'tweet_hashtags': ('tweets_hashtags', lambda x: '| '.join(x)), \n",
    "                                                     'tweet_counts': ('tweet', 'count'),\n",
    "                                                     'tesla_mention': ('tesla_mention', 'sum'),\n",
    "                                                     'tesla_in_url': ('tesla_in_url', 'sum'),\n",
    "                                                     'tesla_quote': ('tesla_quote', 'sum'),\n",
    "                                                     'reply_to_tesla': ('reply_to_tesla', 'sum'),\n",
    "                                                     'tweet_tesla': ('tweet_tesla', 'sum'),\n",
    "                                                     'replies_count': ('replies_count', 'sum'),\n",
    "                                                     'retweets_count': ('retweets_count', 'sum'), \n",
    "                                                     'likes_count': ('likes_count', 'sum'), \n",
    "            \n",
    "                                 \n",
    "                                      })\n"
   ]
  },
  {
   "cell_type": "code",
   "execution_count": 136,
   "id": "dc94e94b",
   "metadata": {},
   "outputs": [],
   "source": [
    "tesla_tweets_grouped['engagement']=tesla_tweets_grouped[['replies_count', 'retweets_count','likes_count']].sum(axis=1)"
   ]
  },
  {
   "cell_type": "code",
   "execution_count": 137,
   "id": "cbee826a",
   "metadata": {},
   "outputs": [],
   "source": [
    "tesla_tweets_grouped=tesla_tweets_grouped.drop(columns=['tesla_mention','tesla_in_url','tesla_quote','reply_to_tesla','tweet_tesla','replies_count','retweets_count','likes_count'])"
   ]
  },
  {
   "cell_type": "code",
   "execution_count": 138,
   "id": "416264e6",
   "metadata": {},
   "outputs": [],
   "source": [
    "tesla_tweets_grouped.to_csv('tesla_tweets_grouped.csv')"
   ]
  }
 ],
 "metadata": {
  "kernelspec": {
   "display_name": "Python 3 (ipykernel)",
   "language": "python",
   "name": "python3"
  },
  "language_info": {
   "codemirror_mode": {
    "name": "ipython",
    "version": 3
   },
   "file_extension": ".py",
   "mimetype": "text/x-python",
   "name": "python",
   "nbconvert_exporter": "python",
   "pygments_lexer": "ipython3",
   "version": "3.9.13"
  }
 },
 "nbformat": 4,
 "nbformat_minor": 5
}
