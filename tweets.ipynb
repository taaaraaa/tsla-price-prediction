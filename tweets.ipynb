{
 "cells": [
  {
   "cell_type": "code",
   "execution_count": 1,
   "id": "667ae9aa",
   "metadata": {},
   "outputs": [],
   "source": [
    "import numpy as np\n",
    "import pandas as pd\n",
    "import matplotlib.pyplot as plt\n",
    "import seaborn as sns\n",
    "from datetime import datetime\n",
    "\n",
    "import warnings\n",
    "warnings.filterwarnings('ignore')"
   ]
  },
  {
   "cell_type": "code",
   "execution_count": 2,
   "id": "a5e6f268",
   "metadata": {
    "scrolled": false
   },
   "outputs": [],
   "source": [
    "tweets=pd.read_csv('TweetsElonMusk.csv')"
   ]
  },
  {
   "cell_type": "code",
   "execution_count": 3,
   "id": "0db67658",
   "metadata": {},
   "outputs": [
    {
     "data": {
      "text/plain": [
       "'@vincent13031925 For now. Costs are decreasing rapidly.'"
      ]
     },
     "execution_count": 3,
     "metadata": {},
     "output_type": "execute_result"
    }
   ],
   "source": [
    "# His first tweet is interesting. It seems that is why this date was selected as the start date of his tweets history\n",
    "tweets['tweet'][0]"
   ]
  },
  {
   "cell_type": "code",
   "execution_count": 4,
   "id": "b3d12426",
   "metadata": {
    "scrolled": false
   },
   "outputs": [
    {
     "data": {
      "text/plain": [
       "array([False])"
      ]
     },
     "execution_count": 4,
     "metadata": {},
     "output_type": "execute_result"
    }
   ],
   "source": [
    "tweets.retweet.unique()"
   ]
  },
  {
   "cell_type": "code",
   "execution_count": 5,
   "id": "0bf44a88",
   "metadata": {},
   "outputs": [],
   "source": [
    "#Drop all the cols that have null values\n",
    "tweets.dropna(axis=1, how='all', inplace=True)"
   ]
  },
  {
   "cell_type": "code",
   "execution_count": 6,
   "id": "58eb6679",
   "metadata": {},
   "outputs": [
    {
     "data": {
      "text/plain": [
       "Index(['timezone', 'user_id', 'username', 'name', 'retweet'], dtype='object')"
      ]
     },
     "execution_count": 6,
     "metadata": {},
     "output_type": "execute_result"
    }
   ],
   "source": [
    "# find columns with only one unique value\n",
    "unique_cols = tweets.columns[tweets.nunique() == 1]\n",
    "\n",
    "unique_cols"
   ]
  },
  {
   "cell_type": "code",
   "execution_count": 7,
   "id": "b5939c8d",
   "metadata": {},
   "outputs": [],
   "source": [
    "#Dropping columns with one unique value\n",
    "tweets.drop(unique_cols, axis=1, inplace=True)"
   ]
  },
  {
   "cell_type": "code",
   "execution_count": 8,
   "id": "5aac619c",
   "metadata": {},
   "outputs": [],
   "source": [
    "#Removing redundant cols\n",
    "tweets.drop(['id','conversation_id','time','photos'], axis=1, inplace=True)"
   ]
  },
  {
   "cell_type": "code",
   "execution_count": 9,
   "id": "a433d153",
   "metadata": {
    "scrolled": false
   },
   "outputs": [
    {
     "name": "stdout",
     "output_type": "stream",
     "text": [
      "<class 'pandas.core.frame.DataFrame'>\n",
      "RangeIndex: 12562 entries, 0 to 12561\n",
      "Data columns (total 16 columns):\n",
      " #   Column          Non-Null Count  Dtype \n",
      "---  ------          --------------  ----- \n",
      " 0   created_at      12562 non-null  object\n",
      " 1   date            12562 non-null  object\n",
      " 2   tweet           12562 non-null  object\n",
      " 3   language        12562 non-null  object\n",
      " 4   mentions        12562 non-null  object\n",
      " 5   urls            12562 non-null  object\n",
      " 6   replies_count   12562 non-null  int64 \n",
      " 7   retweets_count  12562 non-null  int64 \n",
      " 8   likes_count     12562 non-null  int64 \n",
      " 9   hashtags        12562 non-null  object\n",
      " 10  cashtags        12562 non-null  object\n",
      " 11  link            12562 non-null  object\n",
      " 12  quote_url       410 non-null    object\n",
      " 13  video           12562 non-null  int64 \n",
      " 14  thumbnail       792 non-null    object\n",
      " 15  reply_to        12562 non-null  object\n",
      "dtypes: int64(4), object(12)\n",
      "memory usage: 1.5+ MB\n"
     ]
    }
   ],
   "source": [
    "tweets.info()"
   ]
  },
  {
   "cell_type": "code",
   "execution_count": 10,
   "id": "07811043",
   "metadata": {
    "scrolled": false
   },
   "outputs": [
    {
     "data": {
      "text/plain": [
       "array(['en', 'und', 'tl', 'de', 'uk', 'lt', 'et', 'sl', 'pt', 'ru', 'vi',\n",
       "       'cs', 'in', 'nl', 'tr', 'es', 'ca', 'pl', 'lv', 'no', 'da', 'fr',\n",
       "       'it', 'sv', 'ro', 'hi', 'ht', 'cy', 'ja', 'is', 'sr', 'hu', 'fi',\n",
       "       'eu'], dtype=object)"
      ]
     },
     "execution_count": 10,
     "metadata": {},
     "output_type": "execute_result"
    }
   ],
   "source": [
    "tweets['language'].unique()"
   ]
  },
  {
   "cell_type": "code",
   "execution_count": 11,
   "id": "df635ea6",
   "metadata": {},
   "outputs": [
    {
     "data": {
      "text/plain": [
       "en     11138\n",
       "und     1050\n",
       "tl       108\n",
       "fr        38\n",
       "de        35\n",
       "es        29\n",
       "in        24\n",
       "ru        15\n",
       "nl        14\n",
       "pt        11\n",
       "it        10\n",
       "pl         9\n",
       "et         9\n",
       "tr         7\n",
       "da         7\n",
       "ca         6\n",
       "lt         6\n",
       "cy         5\n",
       "hi         5\n",
       "no         4\n",
       "ro         4\n",
       "ht         4\n",
       "sv         3\n",
       "sl         3\n",
       "is         3\n",
       "ja         3\n",
       "fi         2\n",
       "cs         2\n",
       "vi         2\n",
       "lv         2\n",
       "uk         1\n",
       "sr         1\n",
       "hu         1\n",
       "eu         1\n",
       "Name: language, dtype: int64"
      ]
     },
     "execution_count": 11,
     "metadata": {},
     "output_type": "execute_result"
    }
   ],
   "source": [
    "tweets['language'].value_counts()"
   ]
  },
  {
   "cell_type": "code",
   "execution_count": 12,
   "id": "c808eef9",
   "metadata": {},
   "outputs": [],
   "source": [
    "#tweets are written in diff languages. As en is the most frequent one (above 90%), we only keep english tweets\n",
    "tweets = tweets[tweets['language'] == 'en']"
   ]
  },
  {
   "cell_type": "code",
   "execution_count": 13,
   "id": "a7ba1c8c",
   "metadata": {
    "scrolled": true
   },
   "outputs": [
    {
     "data": {
      "text/plain": [
       "(11138, 16)"
      ]
     },
     "execution_count": 13,
     "metadata": {},
     "output_type": "execute_result"
    }
   ],
   "source": [
    "tweets.shape"
   ]
  },
  {
   "cell_type": "code",
   "execution_count": 14,
   "id": "fcb81bc5",
   "metadata": {},
   "outputs": [],
   "source": [
    "#Removing language cols\n",
    "tweets.drop(['language'], axis=1, inplace=True)"
   ]
  },
  {
   "cell_type": "code",
   "execution_count": 15,
   "id": "3f4dcfcc",
   "metadata": {},
   "outputs": [
    {
     "data": {
      "text/html": [
       "<div>\n",
       "<style scoped>\n",
       "    .dataframe tbody tr th:only-of-type {\n",
       "        vertical-align: middle;\n",
       "    }\n",
       "\n",
       "    .dataframe tbody tr th {\n",
       "        vertical-align: top;\n",
       "    }\n",
       "\n",
       "    .dataframe thead th {\n",
       "        text-align: right;\n",
       "    }\n",
       "</style>\n",
       "<table border=\"1\" class=\"dataframe\">\n",
       "  <thead>\n",
       "    <tr style=\"text-align: right;\">\n",
       "      <th></th>\n",
       "      <th>created_at</th>\n",
       "      <th>date</th>\n",
       "      <th>tweet</th>\n",
       "      <th>mentions</th>\n",
       "      <th>urls</th>\n",
       "      <th>replies_count</th>\n",
       "      <th>retweets_count</th>\n",
       "      <th>likes_count</th>\n",
       "      <th>hashtags</th>\n",
       "      <th>cashtags</th>\n",
       "      <th>link</th>\n",
       "      <th>quote_url</th>\n",
       "      <th>video</th>\n",
       "      <th>thumbnail</th>\n",
       "      <th>reply_to</th>\n",
       "    </tr>\n",
       "  </thead>\n",
       "  <tbody>\n",
       "    <tr>\n",
       "      <th>0</th>\n",
       "      <td>2021-04-11 18:50:33 EEST</td>\n",
       "      <td>2021-04-11</td>\n",
       "      <td>@vincent13031925 For now. Costs are decreasing...</td>\n",
       "      <td>[]</td>\n",
       "      <td>[]</td>\n",
       "      <td>640</td>\n",
       "      <td>444</td>\n",
       "      <td>15281</td>\n",
       "      <td>[]</td>\n",
       "      <td>[]</td>\n",
       "      <td>https://twitter.com/elonmusk/status/1381273474...</td>\n",
       "      <td>NaN</td>\n",
       "      <td>0</td>\n",
       "      <td>NaN</td>\n",
       "      <td>[{'screen_name': 'vincent13031925', 'name': 'V...</td>\n",
       "    </tr>\n",
       "    <tr>\n",
       "      <th>1</th>\n",
       "      <td>2021-04-11 18:48:58 EEST</td>\n",
       "      <td>2021-04-11</td>\n",
       "      <td>Love this beautiful shot</td>\n",
       "      <td>[]</td>\n",
       "      <td>[]</td>\n",
       "      <td>2464</td>\n",
       "      <td>1517</td>\n",
       "      <td>71161</td>\n",
       "      <td>[]</td>\n",
       "      <td>[]</td>\n",
       "      <td>https://twitter.com/elonmusk/status/1381273076...</td>\n",
       "      <td>NaN</td>\n",
       "      <td>0</td>\n",
       "      <td>NaN</td>\n",
       "      <td>[]</td>\n",
       "    </tr>\n",
       "  </tbody>\n",
       "</table>\n",
       "</div>"
      ],
      "text/plain": [
       "                 created_at        date  \\\n",
       "0  2021-04-11 18:50:33 EEST  2021-04-11   \n",
       "1  2021-04-11 18:48:58 EEST  2021-04-11   \n",
       "\n",
       "                                               tweet mentions urls  \\\n",
       "0  @vincent13031925 For now. Costs are decreasing...       []   []   \n",
       "1                           Love this beautiful shot       []   []   \n",
       "\n",
       "   replies_count  retweets_count  likes_count hashtags cashtags  \\\n",
       "0            640             444        15281       []       []   \n",
       "1           2464            1517        71161       []       []   \n",
       "\n",
       "                                                link quote_url  video  \\\n",
       "0  https://twitter.com/elonmusk/status/1381273474...       NaN      0   \n",
       "1  https://twitter.com/elonmusk/status/1381273076...       NaN      0   \n",
       "\n",
       "  thumbnail                                           reply_to  \n",
       "0       NaN  [{'screen_name': 'vincent13031925', 'name': 'V...  \n",
       "1       NaN                                                 []  "
      ]
     },
     "execution_count": 15,
     "metadata": {},
     "output_type": "execute_result"
    }
   ],
   "source": [
    "tweets.head(2)"
   ]
  },
  {
   "cell_type": "markdown",
   "id": "d6308961",
   "metadata": {},
   "source": [
    "### Exploring content of tweets"
   ]
  },
  {
   "cell_type": "code",
   "execution_count": 16,
   "id": "7c252530",
   "metadata": {
    "scrolled": true
   },
   "outputs": [
    {
     "data": {
      "text/plain": [
       "28"
      ]
     },
     "execution_count": 16,
     "metadata": {},
     "output_type": "execute_result"
    }
   ],
   "source": [
    "tweets['hashtags'].nunique()"
   ]
  },
  {
   "cell_type": "code",
   "execution_count": 17,
   "id": "369be72f",
   "metadata": {
    "scrolled": true
   },
   "outputs": [
    {
     "data": {
      "text/plain": [
       "array(['[]', \"['resistanceisfutile']\", \"['justiceforgeorge']\",\n",
       "       \"['deletefacebook']\", \"['armageddon69']\", \"['moneygang']\",\n",
       "       \"['throwflamesresponsibly']\", \"['falconheavy']\",\n",
       "       \"['falconheavy', 'spacex']\", \"['yutu']\", \"['katiewoodencloak']\",\n",
       "       \"['teslatx']\", \"['hhgttg']\", \"['sxsw']\", \"['dragon']\", \"['sb47']\",\n",
       "       \"['zeitgeist2012']\", \"['awesomexmasgifts']\", \"['climate']\",\n",
       "       \"['occupymars']\", \"['grasshopperproject']\", \"['dragonlaunch']\",\n",
       "       \"['apspacechat']\", \"['occupymars', 'apspacechat']\",\n",
       "       \"['antarctica']\", \"['plutostamp']\", \"['whatcouldpossiblygowrong']\",\n",
       "       \"['mars']\"], dtype=object)"
      ]
     },
     "execution_count": 17,
     "metadata": {},
     "output_type": "execute_result"
    }
   ],
   "source": [
    "tweets['hashtags'].unique()"
   ]
  },
  {
   "cell_type": "code",
   "execution_count": 18,
   "id": "83f13cb2",
   "metadata": {},
   "outputs": [
    {
     "data": {
      "text/plain": [
       "41"
      ]
     },
     "execution_count": 18,
     "metadata": {},
     "output_type": "execute_result"
    }
   ],
   "source": [
    "tweets['hashtags'].str.contains('[teslatx]').sum()"
   ]
  },
  {
   "cell_type": "code",
   "execution_count": 19,
   "id": "2482d404",
   "metadata": {
    "scrolled": true
   },
   "outputs": [
    {
     "data": {
      "text/plain": [
       "array(['[]', \"['tsla']\"], dtype=object)"
      ]
     },
     "execution_count": 19,
     "metadata": {},
     "output_type": "execute_result"
    }
   ],
   "source": [
    "tweets['cashtags'].unique()"
   ]
  },
  {
   "cell_type": "code",
   "execution_count": 20,
   "id": "d54ee439",
   "metadata": {},
   "outputs": [
    {
     "data": {
      "text/plain": [
       "[]          11137\n",
       "['tsla']        1\n",
       "Name: cashtags, dtype: int64"
      ]
     },
     "execution_count": 20,
     "metadata": {},
     "output_type": "execute_result"
    }
   ],
   "source": [
    "tweets['cashtags'].value_counts()"
   ]
  },
  {
   "cell_type": "code",
   "execution_count": 21,
   "id": "bf881d7b",
   "metadata": {},
   "outputs": [],
   "source": [
    "tweets.drop(['cashtags'], axis=1, inplace=True)"
   ]
  },
  {
   "cell_type": "code",
   "execution_count": 22,
   "id": "f6e13aec",
   "metadata": {},
   "outputs": [
    {
     "data": {
      "text/plain": [
       "4712"
      ]
     },
     "execution_count": 22,
     "metadata": {},
     "output_type": "execute_result"
    }
   ],
   "source": [
    "tweets['reply_to'].nunique()"
   ]
  },
  {
   "cell_type": "code",
   "execution_count": 23,
   "id": "4f46516e",
   "metadata": {
    "scrolled": true
   },
   "outputs": [],
   "source": [
    "#tweets['tweet'].str.contains('tsla').sum()"
   ]
  },
  {
   "cell_type": "code",
   "execution_count": 24,
   "id": "740a7f23",
   "metadata": {
    "scrolled": true
   },
   "outputs": [
    {
     "data": {
      "text/plain": [
       "1876"
      ]
     },
     "execution_count": 24,
     "metadata": {},
     "output_type": "execute_result"
    }
   ],
   "source": [
    "# number of tweets that contain the word Tesla\n",
    "tweets['tweet'].str.contains('Tesla').sum()"
   ]
  },
  {
   "cell_type": "markdown",
   "id": "6cefe90d",
   "metadata": {},
   "source": [
    "### Making Time Zones consistent\n",
    "Tweets are made at different time zones, in the following codes, I am converting all the times to ET to be consistant with nasdaq time zone (Eastern Time Zone)"
   ]
  },
  {
   "cell_type": "code",
   "execution_count": 25,
   "id": "8f566f29",
   "metadata": {},
   "outputs": [
    {
     "data": {
      "text/plain": [
       "4117"
      ]
     },
     "execution_count": 25,
     "metadata": {},
     "output_type": "execute_result"
    }
   ],
   "source": [
    "tweets['created_at'].str.contains('EET').sum()"
   ]
  },
  {
   "cell_type": "code",
   "execution_count": 26,
   "id": "bb3cf821",
   "metadata": {},
   "outputs": [
    {
     "data": {
      "text/plain": [
       "7021"
      ]
     },
     "execution_count": 26,
     "metadata": {},
     "output_type": "execute_result"
    }
   ],
   "source": [
    "tweets['created_at'].str.contains('EEST').sum()"
   ]
  },
  {
   "cell_type": "markdown",
   "id": "de9e0b84",
   "metadata": {},
   "source": [
    "-------------\n",
    "#### 1. Eastern European Summer Time (EEST)\n"
   ]
  },
  {
   "cell_type": "code",
   "execution_count": 27,
   "id": "451d0b91",
   "metadata": {
    "scrolled": false
   },
   "outputs": [],
   "source": [
    "#Eastern European Summer Time (EEST)\n",
    "tweets_EEST=tweets[tweets['created_at'].str.contains('EEST')].copy()"
   ]
  },
  {
   "cell_type": "code",
   "execution_count": 28,
   "id": "fd6f8f87",
   "metadata": {},
   "outputs": [
    {
     "data": {
      "text/html": [
       "<div>\n",
       "<style scoped>\n",
       "    .dataframe tbody tr th:only-of-type {\n",
       "        vertical-align: middle;\n",
       "    }\n",
       "\n",
       "    .dataframe tbody tr th {\n",
       "        vertical-align: top;\n",
       "    }\n",
       "\n",
       "    .dataframe thead th {\n",
       "        text-align: right;\n",
       "    }\n",
       "</style>\n",
       "<table border=\"1\" class=\"dataframe\">\n",
       "  <thead>\n",
       "    <tr style=\"text-align: right;\">\n",
       "      <th></th>\n",
       "      <th>created_at</th>\n",
       "      <th>date</th>\n",
       "      <th>tweet</th>\n",
       "      <th>mentions</th>\n",
       "      <th>urls</th>\n",
       "      <th>replies_count</th>\n",
       "      <th>retweets_count</th>\n",
       "      <th>likes_count</th>\n",
       "      <th>hashtags</th>\n",
       "      <th>link</th>\n",
       "      <th>quote_url</th>\n",
       "      <th>video</th>\n",
       "      <th>thumbnail</th>\n",
       "      <th>reply_to</th>\n",
       "    </tr>\n",
       "  </thead>\n",
       "  <tbody>\n",
       "    <tr>\n",
       "      <th>0</th>\n",
       "      <td>2021-04-11 18:50:33</td>\n",
       "      <td>2021-04-11</td>\n",
       "      <td>@vincent13031925 For now. Costs are decreasing...</td>\n",
       "      <td>[]</td>\n",
       "      <td>[]</td>\n",
       "      <td>640</td>\n",
       "      <td>444</td>\n",
       "      <td>15281</td>\n",
       "      <td>[]</td>\n",
       "      <td>https://twitter.com/elonmusk/status/1381273474...</td>\n",
       "      <td>NaN</td>\n",
       "      <td>0</td>\n",
       "      <td>NaN</td>\n",
       "      <td>[{'screen_name': 'vincent13031925', 'name': 'V...</td>\n",
       "    </tr>\n",
       "    <tr>\n",
       "      <th>1</th>\n",
       "      <td>2021-04-11 18:48:58</td>\n",
       "      <td>2021-04-11</td>\n",
       "      <td>Love this beautiful shot</td>\n",
       "      <td>[]</td>\n",
       "      <td>[]</td>\n",
       "      <td>2464</td>\n",
       "      <td>1517</td>\n",
       "      <td>71161</td>\n",
       "      <td>[]</td>\n",
       "      <td>https://twitter.com/elonmusk/status/1381273076...</td>\n",
       "      <td>NaN</td>\n",
       "      <td>0</td>\n",
       "      <td>NaN</td>\n",
       "      <td>[]</td>\n",
       "    </tr>\n",
       "  </tbody>\n",
       "</table>\n",
       "</div>"
      ],
      "text/plain": [
       "           created_at        date  \\\n",
       "0 2021-04-11 18:50:33  2021-04-11   \n",
       "1 2021-04-11 18:48:58  2021-04-11   \n",
       "\n",
       "                                               tweet mentions urls  \\\n",
       "0  @vincent13031925 For now. Costs are decreasing...       []   []   \n",
       "1                           Love this beautiful shot       []   []   \n",
       "\n",
       "   replies_count  retweets_count  likes_count hashtags  \\\n",
       "0            640             444        15281       []   \n",
       "1           2464            1517        71161       []   \n",
       "\n",
       "                                                link quote_url  video  \\\n",
       "0  https://twitter.com/elonmusk/status/1381273474...       NaN      0   \n",
       "1  https://twitter.com/elonmusk/status/1381273076...       NaN      0   \n",
       "\n",
       "  thumbnail                                           reply_to  \n",
       "0       NaN  [{'screen_name': 'vincent13031925', 'name': 'V...  \n",
       "1       NaN                                                 []  "
      ]
     },
     "execution_count": 28,
     "metadata": {},
     "output_type": "execute_result"
    }
   ],
   "source": [
    "#Subtracting time zone at the end of string and converting it to timestamp datatype\n",
    "tweets_EEST['created_at']=tweets_EEST['created_at'].apply(lambda x: pd.to_datetime((x[:-5]) ,format=\"%Y-%m-%d %H:%M:%S\"))\n",
    "tweets_EEST.head(2)"
   ]
  },
  {
   "cell_type": "code",
   "execution_count": 29,
   "id": "721eeb52",
   "metadata": {},
   "outputs": [
    {
     "data": {
      "text/html": [
       "<div>\n",
       "<style scoped>\n",
       "    .dataframe tbody tr th:only-of-type {\n",
       "        vertical-align: middle;\n",
       "    }\n",
       "\n",
       "    .dataframe tbody tr th {\n",
       "        vertical-align: top;\n",
       "    }\n",
       "\n",
       "    .dataframe thead th {\n",
       "        text-align: right;\n",
       "    }\n",
       "</style>\n",
       "<table border=\"1\" class=\"dataframe\">\n",
       "  <thead>\n",
       "    <tr style=\"text-align: right;\">\n",
       "      <th></th>\n",
       "      <th>created_at</th>\n",
       "      <th>date</th>\n",
       "      <th>tweet</th>\n",
       "      <th>mentions</th>\n",
       "      <th>urls</th>\n",
       "      <th>replies_count</th>\n",
       "      <th>retweets_count</th>\n",
       "      <th>likes_count</th>\n",
       "      <th>hashtags</th>\n",
       "      <th>link</th>\n",
       "      <th>quote_url</th>\n",
       "      <th>video</th>\n",
       "      <th>thumbnail</th>\n",
       "      <th>reply_to</th>\n",
       "    </tr>\n",
       "  </thead>\n",
       "  <tbody>\n",
       "    <tr>\n",
       "      <th>0</th>\n",
       "      <td>2021-04-11 13:50:33</td>\n",
       "      <td>2021-04-11</td>\n",
       "      <td>@vincent13031925 For now. Costs are decreasing...</td>\n",
       "      <td>[]</td>\n",
       "      <td>[]</td>\n",
       "      <td>640</td>\n",
       "      <td>444</td>\n",
       "      <td>15281</td>\n",
       "      <td>[]</td>\n",
       "      <td>https://twitter.com/elonmusk/status/1381273474...</td>\n",
       "      <td>NaN</td>\n",
       "      <td>0</td>\n",
       "      <td>NaN</td>\n",
       "      <td>[{'screen_name': 'vincent13031925', 'name': 'V...</td>\n",
       "    </tr>\n",
       "    <tr>\n",
       "      <th>1</th>\n",
       "      <td>2021-04-11 13:48:58</td>\n",
       "      <td>2021-04-11</td>\n",
       "      <td>Love this beautiful shot</td>\n",
       "      <td>[]</td>\n",
       "      <td>[]</td>\n",
       "      <td>2464</td>\n",
       "      <td>1517</td>\n",
       "      <td>71161</td>\n",
       "      <td>[]</td>\n",
       "      <td>https://twitter.com/elonmusk/status/1381273076...</td>\n",
       "      <td>NaN</td>\n",
       "      <td>0</td>\n",
       "      <td>NaN</td>\n",
       "      <td>[]</td>\n",
       "    </tr>\n",
       "  </tbody>\n",
       "</table>\n",
       "</div>"
      ],
      "text/plain": [
       "           created_at        date  \\\n",
       "0 2021-04-11 13:50:33  2021-04-11   \n",
       "1 2021-04-11 13:48:58  2021-04-11   \n",
       "\n",
       "                                               tweet mentions urls  \\\n",
       "0  @vincent13031925 For now. Costs are decreasing...       []   []   \n",
       "1                           Love this beautiful shot       []   []   \n",
       "\n",
       "   replies_count  retweets_count  likes_count hashtags  \\\n",
       "0            640             444        15281       []   \n",
       "1           2464            1517        71161       []   \n",
       "\n",
       "                                                link quote_url  video  \\\n",
       "0  https://twitter.com/elonmusk/status/1381273474...       NaN      0   \n",
       "1  https://twitter.com/elonmusk/status/1381273076...       NaN      0   \n",
       "\n",
       "  thumbnail                                           reply_to  \n",
       "0       NaN  [{'screen_name': 'vincent13031925', 'name': 'V...  \n",
       "1       NaN                                                 []  "
      ]
     },
     "execution_count": 29,
     "metadata": {},
     "output_type": "execute_result"
    }
   ],
   "source": [
    "# Subtracting 5 hours to make it consistent with ET (stock price time)\n",
    "tweets_EEST['created_at']=tweets_EEST['created_at'].apply(lambda x: x-pd.Timedelta(hours=5))\n",
    "tweets_EEST.head(2)"
   ]
  },
  {
   "cell_type": "markdown",
   "id": "13cb31de",
   "metadata": {},
   "source": [
    "-------------------------\n",
    "#### 2. Eastern European Time (EET)"
   ]
  },
  {
   "cell_type": "code",
   "execution_count": 30,
   "id": "74506374",
   "metadata": {},
   "outputs": [],
   "source": [
    "#Eastern European Time (EET)\n",
    "tweets_EET=tweets[tweets['created_at'].str.contains('EET')].copy()"
   ]
  },
  {
   "cell_type": "code",
   "execution_count": 31,
   "id": "ab0f36a0",
   "metadata": {},
   "outputs": [
    {
     "data": {
      "text/html": [
       "<div>\n",
       "<style scoped>\n",
       "    .dataframe tbody tr th:only-of-type {\n",
       "        vertical-align: middle;\n",
       "    }\n",
       "\n",
       "    .dataframe tbody tr th {\n",
       "        vertical-align: top;\n",
       "    }\n",
       "\n",
       "    .dataframe thead th {\n",
       "        text-align: right;\n",
       "    }\n",
       "</style>\n",
       "<table border=\"1\" class=\"dataframe\">\n",
       "  <thead>\n",
       "    <tr style=\"text-align: right;\">\n",
       "      <th></th>\n",
       "      <th>created_at</th>\n",
       "      <th>date</th>\n",
       "      <th>tweet</th>\n",
       "      <th>mentions</th>\n",
       "      <th>urls</th>\n",
       "      <th>replies_count</th>\n",
       "      <th>retweets_count</th>\n",
       "      <th>likes_count</th>\n",
       "      <th>hashtags</th>\n",
       "      <th>link</th>\n",
       "      <th>quote_url</th>\n",
       "      <th>video</th>\n",
       "      <th>thumbnail</th>\n",
       "      <th>reply_to</th>\n",
       "    </tr>\n",
       "  </thead>\n",
       "  <tbody>\n",
       "    <tr>\n",
       "      <th>132</th>\n",
       "      <td>2021-03-27 22:37:01</td>\n",
       "      <td>2021-03-27</td>\n",
       "      <td>@summerlinARK We should be laughing our asses ...</td>\n",
       "      <td>[]</td>\n",
       "      <td>[]</td>\n",
       "      <td>332</td>\n",
       "      <td>166</td>\n",
       "      <td>3614</td>\n",
       "      <td>[]</td>\n",
       "      <td>https://twitter.com/elonmusk/status/1375909807...</td>\n",
       "      <td>NaN</td>\n",
       "      <td>0</td>\n",
       "      <td>NaN</td>\n",
       "      <td>[{'screen_name': 'summerlinARK', 'name': 'Will...</td>\n",
       "    </tr>\n",
       "    <tr>\n",
       "      <th>133</th>\n",
       "      <td>2021-03-27 22:36:02</td>\n",
       "      <td>2021-03-27</td>\n",
       "      <td>@summerlinARK I wanna know when AI will be abl...</td>\n",
       "      <td>[]</td>\n",
       "      <td>[]</td>\n",
       "      <td>346</td>\n",
       "      <td>255</td>\n",
       "      <td>4133</td>\n",
       "      <td>[]</td>\n",
       "      <td>https://twitter.com/elonmusk/status/1375909594...</td>\n",
       "      <td>NaN</td>\n",
       "      <td>0</td>\n",
       "      <td>NaN</td>\n",
       "      <td>[{'screen_name': 'summerlinARK', 'name': 'Will...</td>\n",
       "    </tr>\n",
       "  </tbody>\n",
       "</table>\n",
       "</div>"
      ],
      "text/plain": [
       "             created_at        date  \\\n",
       "132 2021-03-27 22:37:01  2021-03-27   \n",
       "133 2021-03-27 22:36:02  2021-03-27   \n",
       "\n",
       "                                                 tweet mentions urls  \\\n",
       "132  @summerlinARK We should be laughing our asses ...       []   []   \n",
       "133  @summerlinARK I wanna know when AI will be abl...       []   []   \n",
       "\n",
       "     replies_count  retweets_count  likes_count hashtags  \\\n",
       "132            332             166         3614       []   \n",
       "133            346             255         4133       []   \n",
       "\n",
       "                                                  link quote_url  video  \\\n",
       "132  https://twitter.com/elonmusk/status/1375909807...       NaN      0   \n",
       "133  https://twitter.com/elonmusk/status/1375909594...       NaN      0   \n",
       "\n",
       "    thumbnail                                           reply_to  \n",
       "132       NaN  [{'screen_name': 'summerlinARK', 'name': 'Will...  \n",
       "133       NaN  [{'screen_name': 'summerlinARK', 'name': 'Will...  "
      ]
     },
     "execution_count": 31,
     "metadata": {},
     "output_type": "execute_result"
    }
   ],
   "source": [
    "#Subtracting time zone at the end of string and converting it to timestamp datatype\n",
    "tweets_EET['created_at']=tweets_EET['created_at'].apply(lambda x: pd.to_datetime((x[:-5]) ,format=\"%Y-%m-%d %H:%M:%S\"))\n",
    "tweets_EET.head(2)"
   ]
  },
  {
   "cell_type": "code",
   "execution_count": 32,
   "id": "bf0bf545",
   "metadata": {},
   "outputs": [
    {
     "data": {
      "text/html": [
       "<div>\n",
       "<style scoped>\n",
       "    .dataframe tbody tr th:only-of-type {\n",
       "        vertical-align: middle;\n",
       "    }\n",
       "\n",
       "    .dataframe tbody tr th {\n",
       "        vertical-align: top;\n",
       "    }\n",
       "\n",
       "    .dataframe thead th {\n",
       "        text-align: right;\n",
       "    }\n",
       "</style>\n",
       "<table border=\"1\" class=\"dataframe\">\n",
       "  <thead>\n",
       "    <tr style=\"text-align: right;\">\n",
       "      <th></th>\n",
       "      <th>created_at</th>\n",
       "      <th>date</th>\n",
       "      <th>tweet</th>\n",
       "      <th>mentions</th>\n",
       "      <th>urls</th>\n",
       "      <th>replies_count</th>\n",
       "      <th>retweets_count</th>\n",
       "      <th>likes_count</th>\n",
       "      <th>hashtags</th>\n",
       "      <th>link</th>\n",
       "      <th>quote_url</th>\n",
       "      <th>video</th>\n",
       "      <th>thumbnail</th>\n",
       "      <th>reply_to</th>\n",
       "    </tr>\n",
       "  </thead>\n",
       "  <tbody>\n",
       "    <tr>\n",
       "      <th>132</th>\n",
       "      <td>2021-03-27 16:37:01</td>\n",
       "      <td>2021-03-27</td>\n",
       "      <td>@summerlinARK We should be laughing our asses ...</td>\n",
       "      <td>[]</td>\n",
       "      <td>[]</td>\n",
       "      <td>332</td>\n",
       "      <td>166</td>\n",
       "      <td>3614</td>\n",
       "      <td>[]</td>\n",
       "      <td>https://twitter.com/elonmusk/status/1375909807...</td>\n",
       "      <td>NaN</td>\n",
       "      <td>0</td>\n",
       "      <td>NaN</td>\n",
       "      <td>[{'screen_name': 'summerlinARK', 'name': 'Will...</td>\n",
       "    </tr>\n",
       "    <tr>\n",
       "      <th>133</th>\n",
       "      <td>2021-03-27 16:36:02</td>\n",
       "      <td>2021-03-27</td>\n",
       "      <td>@summerlinARK I wanna know when AI will be abl...</td>\n",
       "      <td>[]</td>\n",
       "      <td>[]</td>\n",
       "      <td>346</td>\n",
       "      <td>255</td>\n",
       "      <td>4133</td>\n",
       "      <td>[]</td>\n",
       "      <td>https://twitter.com/elonmusk/status/1375909594...</td>\n",
       "      <td>NaN</td>\n",
       "      <td>0</td>\n",
       "      <td>NaN</td>\n",
       "      <td>[{'screen_name': 'summerlinARK', 'name': 'Will...</td>\n",
       "    </tr>\n",
       "  </tbody>\n",
       "</table>\n",
       "</div>"
      ],
      "text/plain": [
       "             created_at        date  \\\n",
       "132 2021-03-27 16:37:01  2021-03-27   \n",
       "133 2021-03-27 16:36:02  2021-03-27   \n",
       "\n",
       "                                                 tweet mentions urls  \\\n",
       "132  @summerlinARK We should be laughing our asses ...       []   []   \n",
       "133  @summerlinARK I wanna know when AI will be abl...       []   []   \n",
       "\n",
       "     replies_count  retweets_count  likes_count hashtags  \\\n",
       "132            332             166         3614       []   \n",
       "133            346             255         4133       []   \n",
       "\n",
       "                                                  link quote_url  video  \\\n",
       "132  https://twitter.com/elonmusk/status/1375909807...       NaN      0   \n",
       "133  https://twitter.com/elonmusk/status/1375909594...       NaN      0   \n",
       "\n",
       "    thumbnail                                           reply_to  \n",
       "132       NaN  [{'screen_name': 'summerlinARK', 'name': 'Will...  \n",
       "133       NaN  [{'screen_name': 'summerlinARK', 'name': 'Will...  "
      ]
     },
     "execution_count": 32,
     "metadata": {},
     "output_type": "execute_result"
    }
   ],
   "source": [
    "# Subtracting 5 hours to make it consistent with ET (stock price time)\n",
    "tweets_EET['created_at']=tweets_EET['created_at'].apply(lambda x: x-pd.Timedelta(hours=6))\n",
    "tweets_EET.head(2)"
   ]
  },
  {
   "cell_type": "markdown",
   "id": "4a64718c",
   "metadata": {},
   "source": [
    "#### 3. Concatenating two cols and name it tweets"
   ]
  },
  {
   "cell_type": "code",
   "execution_count": 33,
   "id": "2c2816a8",
   "metadata": {},
   "outputs": [],
   "source": [
    "tweets = pd.concat([tweets_EET, tweets_EEST], ignore_index=True).sort_values('created_at').reset_index(drop=True)"
   ]
  },
  {
   "cell_type": "code",
   "execution_count": 34,
   "id": "034a5ecf",
   "metadata": {},
   "outputs": [
    {
     "data": {
      "text/html": [
       "<div>\n",
       "<style scoped>\n",
       "    .dataframe tbody tr th:only-of-type {\n",
       "        vertical-align: middle;\n",
       "    }\n",
       "\n",
       "    .dataframe tbody tr th {\n",
       "        vertical-align: top;\n",
       "    }\n",
       "\n",
       "    .dataframe thead th {\n",
       "        text-align: right;\n",
       "    }\n",
       "</style>\n",
       "<table border=\"1\" class=\"dataframe\">\n",
       "  <thead>\n",
       "    <tr style=\"text-align: right;\">\n",
       "      <th></th>\n",
       "      <th>created_at</th>\n",
       "      <th>date</th>\n",
       "      <th>tweet</th>\n",
       "      <th>mentions</th>\n",
       "      <th>urls</th>\n",
       "      <th>replies_count</th>\n",
       "      <th>retweets_count</th>\n",
       "      <th>likes_count</th>\n",
       "      <th>hashtags</th>\n",
       "      <th>link</th>\n",
       "      <th>quote_url</th>\n",
       "      <th>video</th>\n",
       "      <th>thumbnail</th>\n",
       "      <th>reply_to</th>\n",
       "    </tr>\n",
       "  </thead>\n",
       "  <tbody>\n",
       "    <tr>\n",
       "      <th>0</th>\n",
       "      <td>2010-06-04 16:31:57</td>\n",
       "      <td>2010-06-04</td>\n",
       "      <td>Please ignore prior tweets, as that was someon...</td>\n",
       "      <td>[]</td>\n",
       "      <td>[]</td>\n",
       "      <td>398</td>\n",
       "      <td>349</td>\n",
       "      <td>4710</td>\n",
       "      <td>[]</td>\n",
       "      <td>https://twitter.com/elonmusk/status/15434727182</td>\n",
       "      <td>NaN</td>\n",
       "      <td>0</td>\n",
       "      <td>NaN</td>\n",
       "      <td>[]</td>\n",
       "    </tr>\n",
       "    <tr>\n",
       "      <th>1</th>\n",
       "      <td>2011-12-01 05:55:01</td>\n",
       "      <td>2011-12-01</td>\n",
       "      <td>Went to Iceland on Sat to ride bumper cars on ...</td>\n",
       "      <td>[]</td>\n",
       "      <td>[]</td>\n",
       "      <td>31</td>\n",
       "      <td>16</td>\n",
       "      <td>191</td>\n",
       "      <td>[]</td>\n",
       "      <td>https://twitter.com/elonmusk/status/1421799282...</td>\n",
       "      <td>NaN</td>\n",
       "      <td>1</td>\n",
       "      <td>https://pbs.twimg.com/media/Afkf5DMCAAEJGFr.jpg</td>\n",
       "      <td>[]</td>\n",
       "    </tr>\n",
       "    <tr>\n",
       "      <th>2</th>\n",
       "      <td>2011-12-01 06:29:00</td>\n",
       "      <td>2011-12-01</td>\n",
       "      <td>I made the volume on the Model S  http://t.co/...</td>\n",
       "      <td>[]</td>\n",
       "      <td>['http://ow.ly/i/mtD7']</td>\n",
       "      <td>31</td>\n",
       "      <td>9</td>\n",
       "      <td>79</td>\n",
       "      <td>[]</td>\n",
       "      <td>https://twitter.com/elonmusk/status/1421884581...</td>\n",
       "      <td>NaN</td>\n",
       "      <td>0</td>\n",
       "      <td>NaN</td>\n",
       "      <td>[]</td>\n",
       "    </tr>\n",
       "    <tr>\n",
       "      <th>3</th>\n",
       "      <td>2011-12-03 04:20:02</td>\n",
       "      <td>2011-12-03</td>\n",
       "      <td>Great Voltaire quote, arguably better than Twa...</td>\n",
       "      <td>[]</td>\n",
       "      <td>[]</td>\n",
       "      <td>7</td>\n",
       "      <td>24</td>\n",
       "      <td>30</td>\n",
       "      <td>[]</td>\n",
       "      <td>https://twitter.com/elonmusk/status/1428808713...</td>\n",
       "      <td>NaN</td>\n",
       "      <td>0</td>\n",
       "      <td>NaN</td>\n",
       "      <td>[]</td>\n",
       "    </tr>\n",
       "    <tr>\n",
       "      <th>4</th>\n",
       "      <td>2011-12-03 04:22:00</td>\n",
       "      <td>2011-12-03</td>\n",
       "      <td>That was a total non sequitur btw</td>\n",
       "      <td>[]</td>\n",
       "      <td>[]</td>\n",
       "      <td>29</td>\n",
       "      <td>6</td>\n",
       "      <td>52</td>\n",
       "      <td>[]</td>\n",
       "      <td>https://twitter.com/elonmusk/status/1428812840...</td>\n",
       "      <td>NaN</td>\n",
       "      <td>0</td>\n",
       "      <td>NaN</td>\n",
       "      <td>[]</td>\n",
       "    </tr>\n",
       "  </tbody>\n",
       "</table>\n",
       "</div>"
      ],
      "text/plain": [
       "           created_at        date  \\\n",
       "0 2010-06-04 16:31:57  2010-06-04   \n",
       "1 2011-12-01 05:55:01  2011-12-01   \n",
       "2 2011-12-01 06:29:00  2011-12-01   \n",
       "3 2011-12-03 04:20:02  2011-12-03   \n",
       "4 2011-12-03 04:22:00  2011-12-03   \n",
       "\n",
       "                                               tweet mentions  \\\n",
       "0  Please ignore prior tweets, as that was someon...       []   \n",
       "1  Went to Iceland on Sat to ride bumper cars on ...       []   \n",
       "2  I made the volume on the Model S  http://t.co/...       []   \n",
       "3  Great Voltaire quote, arguably better than Twa...       []   \n",
       "4                  That was a total non sequitur btw       []   \n",
       "\n",
       "                      urls  replies_count  retweets_count  likes_count  \\\n",
       "0                       []            398             349         4710   \n",
       "1                       []             31              16          191   \n",
       "2  ['http://ow.ly/i/mtD7']             31               9           79   \n",
       "3                       []              7              24           30   \n",
       "4                       []             29               6           52   \n",
       "\n",
       "  hashtags                                               link quote_url  \\\n",
       "0       []    https://twitter.com/elonmusk/status/15434727182       NaN   \n",
       "1       []  https://twitter.com/elonmusk/status/1421799282...       NaN   \n",
       "2       []  https://twitter.com/elonmusk/status/1421884581...       NaN   \n",
       "3       []  https://twitter.com/elonmusk/status/1428808713...       NaN   \n",
       "4       []  https://twitter.com/elonmusk/status/1428812840...       NaN   \n",
       "\n",
       "   video                                        thumbnail reply_to  \n",
       "0      0                                              NaN       []  \n",
       "1      1  https://pbs.twimg.com/media/Afkf5DMCAAEJGFr.jpg       []  \n",
       "2      0                                              NaN       []  \n",
       "3      0                                              NaN       []  \n",
       "4      0                                              NaN       []  "
      ]
     },
     "execution_count": 34,
     "metadata": {},
     "output_type": "execute_result"
    }
   ],
   "source": [
    "tweets.head()"
   ]
  },
  {
   "cell_type": "code",
   "execution_count": 35,
   "id": "5364a6b8",
   "metadata": {},
   "outputs": [],
   "source": [
    "tweets.to_csv('tweets_clean.csv', index=False)"
   ]
  },
  {
   "cell_type": "markdown",
   "id": "931d8239",
   "metadata": {},
   "source": [
    "## Some EDA on number of tweets"
   ]
  },
  {
   "cell_type": "code",
   "execution_count": 36,
   "id": "28a6f62f",
   "metadata": {},
   "outputs": [
    {
     "data": {
      "image/png": "[encoded data removed]",
      "text/plain": [
       "<Figure size 640x480 with 1 Axes>"
      ]
     },
     "metadata": {},
     "output_type": "display_data"
    }
   ],
   "source": [
    "# group by date and get the count of values per date\n",
    "tweets_counts = tweets.groupby('date').size().reset_index(name='count')\n",
    "\n",
    "# plot bar chart\n",
    "plt.bar(tweets_counts['date'],tweets_counts['count'])\n",
    "plt.xlabel('Date')\n",
    "plt.ylabel('Count')\n",
    "plt.title('Count of tweets per Date')\n",
    "plt.show()"
   ]
  },
  {
   "cell_type": "code",
   "execution_count": 37,
   "id": "b7894d44",
   "metadata": {},
   "outputs": [
    {
     "name": "stdout",
     "output_type": "stream",
     "text": [
      "Max number of tweets per day: 53 \n",
      "Min number of tweets per day: 1\n"
     ]
    }
   ],
   "source": [
    "print('Max number of tweets per day:',tweets_counts['count'].max(),'\\nMin number of tweets per day:',tweets_counts['count'].min())"
   ]
  },
  {
   "cell_type": "code",
   "execution_count": 38,
   "id": "145caf55",
   "metadata": {},
   "outputs": [
    {
     "data": {
      "text/plain": [
       "(2001, 2)"
      ]
     },
     "execution_count": 38,
     "metadata": {},
     "output_type": "execute_result"
    }
   ],
   "source": [
    "tweets_counts.shape"
   ]
  },
  {
   "cell_type": "code",
   "execution_count": 39,
   "id": "f7e683a0",
   "metadata": {},
   "outputs": [
    {
     "data": {
      "text/plain": [
       "array([ 1,  2,  6,  4,  3,  5, 10,  9,  7,  8, 12, 13, 11, 31, 14, 18, 19,\n",
       "       21, 20, 16, 46, 44, 17, 15, 23, 28, 33, 30, 29, 53, 27, 26, 25, 22,\n",
       "       34, 42, 41, 24, 35], dtype=int64)"
      ]
     },
     "execution_count": 39,
     "metadata": {},
     "output_type": "execute_result"
    }
   ],
   "source": [
    "tweets_counts['count'].unique()"
   ]
  },
  {
   "cell_type": "code",
   "execution_count": 40,
   "id": "959f3497",
   "metadata": {},
   "outputs": [
    {
     "data": {
      "image/png": "[encoded data removed]",
      "text/plain": [
       "<Figure size 640x480 with 1 Axes>"
      ]
     },
     "metadata": {},
     "output_type": "display_data"
    }
   ],
   "source": [
    "tweets_counts_counts = tweets_counts.groupby('count').size().reset_index(name='count_of_count')\n",
    "# plot bar chart\n",
    "plt.bar(tweets_counts_counts['count'],tweets_counts_counts['count_of_count'])\n",
    "plt.xlabel('count')\n",
    "plt.ylabel('count_of_count')\n",
    "plt.title('Distribution of number of tweets')\n",
    "plt.show()"
   ]
  },
  {
   "cell_type": "code",
   "execution_count": 41,
   "id": "097b236d",
   "metadata": {},
   "outputs": [],
   "source": [
    "# Defining a function to convert string to datetime and apply to date col\n",
    "def str_to_datetime(x):\n",
    "    return datetime.strptime(x, '%Y-%m-%d')\n",
    "\n",
    "tweets['date']=tweets['date'].apply(lambda x: str_to_datetime(x))"
   ]
  },
  {
   "cell_type": "code",
   "execution_count": 42,
   "id": "516d1552",
   "metadata": {},
   "outputs": [],
   "source": [
    "tweets_counts['date']=tweets_counts['date'].apply(lambda x: str_to_datetime(x))"
   ]
  },
  {
   "cell_type": "code",
   "execution_count": 43,
   "id": "e163a52d",
   "metadata": {},
   "outputs": [
    {
     "data": {
      "text/plain": [
       "(Timestamp('2010-06-04 00:00:00'), Timestamp('2021-04-17 00:00:00'))"
      ]
     },
     "execution_count": 43,
     "metadata": {},
     "output_type": "execute_result"
    }
   ],
   "source": [
    "start_date = tweets['date'].min()\n",
    "end_date = tweets['date'].max()\n",
    "start_date, end_date"
   ]
  },
  {
   "cell_type": "code",
   "execution_count": 44,
   "id": "ee391870",
   "metadata": {},
   "outputs": [
    {
     "data": {
      "text/plain": [
       "3971"
      ]
     },
     "execution_count": 44,
     "metadata": {},
     "output_type": "execute_result"
    }
   ],
   "source": [
    "#Number of days between the oldest and newest date\n",
    "days_diff = ((end_date - start_date).days)+1\n",
    "days_diff"
   ]
  },
  {
   "cell_type": "code",
   "execution_count": 45,
   "id": "c4ecf9d5",
   "metadata": {},
   "outputs": [
    {
     "data": {
      "text/plain": [
       "2001"
      ]
     },
     "execution_count": 45,
     "metadata": {},
     "output_type": "execute_result"
    }
   ],
   "source": [
    "#number of day Elon Musk has tweeted sth\n",
    "tweets['date'].nunique()"
   ]
  },
  {
   "cell_type": "code",
   "execution_count": 46,
   "id": "f23343f6",
   "metadata": {},
   "outputs": [
    {
     "data": {
      "text/plain": [
       "1970"
      ]
     },
     "execution_count": 46,
     "metadata": {},
     "output_type": "execute_result"
    }
   ],
   "source": [
    "#number of days he tweeted nothing:\n",
    "days_diff-tweets['date'].nunique()"
   ]
  },
  {
   "cell_type": "markdown",
   "id": "79d3a044",
   "metadata": {},
   "source": [
    "## Adding missing dates to tweets table\n",
    "In those days,  **number of tweets=0**"
   ]
  },
  {
   "cell_type": "code",
   "execution_count": 47,
   "id": "cdf0222c",
   "metadata": {},
   "outputs": [
    {
     "name": "stdout",
     "output_type": "stream",
     "text": [
      "(3971, 2)\n"
     ]
    }
   ],
   "source": [
    "# create a time index from '2010-06-04' to '2021-04-17'\n",
    "date = pd.date_range(start='2010-06-04', end='2021-04-17', freq='D')\n",
    "\n",
    "# create a dataframe with zeros and the time index\n",
    "df = pd.DataFrame(np.zeros((len(date), 1)), index=date, columns=['value'])\n",
    "\n",
    "df = df.reset_index().rename(columns={'index': 'date'})\n",
    "\n",
    "# display the resulting dataframe\n",
    "print(df.shape)"
   ]
  },
  {
   "cell_type": "code",
   "execution_count": 48,
   "id": "d4abaaa2",
   "metadata": {
    "scrolled": false
   },
   "outputs": [
    {
     "data": {
      "text/html": [
       "<div>\n",
       "<style scoped>\n",
       "    .dataframe tbody tr th:only-of-type {\n",
       "        vertical-align: middle;\n",
       "    }\n",
       "\n",
       "    .dataframe tbody tr th {\n",
       "        vertical-align: top;\n",
       "    }\n",
       "\n",
       "    .dataframe thead th {\n",
       "        text-align: right;\n",
       "    }\n",
       "</style>\n",
       "<table border=\"1\" class=\"dataframe\">\n",
       "  <thead>\n",
       "    <tr style=\"text-align: right;\">\n",
       "      <th></th>\n",
       "      <th>date</th>\n",
       "      <th>value</th>\n",
       "    </tr>\n",
       "  </thead>\n",
       "  <tbody>\n",
       "    <tr>\n",
       "      <th>0</th>\n",
       "      <td>2010-06-04</td>\n",
       "      <td>0.0</td>\n",
       "    </tr>\n",
       "  </tbody>\n",
       "</table>\n",
       "</div>"
      ],
      "text/plain": [
       "        date  value\n",
       "0 2010-06-04    0.0"
      ]
     },
     "execution_count": 48,
     "metadata": {},
     "output_type": "execute_result"
    }
   ],
   "source": [
    "df.head(1)"
   ]
  },
  {
   "cell_type": "code",
   "execution_count": 49,
   "id": "42a885ca",
   "metadata": {},
   "outputs": [
    {
     "data": {
      "text/plain": [
       "(13108, 15)"
      ]
     },
     "execution_count": 49,
     "metadata": {},
     "output_type": "execute_result"
    }
   ],
   "source": [
    "# perform outer join on 'date' column\n",
    "tweets_all_dates= pd.merge(df, tweets, on='date', how='outer')\n",
    "\n",
    "# display result\n",
    "tweets_all_dates.shape"
   ]
  },
  {
   "cell_type": "code",
   "execution_count": 50,
   "id": "b830b927",
   "metadata": {},
   "outputs": [],
   "source": [
    "tweets_all_dates = tweets_all_dates.drop('value', axis=1)"
   ]
  },
  {
   "cell_type": "code",
   "execution_count": 51,
   "id": "b5450d0e",
   "metadata": {},
   "outputs": [],
   "source": [
    "tweets_all_dates['tweet']=tweets_all_dates['tweet'].fillna(0)"
   ]
  },
  {
   "cell_type": "code",
   "execution_count": 52,
   "id": "22fadf44",
   "metadata": {},
   "outputs": [],
   "source": [
    "#saving the table\n",
    "tweets_all_dates.to_csv('tweets_all_dates.csv', index=False)"
   ]
  },
  {
   "cell_type": "markdown",
   "id": "1d931ce2",
   "metadata": {},
   "source": [
    "## Some EDA with tweets in all dates"
   ]
  },
  {
   "cell_type": "code",
   "execution_count": 53,
   "id": "fd520444",
   "metadata": {},
   "outputs": [
    {
     "name": "stdout",
     "output_type": "stream",
     "text": [
      "        date  count  value\n",
      "0 2010-06-04    1.0    0.0\n"
     ]
    }
   ],
   "source": [
    "# perform outer join on 'date' column with tweets_counts table\n",
    "tweets_all_date_count= pd.merge(tweets_counts,df, on='date', how='outer')\n",
    "\n",
    "# display result\n",
    "print(tweets_all_date_count.head(1))"
   ]
  },
  {
   "cell_type": "code",
   "execution_count": 54,
   "id": "0fd3631d",
   "metadata": {},
   "outputs": [],
   "source": [
    "tweets_all_date_count['count']=tweets_all_date_count['count'].fillna(0)"
   ]
  },
  {
   "cell_type": "code",
   "execution_count": 55,
   "id": "6f03054b",
   "metadata": {},
   "outputs": [],
   "source": [
    "#Remove redundant col of value\n",
    "tweets_all_date_count = tweets_all_date_count.drop('value', axis=1)\n",
    "# Sorting values chronologically\n",
    "tweets_all_date_count = tweets_all_date_count.sort_values(by='date')\n",
    "# Making time index\n",
    "tweets_all_date_count = tweets_all_date_count.set_index('date')"
   ]
  },
  {
   "cell_type": "code",
   "execution_count": 56,
   "id": "1d75c25c",
   "metadata": {},
   "outputs": [
    {
     "data": {
      "text/plain": [
       "(3971, 1)"
      ]
     },
     "execution_count": 56,
     "metadata": {},
     "output_type": "execute_result"
    }
   ],
   "source": [
    "tweets_all_date_count.shape"
   ]
  },
  {
   "cell_type": "code",
   "execution_count": 57,
   "id": "e8cb5ef8",
   "metadata": {},
   "outputs": [
    {
     "data": {
      "image/png": "[encoded data removed]",
      "text/plain": [
       "<Figure size 1000x400 with 1 Axes>"
      ]
     },
     "metadata": {},
     "output_type": "display_data"
    }
   ],
   "source": [
    "#tweet counts per day over time\n",
    "fig, ax = plt.subplots(figsize=(10,4))\n",
    "ax.plot(tweets_all_date_count)\n",
    "plt.show()"
   ]
  },
  {
   "cell_type": "code",
   "execution_count": 58,
   "id": "b016e614",
   "metadata": {},
   "outputs": [
    {
     "data": {
      "image/png": "[encoded data removed]",
      "text/plain": [
       "<Figure size 1000x400 with 1 Axes>"
      ]
     },
     "metadata": {},
     "output_type": "display_data"
    }
   ],
   "source": [
    "#tweet counts per month over time\n",
    "fig, ax = plt.subplots(figsize=(10,4))\n",
    "\n",
    "monthly_sum = tweets_all_date_count.resample('M').sum()\n",
    "ax.plot(monthly_sum ,'.')\n",
    "\n",
    "plt.show()"
   ]
  },
  {
   "cell_type": "markdown",
   "id": "83e9fa38",
   "metadata": {},
   "source": [
    "--------------------------"
   ]
  }
 ],
 "metadata": {
  "kernelspec": {
   "display_name": "Python 3 (ipykernel)",
   "language": "python",
   "name": "python3"
  },
  "language_info": {
   "codemirror_mode": {
    "name": "ipython",
    "version": 3
   },
   "file_extension": ".py",
   "mimetype": "text/x-python",
   "name": "python",
   "nbconvert_exporter": "python",
   "pygments_lexer": "ipython3",
   "version": "3.9.13"
  }
 },
 "nbformat": 4,
 "nbformat_minor": 5
}
